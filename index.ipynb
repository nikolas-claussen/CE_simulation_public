{
 "cells": [
  {
   "cell_type": "markdown",
   "metadata": {},
   "source": [
    "# CE_simulation\n",
    "\n",
    "> discrete simulation of tension+isogonal modes model of epithelial dynamics\n",
    "\n",
    "Paper: [Epithelial flow by controlled transformation of internal force-balance geometry](https://www.biorxiv.org/content/10.1101/2023.05.30.542935v1)"
   ]
  },
  {
   "cell_type": "markdown",
   "metadata": {},
   "source": [
    "## Install"
   ]
  },
  {
   "cell_type": "markdown",
   "metadata": {},
   "source": [
    "#### Dependencies\n",
    "\n",
    "- Developed using `python 3.9`\n",
    "- The basics: `numpy, matplotlib, scipy` - should be contained in your anaconda install\n",
    "- `jupyter`: if you are reading this, you probably already have that installed.\n",
    "- `JAX` version `0.3.25`, used to automatically differentiate energy functions for optimization\n",
    "- `nbdev, fastcore, nptyping`. These libraries are used for development purposes: \n",
    "    - `nbdev` is the jupyter-notebook development environment used to generate modules from jupyter notebooks, see https://nbdev.fast.ai/.\n",
    "    - `fastcore` offers helpful add-ons for notebook-based development, e.g. `@patch`. See https://fastcore.fast.ai/\n",
    "    - `nptyping` allows to add type hints to array variables (e.g. `trace(x: NDArray[Shape[\"2,2\"], Float]) -> float`\n",
    "- `ipywidgets, tqdm` for interactive plots and progress bars in jupyter notebooks\n",
    "- `joblib` for parallelizing simulation runs\n",
    "\n",
    "#### Installing the  modules\n",
    "\n",
    "To install the modules, run \n",
    "\n",
    "```sh\n",
    "pip install CE_simulation\n",
    "```\n",
    "or, from within the module directory,\n",
    "```sh\n",
    "pip install -e '.[dev]'\n",
    "```\n",
    "in case you want to continue modifying the code.\n"
   ]
  },
  {
   "cell_type": "markdown",
   "metadata": {},
   "source": [
    "## Overview\n",
    "\n",
    "The code is organized as follows. Notebooks marked [WIP] are currently work in progress:\n",
    "\n",
    "- `00_triangle_data_structure` defines the data structure used to model 2d epithelial sheets, the `HalfEdgeMesh`. It takes care of book-keeping (which cell has what coordinates? which cell-cell junction connects which edges) and provides routines for analysis of tissue geometry.\n",
    "\n",
    "- `01_tension_time_evolution` uses the `HalfEdgeMesh` to model the time evolution of the tension triangulation. This is done in two steps:\n",
    "    - Autonomous dynamics of junction intrinsic active & passive tensions\n",
    "    - A \"flattening\" step, which ensures the tension triangulation remains flat.\n",
    "    \n",
    "- `02_delaunay_simulation` shows an example simulation work flow, using the Voronoi construction to compute the primal cell vertices from the triangulation\n",
    "\n",
    "- `03_real_shape_optimization` defines routines for computing the primal cell vertex positions by constrained minimization cell-shape elasticity\n",
    "    \n",
    "- `04_drosophila_simulation` contains a complete simulation of an idealized _Drosophila_ germ band. `04a` is a copy of `04`, to be used as playground.\n",
    "    - There is also a sample script to run a simulation from a terminal based on notebook `04`, `run_simulation.py`.\n",
    "    - Further notebooks in the `04` series are specific simulation experiments\n",
    "\n",
    "- `05_periodic_bcs`, TO BE DONE - periodic boundary conditions\n",
    "\n",
    "- `06_isogonal_hessian` [WIP] studies the projection of cell elastic energy onto the space of isogonal modes and contains tools to compute & apply isogonal transformations.\n",
    "\n",
    "- `07_from_segmentation` uses morphological image processing to read in a provided cell segmentation (as image) into the half-edge mesh data structure for analysis (e.g. force inference)\n",
    "\n",
    "- `08_active_isogonal_modes` [WIP] \n",
    "\n",
    "- `09_disorder_phase_diagram` uses Markov Chain sampling of hard disks to create initial conditions with varying amount of (dis)order, and creates a phase diagram of tissue extension vs initial anisotropy and order.\n",
    "\n",
    "- `10_JAX_CUDA_GPU` [WIP] looks into using GPU acceleration. Currently not recommened (speed-up is not worth the extra hassle).\n",
    "\n",
    "- `11_saturating_feedback` investigates the influence of the microscopic tension dynamics by comparing saturating and non-saturating tension feedback.\n",
    "\n",
    "- `12_experimental_data_triangulations` creates whole-tissue triangulations based on experimental data from the Drosophila germ band.\n",
    "\n",
    "- `13_ltc_distribution_analysis` analyses the dynamics of the LTC order parameter. `13c` contains a parameter scan of the model\n",
    "\n",
    "- `14_mean_field_model_anisotropy` [WIP] is some preliminary work on a mean field model of triangulation dynamics.\n",
    "\n",
    "\n",
    "The code is written in object-oriented style - the central class being the `HalfEdgeMesh` and its subclasses, which should make writing new simulations and/or analysis code relatively straightforward.\n",
    "\n",
    "However, the code has two major \"cruxes\", which you need to understand if you want to carry out major modifications:\n",
    "- The `HalfEdgeMesh` data structure and its implementation. The implementation is somewhat subtle because python does have proper pointers.\n",
    "- The energy optimization routines. To use automatic differentiation and efficient numerical optimizers, we need to \"serialize\" a mesh into a set of arrays, which can be a bit finicky.\n",
    "\n",
    "To get started, it's probably best to work through the notebooks in order."
   ]
  },
  {
   "cell_type": "code",
   "execution_count": null,
   "metadata": {},
   "outputs": [],
   "source": []
  }
 ],
 "metadata": {
  "kernelspec": {
   "display_name": "Python 3 (ipykernel)",
   "language": "python",
   "name": "python3"
  }
 },
 "nbformat": 4,
 "nbformat_minor": 4
}
