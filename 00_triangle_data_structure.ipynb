{
 "cells": [
  {
   "cell_type": "markdown",
   "metadata": {},
   "source": [
    "# triangle_data_structure\n",
    "\n",
    "> Data structure for triangulation\n",
    "\n",
    "See https://cs184.eecs.berkeley.edu/public/sp22/lectures/lec-8-mesh-representations-and-geometr/lec-8-mesh-representations-and-geometr.pdf\n",
    "\n",
    "None of the methods below are optimized, and on many occasions, things are linear/quadratic in the mesh size even though they need not be, because it was the easiest solution"
   ]
  },
  {
   "cell_type": "code",
   "execution_count": null,
   "metadata": {},
   "outputs": [],
   "source": [
    "#| default_exp triangle"
   ]
  },
  {
   "cell_type": "code",
   "execution_count": null,
   "metadata": {},
   "outputs": [],
   "source": [
    "#| hide\n",
    "from nbdev.showdoc import *\n",
    "import nbdev"
   ]
  },
  {
   "cell_type": "code",
   "execution_count": null,
   "metadata": {},
   "outputs": [],
   "source": [
    "#| hide\n",
    "import os\n",
    "import numpy as np\n",
    "import matplotlib.pyplot as plt\n",
    "import matplotlib as mpl\n",
    "\n",
    "from scipy import spatial"
   ]
  },
  {
   "cell_type": "code",
   "execution_count": null,
   "metadata": {},
   "outputs": [],
   "source": [
    "#| hide\n",
    "from collections import defaultdict"
   ]
  },
  {
   "cell_type": "code",
   "execution_count": null,
   "metadata": {},
   "outputs": [],
   "source": [
    "#| hide\n",
    "\n",
    "from dataclasses import dataclass\n",
    "from typing import Union, Dict, List, Tuple, Iterable\n",
    "from nptyping import NDArray, Int, Float, Shape\n",
    "\n",
    "from fastcore.foundation import patch"
   ]
  },
  {
   "cell_type": "markdown",
   "metadata": {},
   "source": [
    "## helper functions"
   ]
  },
  {
   "cell_type": "code",
   "execution_count": null,
   "metadata": {},
   "outputs": [],
   "source": [
    "#| export\n",
    "\n",
    "def removekey(d, key):\n",
    "    r = dict(d)\n",
    "    del r[key]\n",
    "    return r"
   ]
  },
  {
   "cell_type": "code",
   "execution_count": null,
   "metadata": {},
   "outputs": [],
   "source": [
    "#| hide\n",
    "from bisect import bisect_left"
   ]
  },
  {
   "cell_type": "code",
   "execution_count": null,
   "metadata": {},
   "outputs": [
    {
     "data": {
      "text/plain": [
       "2"
      ]
     },
     "execution_count": null,
     "metadata": {},
     "output_type": "execute_result"
    }
   ],
   "source": [
    "bisect_left([-1, 0, 1, 2], 1)"
   ]
  },
  {
   "cell_type": "code",
   "execution_count": null,
   "metadata": {},
   "outputs": [],
   "source": [
    "#| export\n",
    "def flatten(lst, max_depth=1000, iter_count=0):\n",
    "    \"\"\"\n",
    "    Flatten a list of lists into a list.\n",
    "\n",
    "    Also works with inhomogeneous lists, e.g., [[0,1],2]. The argument\n",
    "    depth determines how \"deep\" to flatten the list, e.g. with max_depth=1:\n",
    "    [[(1,0), (1,0)]] -> [(1,0), (1,0)].\n",
    "\n",
    "    Parameters\n",
    "    ----------\n",
    "    lst : list\n",
    "        list-of-lists.\n",
    "    max_depth : int, optional\n",
    "        To what depth to flatten the list.\n",
    "    iter_count : int, optional\n",
    "        Helper argument for recursion depth determination.\n",
    "    Returns\n",
    "    -------\n",
    "    iterator\n",
    "        flattened list.\n",
    "\n",
    "    \"\"\"\n",
    "    for el in lst:\n",
    "        if (isinstance(el, Iterable) and not isinstance(el, (str, bytes))\n",
    "                and iter_count < max_depth):\n",
    "            yield from flatten(el, max_depth=max_depth,\n",
    "                               iter_count=iter_count+1)\n",
    "        else:\n",
    "            yield el"
   ]
  },
  {
   "cell_type": "code",
   "execution_count": null,
   "metadata": {},
   "outputs": [],
   "source": [
    "#| export\n",
    "def sort_vertices(vertices: np.ndarray) -> np.ndarray:\n",
    "    \"\"\"Sort vertices of cycle counter clockwise by polar angle. Guaranteed to work for non-convex polygons.\"\"\"\n",
    "    vertices -= np.mean(vertices, axis=0) # center\n",
    "    phis = [np.arctan2(*x[::-1]) for x in vertices]\n",
    "    return np.stack([x for _, x in sorted(zip(phis, vertices))])\n",
    "\n",
    "def sort_ids_by_vertices(ids: Iterable[int], vertices: Iterable[NDArray]) -> list:\n",
    "    \"\"\"Like sort_vertices, sort ids of cycle counter clockwise by polar angle.\"\"\"\n",
    "    vertices -= np.mean(vertices, axis=0) # vertices\n",
    "    phis = [np.arctan2(*x[::-1]) for x in vertices]\n",
    "    return [x for _, x in sorted(zip(phis, ids))]"
   ]
  },
  {
   "cell_type": "code",
   "execution_count": null,
   "metadata": {},
   "outputs": [
    {
     "data": {
      "image/png": "[encoded data removed]",
      "text/plain": [
       "<Figure size 432x288 with 1 Axes>"
      ]
     },
     "metadata": {
      "needs_background": "light"
     },
     "output_type": "display_data"
    },
    {
     "data": {
      "image/png": "[encoded data removed]",
      "text/plain": [
       "<Figure size 432x288 with 1 Axes>"
      ]
     },
     "metadata": {
      "needs_background": "light"
     },
     "output_type": "display_data"
    }
   ],
   "source": [
    "pts = np.array([[1,-1.4], [-1, 0], [1.5, 2], [2, -.3], [-1, -2]])\n",
    "\n",
    "plt.scatter(*pts.T, c=np.arange(5))\n",
    "plt.axis(\"equal\")\n",
    "plt.show()\n",
    "\n",
    "pts_sorted = sort_vertices(pts)\n",
    "\n",
    "plt.scatter(*pts_sorted.T, c=np.arange(5))\n",
    "plt.axis(\"equal\")\n",
    "plt.show()"
   ]
  },
  {
   "cell_type": "markdown",
   "metadata": {},
   "source": [
    "## create some test data using scipy"
   ]
  },
  {
   "cell_type": "code",
   "execution_count": null,
   "metadata": {},
   "outputs": [
    {
     "data": {
      "image/png": "[encoded data removed]",
      "text/plain": [
       "<Figure size 432x288 with 1 Axes>"
      ]
     },
     "metadata": {
      "needs_background": "light"
     },
     "output_type": "display_data"
    }
   ],
   "source": [
    "points = np.array([[0, 0], [0, 1.1], [1, 0], [1, 1]])\n",
    "\n",
    "tri = spatial.Delaunay(points)\n",
    "\n",
    "plt.triplot(points[:,0], points[:,1], tri.simplices)\n",
    "plt.plot(points[:,0], points[:,1], 'o')\n",
    "\n",
    "plt.show()"
   ]
  },
  {
   "cell_type": "code",
   "execution_count": null,
   "metadata": {},
   "outputs": [
    {
     "data": {
      "text/plain": [
       "(array([[0. , 0. ],\n",
       "        [0. , 1.1],\n",
       "        [1. , 0. ],\n",
       "        [1. , 1. ]]),\n",
       " array([[2, 3, 0],\n",
       "        [3, 1, 0]], dtype=int32),\n",
       " array([[ 1, -1, -1],\n",
       "        [-1,  0, -1]], dtype=int32))"
      ]
     },
     "execution_count": null,
     "metadata": {},
     "output_type": "execute_result"
    }
   ],
   "source": [
    "# attributes\n",
    "\n",
    "tri.points, tri.simplices, tri.neighbors"
   ]
  },
  {
   "cell_type": "code",
   "execution_count": null,
   "metadata": {},
   "outputs": [
    {
     "data": {
      "text/plain": [
       "(<bound method Delaunay.find_simplex of <scipy.spatial._qhull.Delaunay object>>,\n",
       " <bound method Delaunay.add_points of <scipy.spatial._qhull.Delaunay object>>)"
      ]
     },
     "execution_count": null,
     "metadata": {},
     "output_type": "execute_result"
    }
   ],
   "source": [
    "# methods\n",
    "\n",
    "tri.find_simplex, tri.add_points"
   ]
  },
  {
   "cell_type": "markdown",
   "metadata": {},
   "source": [
    "## List of Pts + Triangles\n",
    "\n",
    "Simplest data structure for a triangulation:\n",
    "\n",
    "- Vertices = [($x_0$,$y_0$), ... ]\n",
    "- Triangles = [(vertex id 1, vertex id 2, vertex id 3), ...]\n",
    "\n",
    "From this data, one can compute the neighbor relationship of triangles\n",
    "- Triangle neighbors = [(triangle id 1, triangle id 2, triangle id 3), ...]\n",
    "\n",
    "How should we index things? We want to be able to refer to points and faces consistently over time series of meshes, so just using their index in the list is no good. We shall use dictionaries instead."
   ]
  },
  {
   "cell_type": "markdown",
   "metadata": {},
   "source": [
    "For future reference, we will make the faces oriented _counterclockwise_. This matches the convention of the `.obj` file format."
   ]
  },
  {
   "cell_type": "code",
   "execution_count": null,
   "metadata": {},
   "outputs": [],
   "source": [
    "#| export\n",
    "\n",
    "def get_neighbors(faces):\n",
    "    \"\"\"compute neighbor list by checking which triangles share 2 vertices.\"\"\"\n",
    "    edge_dict = defaultdict(list)\n",
    "    for key, fc in faces.items():\n",
    "        edges = [tuple(sorted((fc+[fc[0]])[i:i+2])) for i in range(len(fc))]\n",
    "        [edge_dict[e].append(key) for e in edges]\n",
    "\n",
    "    neighbors = defaultdict(list)\n",
    "    for edge, fcs in edge_dict.items():\n",
    "        if len(fcs) == 2:\n",
    "            neighbors[fcs[0]].append(fcs[1])\n",
    "            neighbors[fcs[1]].append(fcs[0])\n",
    "    return neighbors"
   ]
  },
  {
   "cell_type": "code",
   "execution_count": null,
   "metadata": {},
   "outputs": [],
   "source": [
    "#| export\n",
    "\n",
    "class ListOfVerticesAndFaces:\n",
    "    def __init__(self, vertices, faces, neighbors=None):\n",
    "        # if we pass lists, automatically assign ids to triangles and vertices\n",
    "        vertices = vertices if type(vertices) is dict else {ix: x for ix, x in enumerate(vertices)}\n",
    "        faces = faces if type(faces) is dict else {ix: x for ix, x in enumerate(faces)}\n",
    "        # ensure that all triangles are ordered cc-wise\n",
    "        faces = {key: sort_ids_by_vertices(fc, [vertices[x] for x in fc])\n",
    "                 for key, fc in faces.items()}\n",
    "        self.vertices, self.faces = (vertices, faces)\n",
    "        self.neighbors = get_neighbors(faces) if neighbors is None else neighbors\n",
    "        \n",
    "    # some basic methods\n",
    "    def remove_vertex(self, v_id):\n",
    "        del self.vertices[v_id]\n",
    "        self.faces = {key: face for key, face in self.faces.items() if not v_id in face}\n",
    "        self.neighbors = get_neighbors(self.faces)\n",
    "        \n",
    "    def get_combined_edges(self):\n",
    "        \"\"\"Get a list of unique edges. Edges are a tuple ((vert 1, vert 2), (face 1, face 2)). Boundary edges \n",
    "        have face 1 None.\"\"\"\n",
    "        combined_edges = []\n",
    "        for fc_key, fc in self.faces.items():\n",
    "            neighbors = self.neighbors[fc_key]\n",
    "            vertex_edges = [(fc+[fc[0]])[i:i+2] for i in range(len(fc))]\n",
    "            for vertex_edge in vertex_edges:\n",
    "                # check if it is shared with neighbor\n",
    "                other_key = [nghb for nghb in neighbors if all([v in self.faces[nghb] for v in vertex_edge])]\n",
    "                face_edge = sorted([fc_key, other_key[0]]) if other_key != [] else (None, fc_key)\n",
    "                combined_edge = (tuple(sorted(vertex_edge)), tuple(face_edge))\n",
    "                combined_edges.append(combined_edge)\n",
    "        return set(combined_edges)\n",
    "        \n",
    "    @staticmethod\n",
    "    def fromObj(fname):\n",
    "        \"\"\"Read from .onj file. If {fname}_ids.txt is present, read ids from that.\"\"\"\n",
    "        with open(fname+'.obj') as f:\n",
    "            lns = f.readlines()\n",
    "            vertices = [np.array([float(x) for x in ln[2:-1].split(\" \")])[:2] # remove z-coord\n",
    "                        for ln in lns if ln.startswith(\"v\")]\n",
    "            faces = [[int(x)-1 for x in ln[2:-1].split(\" \")] # to start counting from 0 again\n",
    "                      for ln in lns if ln.startswith(\"f\")]\n",
    "        if os.path.isfile(fname+'_ids.txt'): # read ids if defined\n",
    "            with open(fname+'_ids.txt') as f:\n",
    "                lns = f.readlines()\n",
    "                vertex_ids = [int(ln[2:-1]) for ln in lns if ln.startswith(\"v\")]\n",
    "                face_ids = [int(ln[2:-1]) for ln in lns if ln.startswith(\"f\")]\n",
    "            vertices = {v_id: v for v_id, v in zip(vertex_ids, vertices)}\n",
    "            faces = {fcid: fc for fcid, fc in zip(face_ids, faces)}\n",
    "        return ListOfVerticesAndFaces(vertices, faces)"
   ]
  },
  {
   "cell_type": "code",
   "execution_count": null,
   "metadata": {},
   "outputs": [],
   "source": [
    "test_mesh = ListOfVerticesAndFaces(list(tri.points), list(tri.simplices))"
   ]
  },
  {
   "cell_type": "code",
   "execution_count": null,
   "metadata": {},
   "outputs": [
    {
     "data": {
      "text/plain": [
       "{0: [0, 2, 3], 1: [0, 3, 1]}"
      ]
     },
     "execution_count": null,
     "metadata": {},
     "output_type": "execute_result"
    }
   ],
   "source": [
    "test_mesh.faces"
   ]
  },
  {
   "cell_type": "code",
   "execution_count": null,
   "metadata": {},
   "outputs": [
    {
     "data": {
      "text/plain": [
       "{0: array([0., 0.]),\n",
       " 1: array([0. , 1.1]),\n",
       " 2: array([1., 0.]),\n",
       " 3: array([1., 1.])}"
      ]
     },
     "execution_count": null,
     "metadata": {},
     "output_type": "execute_result"
    }
   ],
   "source": [
    "test_mesh.vertices"
   ]
  },
  {
   "cell_type": "code",
   "execution_count": null,
   "metadata": {},
   "outputs": [
    {
     "data": {
      "text/plain": [
       "defaultdict(list, {0: [1], 1: [0]})"
      ]
     },
     "execution_count": null,
     "metadata": {},
     "output_type": "execute_result"
    }
   ],
   "source": [
    "test_mesh.neighbors"
   ]
  },
  {
   "cell_type": "code",
   "execution_count": null,
   "metadata": {},
   "outputs": [],
   "source": [
    "#| export\n",
    "@patch\n",
    "def saveObj(self:ListOfVerticesAndFaces, fname, save_ids=False):\n",
    "    \"\"\"save as obj file. .obj automatically appended to fname. If save_ids is True, also save a list\n",
    "    of vertex and face ids.\"\"\"\n",
    "    # create a sorted list of vertices\n",
    "    vertex_keys = sorted(self.vertices.keys())\n",
    "    vertex_list = [self.vertices[key] for key in vertex_keys]\n",
    "    # change faces list to refer to this ordered list. Counting from 1 for .obj\n",
    "    face_keys = sorted(self.faces.keys())\n",
    "    faces_list = [[bisect_left(vertex_keys, v)+1 for v in self.faces[key]] for key in face_keys]\n",
    "    # overwrite\n",
    "    try:\n",
    "        os.remove(fname+\".obj\")\n",
    "    except OSError:\n",
    "        pass\n",
    "    # write\n",
    "    with open(fname+\".obj\", \"a\") as f:\n",
    "        f.write('# vertices\\n')\n",
    "        for pt in vertex_list:\n",
    "            to_write = ' '.join(['v'] + [str(x) for x in pt] + ['0']) + '\\n'  # include z-ccoord\n",
    "            f.write(to_write)\n",
    "        f.write('# faces\\n')\n",
    "        for fc in faces_list:\n",
    "            to_write = ' '.join(['f'] + [str(x) for x in fc]) + '\\n'\n",
    "            f.write(to_write)\n",
    "    if save_ids:\n",
    "        try:\n",
    "            os.remove(fname+\"_ids.txt\")\n",
    "        except OSError:\n",
    "            pass\n",
    "        with open(fname+\"_ids.txt\", \"a\") as f:\n",
    "            f.write('# vertex IDs corresponding to .obj file\\n')\n",
    "            for key in vertex_keys:\n",
    "                f.write('v '+str(key)+'\\n')\n",
    "            f.write('# face IDs corresponding to .obj file\\n')\n",
    "            for key in face_keys:\n",
    "                f.write('f '+str(key)+'\\n')\n"
   ]
  },
  {
   "cell_type": "code",
   "execution_count": null,
   "metadata": {},
   "outputs": [],
   "source": [
    "test_mesh.saveObj('test_mesh', save_ids=True)\n",
    "# tested by opening in paraview, looks good"
   ]
  },
  {
   "attachments": {
    "image.png": {
     "image/png": "[encoded data removed]"
    }
   },
   "cell_type": "markdown",
   "metadata": {},
   "source": [
    "![image.png](attachment:image.png)"
   ]
  },
  {
   "cell_type": "code",
   "execution_count": null,
   "metadata": {},
   "outputs": [
    {
     "data": {
      "text/plain": [
       "({0: [0, 2, 3], 1: [0, 3, 1]}, {0: [0, 2, 3], 1: [0, 3, 1]})"
      ]
     },
     "execution_count": null,
     "metadata": {},
     "output_type": "execute_result"
    }
   ],
   "source": [
    "loaded_mesh = test_mesh.fromObj('test_mesh')\n",
    "loaded_mesh.faces, test_mesh.faces"
   ]
  },
  {
   "cell_type": "code",
   "execution_count": null,
   "metadata": {},
   "outputs": [
    {
     "name": "stdout",
     "output_type": "stream",
     "text": [
      "{0: [0, 2, 3], 1: [0, 3, 1]} defaultdict(<class 'list'>, {0: [1], 1: [0]})\n",
      "{0: [0, 2, 3]} defaultdict(<class 'list'>, {})\n"
     ]
    }
   ],
   "source": [
    "test_mesh = ListOfVerticesAndFaces(list(tri.points), list(tri.simplices))\n",
    "\n",
    "print(test_mesh.faces, test_mesh.neighbors)\n",
    "\n",
    "test_mesh.remove_vertex(1)\n",
    "\n",
    "print(test_mesh.faces, test_mesh.neighbors)"
   ]
  },
  {
   "cell_type": "code",
   "execution_count": null,
   "metadata": {},
   "outputs": [],
   "source": [
    "test_mesh = ListOfVerticesAndFaces(list(tri.points), list(tri.simplices))"
   ]
  },
  {
   "cell_type": "markdown",
   "metadata": {},
   "source": [
    "## Half-edge\n",
    "\n",
    "More complicated operations (e.g. flipping triangles) are a pain to implement with this simple data structure, which furthermore does not contain edges. We now build a half-edge data structure class."
   ]
  },
  {
   "attachments": {
    "image.png": {
     "image/png": "[encoded data removed]"
    }
   },
   "cell_type": "markdown",
   "metadata": {},
   "source": [
    "A half-edge contains the following data:\n",
    "- `next` - the next half edge\n",
    "- `twin` - the twin half edge\n",
    "- `face` - the face it belongs to\n",
    "- `vertices` - start and end vertex\n",
    "\n",
    "![image.png](attachment:image.png)\n",
    "See https://jerryyin.info/geometry-processing-algorithms/half-edge/"
   ]
  },
  {
   "cell_type": "code",
   "execution_count": null,
   "metadata": {},
   "outputs": [],
   "source": [
    "#| export\n",
    "\n",
    "@dataclass\n",
    "class HalfEdge:\n",
    "    \"\"\"Attribute holder class for half edges. Attributes point to other items.\"\"\"\n",
    "    _heid : int\n",
    "    nxt: int\n",
    "    prev: int\n",
    "    twin: int\n",
    "    face: Union[int, None] # None if it's a boundary\n",
    "    vertices: tuple # 0 is origin, 1 is destination\n",
    "        \n",
    "@dataclass\n",
    "class Vertex:\n",
    "    \"\"\"Attribute holder class for vertices. Attributes point to other items. Note: different from the\n",
    "    standard half edge data structure, I store all incident he's, for latter convenience (e.g. force balance)\n",
    "    computation.\"\"\"\n",
    "    _vid : int\n",
    "    coords : NDArray[Shape[\"2\"], Float]\n",
    "    incident : List[HalfEdge]\n",
    "\n",
    "@dataclass\n",
    "class Face:\n",
    "    \"\"\"Attribute holder class for faces. Attributes point to other items.\"\"\"\n",
    "    _fid : int\n",
    "    hes : List[HalfEdge]\n",
    "        \n",
    "@dataclass\n",
    "class Edge:\n",
    "    \"\"\"Attribute holder class for edges. Main point is to use it to store variables for ODE evolution\"\"\"\n",
    "    _eid : int\n",
    "    hes : Tuple[HalfEdge, HalfEdge]\n",
    "    variables : dict\n",
    "        \n",
    "    def __post_init__(self):\n",
    "        assert (self.hes[0].twin == self.hes[1]._heid) and (self.hes[1].twin == self.hes[0]._heid)"
   ]
  },
  {
   "cell_type": "markdown",
   "metadata": {},
   "source": [
    "Design question: `HaldEdge` stores a pointer (`dict` key) to the `next` and `twin`. Replace by directly storing a he? Will result in circular dependencies."
   ]
  },
  {
   "cell_type": "code",
   "execution_count": null,
   "metadata": {},
   "outputs": [
    {
     "data": {
      "text/plain": [
       "Vertex(_vid=10, coords=array([2. , 2.1]), incident=HalfEdge(_heid=10034, nxt=1, prev=2, twin=4, face=2, vertices=(2, 3)))"
      ]
     },
     "execution_count": null,
     "metadata": {},
     "output_type": "execute_result"
    }
   ],
   "source": [
    "he = HalfEdge(10031, 1, 2, 4, 2, (2, 3))\n",
    "\n",
    "v = Vertex(10, np.array([2.0, 2.1]), he)\n",
    "he_new = HalfEdge(10034, 1, 2, 4, 2, (2, 3))\n",
    "\n",
    "v.incident = he_new # we can edit the incident edge\n",
    "v"
   ]
  },
  {
   "cell_type": "code",
   "execution_count": null,
   "metadata": {},
   "outputs": [
    {
     "data": {
      "text/plain": [
       "(True, True)"
      ]
     },
     "execution_count": null,
     "metadata": {},
     "output_type": "execute_result"
    }
   ],
   "source": [
    "v.incident == he_new, not (v.incident == he)"
   ]
  },
  {
   "cell_type": "markdown",
   "metadata": {},
   "source": [
    "The additional data provided by the half-edge mesh structure will be very helpful further on. In order to initialize the half-edge data structure, we use the `ListOfVerticesAndFaces` class from above.\n",
    "\n",
    "TO DO: figure out how to deal with edge id's, edge variables."
   ]
  },
  {
   "cell_type": "markdown",
   "metadata": {},
   "source": [
    "Everything has a lot more boilerplate unfortunately, because I am using `dict`s of objects, and not directly pointers like in a C++ implementation."
   ]
  },
  {
   "cell_type": "markdown",
   "metadata": {},
   "source": [
    "Inspired by: https://github.com/yig/trimesh/blob/master/trimesh.py"
   ]
  },
  {
   "cell_type": "markdown",
   "metadata": {},
   "source": [
    "The first question is how to get the half-edges from the face-list."
   ]
  },
  {
   "cell_type": "code",
   "execution_count": null,
   "metadata": {},
   "outputs": [],
   "source": [
    "#| export\n",
    "def get_half_edges(mesh: ListOfVerticesAndFaces) -> Dict[int, HalfEdge]:\n",
    "    \"\"\"Create list of half-edges from a ListOfVerticesAndFaces mesh\"\"\"\n",
    "    heid_counter = 0\n",
    "    he_vertex_dict = dict()\n",
    "    # first create half edges without their twins by going around each face.\n",
    "    # index them by their vertices to match twins after\n",
    "    for key, fc in mesh.faces.items():\n",
    "        # ensure face is oriented correctly\n",
    "        fc = sort_ids_by_vertices(fc, [mesh.vertices[x] for x in fc])\n",
    "        heids = [heid_counter+i for i in range(len(fc))]\n",
    "        nxts, prevs = (np.roll(heids, +1).tolist(), np.roll(heids, -1).tolist())\n",
    "        vertices = [tuple((fc+[fc[0]])[i:i+2]) for i in range(len(fc))]\n",
    "        for _heid, nxt, prev, verts in zip(heids, nxts, prevs, vertices):\n",
    "             he_vertex_dict[verts] = HalfEdge(_heid, prev, nxt, None, key, verts)\n",
    "        heid_counter += len(fc)\n",
    "    # now match the half-edges. if they cannot match, add a new he with faec None\n",
    "    hes = []\n",
    "    for he1 in he_vertex_dict.values():\n",
    "        try:\n",
    "            he2 = he_vertex_dict[he1.vertices[::-1]]\n",
    "        except KeyError:\n",
    "            he2 = HalfEdge(heid_counter, None, None, he1._heid, None, he1.vertices[::-1])\n",
    "            heid_counter += 1\n",
    "        he1.twin, he2.twin = (he2._heid, he1._heid)\n",
    "        hes.append(he1); hes.append(he2)\n",
    "    # find the \"next\" of the boundary edges. we can just traverse inshallah\n",
    "    bdry = [he for he in hes if he.face is None]\n",
    "    for he1 in bdry:\n",
    "        try:\n",
    "            nxt = next(he2 for he2 in bdry if he1.vertices[1] == he2.vertices[0])\n",
    "            prev = next(he2 for he2 in bdry if he1.vertices[0] == he2.vertices[1])\n",
    "            he1.nxt, he1.prev = (nxt._heid, prev._heid)\n",
    "        except StopIteration:\n",
    "            print(\"Corner detected\")\n",
    "    # turn into dict for easy access\n",
    "    return {he._heid: he for he in hes}"
   ]
  },
  {
   "cell_type": "code",
   "execution_count": null,
   "metadata": {},
   "outputs": [
    {
     "data": {
      "text/plain": [
       "{0: HalfEdge(_heid=0, nxt=1, prev=2, twin=6, face=0, vertices=(0, 2)),\n",
       " 6: HalfEdge(_heid=6, nxt=9, prev=7, twin=0, face=None, vertices=(2, 0)),\n",
       " 1: HalfEdge(_heid=1, nxt=2, prev=0, twin=7, face=0, vertices=(2, 3)),\n",
       " 7: HalfEdge(_heid=7, nxt=6, prev=8, twin=1, face=None, vertices=(3, 2)),\n",
       " 2: HalfEdge(_heid=2, nxt=0, prev=1, twin=3, face=0, vertices=(3, 0)),\n",
       " 3: HalfEdge(_heid=3, nxt=4, prev=5, twin=2, face=1, vertices=(0, 3)),\n",
       " 4: HalfEdge(_heid=4, nxt=5, prev=3, twin=8, face=1, vertices=(3, 1)),\n",
       " 8: HalfEdge(_heid=8, nxt=7, prev=9, twin=4, face=None, vertices=(1, 3)),\n",
       " 5: HalfEdge(_heid=5, nxt=3, prev=4, twin=9, face=1, vertices=(1, 0)),\n",
       " 9: HalfEdge(_heid=9, nxt=8, prev=6, twin=5, face=None, vertices=(0, 1))}"
      ]
     },
     "execution_count": null,
     "metadata": {},
     "output_type": "execute_result"
    }
   ],
   "source": [
    "hes = get_half_edges(test_mesh)\n",
    "hes"
   ]
  },
  {
   "cell_type": "markdown",
   "metadata": {},
   "source": [
    "The `HalfEdgeMesh` data structure needs to contain the following data:\n",
    "\n",
    "- Vertices\n",
    "- Faces\n",
    "- Half-Edges\n",
    "\n",
    "They are once again stored in a `dict` format for easy access."
   ]
  },
  {
   "cell_type": "code",
   "execution_count": null,
   "metadata": {},
   "outputs": [],
   "source": [
    "#| export\n",
    "\n",
    "class HalfEdgeMesh:\n",
    "    def __init__(self, mesh : ListOfVerticesAndFaces):\n",
    "        hes = get_half_edges(mesh)\n",
    "        self.hes = hes\n",
    "        self.faces = {key: Face(key, []) for key in mesh.faces.keys()}\n",
    "        [self.faces[he.face].hes.append(he) for he in hes.values() if he.face is not None]        \n",
    "        self.vertices = {key: Vertex(key, val, []) for key, val in mesh.vertices.items()}\n",
    "        [self.vertices[he.vertices[1]].incident.append(he) for he in hes.values()]\n",
    "        self.edges = {min(he._heid, he.twin): Edge(he._heid, (he, hes[he.twin]), {\"flipped\": False})\n",
    "                      for he in hes.values() if he.vertices[0] < he.vertices[1]}\n",
    "    \n",
    "    def __deepcopy__(self):\n",
    "        pass\n",
    "    \n",
    "    def to_ListOfVerticesAndFaces(self): # also not efficient\n",
    "        points = {key: val.coords for key, val in self.vertices.items()}\n",
    "        faces = {key: set(flatten([he.vertices for he in val.hes]))\n",
    "                 for key, val in self.faces.items()}\n",
    "        return ListOfVerticesAndFaces(points, faces)\n",
    "    \n",
    "    def saveObj(self, fname):\n",
    "        self.to_ListOfVerticesAndFaces().saveObj(fname)\n",
    "    \n",
    "    @staticmethod\n",
    "    def fromObj(fname):\n",
    "        return HalfEdgeMesh(ListOfVerticesAndFaces.fromObj(fname))"
   ]
  },
  {
   "cell_type": "code",
   "execution_count": null,
   "metadata": {},
   "outputs": [
    {
     "data": {
      "text/plain": [
       "<__main__.HalfEdgeMesh>"
      ]
     },
     "execution_count": null,
     "metadata": {},
     "output_type": "execute_result"
    }
   ],
   "source": [
    "test_hemesh = HalfEdgeMesh(test_mesh)\n",
    "\n",
    "test_hemesh"
   ]
  },
  {
   "cell_type": "code",
   "execution_count": null,
   "metadata": {},
   "outputs": [
    {
     "data": {
      "text/plain": [
       "{0: array([0., 0.]),\n",
       " 1: array([0. , 1.1]),\n",
       " 2: array([1., 0.]),\n",
       " 3: array([1., 1.])}"
      ]
     },
     "execution_count": null,
     "metadata": {},
     "output_type": "execute_result"
    }
   ],
   "source": [
    "test_mesh.vertices"
   ]
  },
  {
   "cell_type": "code",
   "execution_count": null,
   "metadata": {},
   "outputs": [
    {
     "data": {
      "text/plain": [
       "[array([0., 0.]), array([0. , 1.1]), array([1., 0.]), array([1., 1.])]"
      ]
     },
     "execution_count": null,
     "metadata": {},
     "output_type": "execute_result"
    }
   ],
   "source": [
    "[x.coords for x in test_hemesh.vertices.values()]"
   ]
  },
  {
   "cell_type": "code",
   "execution_count": null,
   "metadata": {},
   "outputs": [
    {
     "data": {
      "text/plain": [
       "{0: HalfEdge(_heid=0, nxt=1, prev=2, twin=6, face=0, vertices=(0, 2)),\n",
       " 6: HalfEdge(_heid=6, nxt=9, prev=7, twin=0, face=None, vertices=(2, 0)),\n",
       " 1: HalfEdge(_heid=1, nxt=2, prev=0, twin=7, face=0, vertices=(2, 3)),\n",
       " 7: HalfEdge(_heid=7, nxt=6, prev=8, twin=1, face=None, vertices=(3, 2)),\n",
       " 2: HalfEdge(_heid=2, nxt=0, prev=1, twin=3, face=0, vertices=(3, 0)),\n",
       " 3: HalfEdge(_heid=3, nxt=4, prev=5, twin=2, face=1, vertices=(0, 3)),\n",
       " 4: HalfEdge(_heid=4, nxt=5, prev=3, twin=8, face=1, vertices=(3, 1)),\n",
       " 8: HalfEdge(_heid=8, nxt=7, prev=9, twin=4, face=None, vertices=(1, 3)),\n",
       " 5: HalfEdge(_heid=5, nxt=3, prev=4, twin=9, face=1, vertices=(1, 0)),\n",
       " 9: HalfEdge(_heid=9, nxt=8, prev=6, twin=5, face=None, vertices=(0, 1))}"
      ]
     },
     "execution_count": null,
     "metadata": {},
     "output_type": "execute_result"
    }
   ],
   "source": [
    "test_hemesh.hes"
   ]
  },
  {
   "cell_type": "code",
   "execution_count": null,
   "metadata": {},
   "outputs": [
    {
     "data": {
      "text/plain": [
       "{0: Face(_fid=0, hes=[HalfEdge(_heid=0, nxt=1, prev=2, twin=6, face=0, vertices=(0, 2)), HalfEdge(_heid=1, nxt=2, prev=0, twin=7, face=0, vertices=(2, 3)), HalfEdge(_heid=2, nxt=0, prev=1, twin=3, face=0, vertices=(3, 0))]),\n",
       " 1: Face(_fid=1, hes=[HalfEdge(_heid=3, nxt=4, prev=5, twin=2, face=1, vertices=(0, 3)), HalfEdge(_heid=4, nxt=5, prev=3, twin=8, face=1, vertices=(3, 1)), HalfEdge(_heid=5, nxt=3, prev=4, twin=9, face=1, vertices=(1, 0))])}"
      ]
     },
     "execution_count": null,
     "metadata": {},
     "output_type": "execute_result"
    }
   ],
   "source": [
    "test_hemesh.faces"
   ]
  },
  {
   "cell_type": "code",
   "execution_count": null,
   "metadata": {},
   "outputs": [
    {
     "name": "stdout",
     "output_type": "stream",
     "text": [
      "{0: [0, 2, 3], 1: [0, 3, 1]}\n",
      "{0: array([0., 0.]), 1: array([0. , 1.1]), 2: array([1., 0.]), 3: array([1., 1.])}\n"
     ]
    }
   ],
   "source": [
    "# convert back to simpler format if required.\n",
    "\n",
    "print(test_hemesh.to_ListOfVerticesAndFaces().faces)\n",
    "\n",
    "print(test_hemesh.to_ListOfVerticesAndFaces().vertices)"
   ]
  },
  {
   "cell_type": "markdown",
   "metadata": {},
   "source": [
    "#### test timing of initialization methods: how long for 1000 faces?"
   ]
  },
  {
   "cell_type": "code",
   "execution_count": null,
   "metadata": {},
   "outputs": [
    {
     "data": {
      "text/plain": [
       "[<matplotlib.lines.Line2D>,\n",
       " <matplotlib.lines.Line2D>]"
      ]
     },
     "execution_count": null,
     "metadata": {},
     "output_type": "execute_result"
    },
    {
     "data": {
      "image/png": "[encoded data removed]",
      "text/plain": [
       "<Figure size 432x288 with 1 Axes>"
      ]
     },
     "metadata": {
      "needs_background": "light"
     },
     "output_type": "display_data"
    }
   ],
   "source": [
    "pts = np.stack(np.meshgrid(np.linspace(0, 1, 25), np.linspace(0, 1, 50)))\n",
    "noise =  np.random.normal(size=pts.shape, scale=.0025)\n",
    "noise[:,0,:] = noise[:,-1,:] = 0\n",
    "noise[:,:,0] = noise[:,:,-1] = 0\n",
    "\n",
    "pts += noise\n",
    "pts = pts.reshape((2, pts.shape[1]*pts.shape[2])).T\n",
    "\n",
    "tri = spatial.Delaunay(pts)\n",
    "plt.triplot(tri.points[:,0], tri.points[:,1], tri.simplices)"
   ]
  },
  {
   "cell_type": "code",
   "execution_count": null,
   "metadata": {},
   "outputs": [
    {
     "name": "stdout",
     "output_type": "stream",
     "text": [
      "CPU times: user 185 ms, sys: 265 µs, total: 185 ms\n",
      "Wall time: 183 ms\n"
     ]
    }
   ],
   "source": [
    "%%time\n",
    "test_mesh_large = ListOfVerticesAndFaces(list(tri.points), list(tri.simplices))"
   ]
  },
  {
   "cell_type": "code",
   "execution_count": null,
   "metadata": {},
   "outputs": [
    {
     "name": "stdout",
     "output_type": "stream",
     "text": [
      "CPU times: user 252 ms, sys: 2.91 ms, total: 254 ms\n",
      "Wall time: 255 ms\n"
     ]
    },
    {
     "data": {
      "text/plain": [
       "<__main__.HalfEdgeMesh>"
      ]
     },
     "execution_count": null,
     "metadata": {},
     "output_type": "execute_result"
    }
   ],
   "source": [
    "%%time\n",
    "HalfEdgeMesh(test_mesh_large)\n",
    "# ok!"
   ]
  },
  {
   "cell_type": "markdown",
   "metadata": {},
   "source": [
    "## simple mesh traversal and modification algorithms\n",
    "\n",
    "https://jerryyin.info/geometry-processing-algorithms/half-edge/"
   ]
  },
  {
   "cell_type": "markdown",
   "metadata": {},
   "source": [
    "### required modification operations:\n",
    "\n",
    "- Flip edge\n",
    "- Collapse edge\n",
    "- Split vertex\n",
    "\n",
    "Other things should not really be required in the simulations. Adding/removing faces, vertices etc. should not happen, since initialization is not really meant to be incremental."
   ]
  },
  {
   "cell_type": "code",
   "execution_count": null,
   "metadata": {},
   "outputs": [],
   "source": [
    "# iterate around a face - not really required since we store all hes of a face\n",
    "\n",
    "hemesh = test_hemesh\n",
    "fc = 0\n",
    "\n",
    "returned = False\n",
    "start_he = hemesh.faces[fc].hes[0]\n",
    "he = start_he\n",
    "while not returned:\n",
    "    # do something here\n",
    "    he = hemesh.hes[he.nxt]\n",
    "    returned = (he == start_he)\n",
    "    \n",
    "    \n",
    "# iterating around a vertex (=dual face) is done by initializing with an inciden edge and using he.next.twin.\n"
   ]
  },
  {
   "cell_type": "code",
   "execution_count": null,
   "metadata": {},
   "outputs": [],
   "source": [
    "# get all incident edges on vertex from a single one\n",
    "\n",
    "hemesh = test_hemesh\n",
    "v = 0\n",
    "\n",
    "returned = False\n",
    "start_he = hemesh.vertices[v].incident[0]\n",
    "he = start_he\n",
    "while not returned:\n",
    "    # do something here\n",
    "    he = hemesh.hes[hemesh.hes[he.nxt].twin]\n",
    "    returned = (he == start_he)"
   ]
  },
  {
   "cell_type": "markdown",
   "metadata": {},
   "source": [
    "### Update half edges of faces and vertices based on a single he\n",
    "\n",
    "Re-create the full list of half edges belonging to a face or vertex based on its first half edge.\n",
    "Useful for mesh modification operations"
   ]
  },
  {
   "cell_type": "code",
   "execution_count": null,
   "metadata": {},
   "outputs": [],
   "source": [
    "#| export\n",
    "\n",
    "@patch\n",
    "def reset_hes(self: HalfEdgeMesh, face_or_vertex: Union[Face, Vertex]):\n",
    "    \"\"\"Re-create the full list of half edges belonging to a face or vertex based on its first half edge.\n",
    "    Note: for vertices, this relies on the mesh being a triangulation. If that's not the case, would\n",
    "    need use different method (go around face, with special case for bdry).\"\"\"\n",
    "    returned = False\n",
    "    new_hes = []\n",
    "    if isinstance(face_or_vertex, Face):\n",
    "        start_he = face_or_vertex.hes[0]\n",
    "        he = start_he\n",
    "        while not returned:\n",
    "            he = self.hes[he.nxt]\n",
    "            new_hes.append(he)\n",
    "            returned = (he == start_he)\n",
    "        face_or_vertex.hes = new_hes\n",
    "    if isinstance(face_or_vertex, Vertex):\n",
    "        start_he = face_or_vertex.incident[0]\n",
    "        he = start_he\n",
    "        while not returned:\n",
    "            he = self.hes[self.hes[he.nxt].twin]\n",
    "            new_hes.append(he)\n",
    "            returned = (he == start_he)\n",
    "        face_or_vertex.incident = new_hes"
   ]
  },
  {
   "cell_type": "code",
   "execution_count": null,
   "metadata": {},
   "outputs": [
    {
     "name": "stdout",
     "output_type": "stream",
     "text": [
      "[1, 3, 8]\n",
      "[8]\n",
      "[1, 3, 8]\n"
     ]
    }
   ],
   "source": [
    "test_hemesh = HalfEdgeMesh(test_mesh)\n",
    "\n",
    "print([x._heid for x  in test_hemesh.vertices[3].incident])\n",
    "test_hemesh.vertices[3].incident = [test_hemesh.vertices[3].incident[2]]\n",
    "print([x._heid for x  in test_hemesh.vertices[3].incident])\n",
    "test_hemesh.reset_hes(test_hemesh.vertices[3])\n",
    "print([x._heid for x  in test_hemesh.vertices[3].incident])\n"
   ]
  },
  {
   "cell_type": "code",
   "execution_count": null,
   "metadata": {},
   "outputs": [
    {
     "name": "stdout",
     "output_type": "stream",
     "text": [
      "[3, 4, 5]\n",
      "[5]\n",
      "[3, 4, 5]\n"
     ]
    }
   ],
   "source": [
    "test_hemesh = HalfEdgeMesh(test_mesh)\n",
    "\n",
    "print([x._heid for x  in test_hemesh.faces[1].hes])\n",
    "test_hemesh.faces[1].hes = [test_hemesh.faces[1].hes[2]]\n",
    "print([x._heid for x  in test_hemesh.faces[1].hes])\n",
    "test_hemesh.reset_hes(test_hemesh.faces[1])\n",
    "print([x._heid for x  in test_hemesh.faces[1].hes])\n"
   ]
  },
  {
   "attachments": {
    "image.png": {
     "image/png": "[encoded data removed]"
    }
   },
   "cell_type": "markdown",
   "metadata": {},
   "source": [
    "#### Flip edge\n",
    "\n",
    "\n",
    "Refer to https://jerryyin.info/geometry-processing-algorithms/half-edge/:\n",
    "\n",
    "![image.png](attachment:image.png)"
   ]
  },
  {
   "cell_type": "code",
   "execution_count": null,
   "metadata": {},
   "outputs": [],
   "source": [
    "#| export\n",
    "\n",
    "@patch\n",
    "def flip_edge(self: HalfEdgeMesh, e: int):\n",
    "    \"\"\"Flip edge of a triangle mesh. Call by using he index\n",
    "    If the two adjacent faces are not triangles, it does not work!\n",
    "    For variable name convention, see jerryyin.info/geometry-processing-algorithms/half-edge/\"\"\"\n",
    "    # collect the required objects\n",
    "    if self.hes[e].face is None or self.hes[self.hes[e].twin].face is None:\n",
    "        raise ValueError('Cannot flip boundary edge')\n",
    "    # by convention, always flip the edge with min index\n",
    "    e = min(e, self.hes[e].twin)\n",
    "    e = self.hes[e]\n",
    "    e5 = self.hes[e.prev]\n",
    "    e4 = self.hes[e.nxt]\n",
    "    twin = self.hes[e.twin]\n",
    "    e1 = self.hes[twin.prev]\n",
    "    e0 = self.hes[twin.nxt]\n",
    "    # making sure the vertices and faces do not refer to any of the edges to be modified.\n",
    "    f0, f1 = [self.faces[e1.face], self.faces[e5.face]]\n",
    "    f0.hes, f1.hes = [[e1], [e5]]\n",
    "    v3, v4, v2, v1 = [self.vertices[he.vertices[1]] for he in [e0, e1, e4, e5]]\n",
    "    v3.incident, v4.incident, v2.incident, v1.incident = [[he] for he in [e0, e1, e4, e5]]\n",
    "    # recycle e, twin.\n",
    "    e.nxt = e5._heid\n",
    "    e.prev = e0._heid\n",
    "    e.face = f1._fid\n",
    "    e.vertices = (v3._vid, v2._vid)\n",
    "    twin.nxt = e1._heid\n",
    "    twin.prev = e4._heid\n",
    "    twin.face = f0._fid\n",
    "    twin.vertices = (v2._vid, v3._vid)\n",
    "    # update next/prev values for the external edges\n",
    "    e0.nxt = e._heid\n",
    "    e1.nxt = e4._heid\n",
    "    e4.nxt = twin._heid\n",
    "    e5.nxt = e0._heid\n",
    "    e0.prev = e5._heid\n",
    "    e1.prev = twin._heid\n",
    "    e4.prev = e1._heid\n",
    "    e5.prev = e._heid\n",
    "    # update the face of e0, e4\n",
    "    e0.face = f1._fid\n",
    "    e4.face = f0._fid\n",
    "    # re-complete the list of half-edges for the vertices and faces\n",
    "    for vertex_or_face in [f0, f1]+[v3, v4, v2, v1]:\n",
    "        self.reset_hes(vertex_or_face)\n",
    "    # notifiy edge! return the _heid, or set \"Flipped\" or something!\n",
    "    self.edges[e._heid].variables[\"flipped\"] = True\n",
    "        "
   ]
  },
  {
   "cell_type": "code",
   "execution_count": null,
   "metadata": {},
   "outputs": [],
   "source": [
    "# external edges (face is None) should not change. twin values should not change. both those conditions ok"
   ]
  },
  {
   "cell_type": "code",
   "execution_count": null,
   "metadata": {},
   "outputs": [],
   "source": [
    "test_hemesh = HalfEdgeMesh(test_mesh)"
   ]
  },
  {
   "cell_type": "code",
   "execution_count": null,
   "metadata": {},
   "outputs": [
    {
     "data": {
      "text/plain": [
       "{0: HalfEdge(_heid=0, nxt=1, prev=2, twin=6, face=0, vertices=(0, 2)),\n",
       " 1: HalfEdge(_heid=1, nxt=2, prev=0, twin=7, face=0, vertices=(2, 3)),\n",
       " 2: HalfEdge(_heid=2, nxt=0, prev=1, twin=3, face=0, vertices=(3, 0)),\n",
       " 3: HalfEdge(_heid=3, nxt=4, prev=5, twin=2, face=1, vertices=(0, 3)),\n",
       " 4: HalfEdge(_heid=4, nxt=5, prev=3, twin=8, face=1, vertices=(3, 1)),\n",
       " 5: HalfEdge(_heid=5, nxt=3, prev=4, twin=9, face=1, vertices=(1, 0))}"
      ]
     },
     "execution_count": null,
     "metadata": {},
     "output_type": "execute_result"
    }
   ],
   "source": [
    "# internal hes: 2, 3\n",
    "\n",
    "{key: val for key, val in test_hemesh.hes.items() if val.face is not None}"
   ]
  },
  {
   "cell_type": "code",
   "execution_count": null,
   "metadata": {},
   "outputs": [
    {
     "data": {
      "text/plain": [
       "{0: array([0., 0.]),\n",
       " 1: array([0. , 1.1]),\n",
       " 2: array([1., 0.]),\n",
       " 3: array([1., 1.])}"
      ]
     },
     "execution_count": null,
     "metadata": {},
     "output_type": "execute_result"
    }
   ],
   "source": [
    "{key: val.coords for key, val in test_hemesh.vertices.items()}"
   ]
  },
  {
   "cell_type": "code",
   "execution_count": null,
   "metadata": {},
   "outputs": [
    {
     "data": {
      "text/plain": [
       "{0: [0, 2, 3], 1: [0, 3, 1]}"
      ]
     },
     "execution_count": null,
     "metadata": {},
     "output_type": "execute_result"
    }
   ],
   "source": [
    "test_hemesh.to_ListOfVerticesAndFaces().faces"
   ]
  },
  {
   "cell_type": "code",
   "execution_count": null,
   "metadata": {},
   "outputs": [],
   "source": [
    "test_hemesh.flip_edge(2)"
   ]
  },
  {
   "cell_type": "code",
   "execution_count": null,
   "metadata": {},
   "outputs": [
    {
     "data": {
      "text/plain": [
       "{0: HalfEdge(_heid=0, nxt=3, prev=5, twin=6, face=1, vertices=(0, 2)),\n",
       " 1: HalfEdge(_heid=1, nxt=4, prev=2, twin=7, face=0, vertices=(2, 3)),\n",
       " 2: HalfEdge(_heid=2, nxt=1, prev=4, twin=3, face=0, vertices=(1, 2)),\n",
       " 3: HalfEdge(_heid=3, nxt=5, prev=0, twin=2, face=1, vertices=(2, 1)),\n",
       " 4: HalfEdge(_heid=4, nxt=2, prev=1, twin=8, face=0, vertices=(3, 1)),\n",
       " 5: HalfEdge(_heid=5, nxt=0, prev=3, twin=9, face=1, vertices=(1, 0))}"
      ]
     },
     "execution_count": null,
     "metadata": {},
     "output_type": "execute_result"
    }
   ],
   "source": [
    "{key: val for key, val in test_hemesh.hes.items() if val.face is not None}"
   ]
  },
  {
   "cell_type": "code",
   "execution_count": null,
   "metadata": {},
   "outputs": [
    {
     "data": {
      "text/plain": [
       "{0: [4, 2, 1], 1: [0, 3, 5]}"
      ]
     },
     "execution_count": null,
     "metadata": {},
     "output_type": "execute_result"
    }
   ],
   "source": [
    "{key: [he._heid for he in val.hes] for key, val in test_hemesh.faces.items()}"
   ]
  },
  {
   "cell_type": "code",
   "execution_count": null,
   "metadata": {},
   "outputs": [
    {
     "data": {
      "text/plain": [
       "{0: [2, 3, 1], 1: [0, 2, 1]}"
      ]
     },
     "execution_count": null,
     "metadata": {},
     "output_type": "execute_result"
    }
   ],
   "source": [
    "test_hemesh.to_ListOfVerticesAndFaces().faces  # looks good to me !"
   ]
  },
  {
   "cell_type": "code",
   "execution_count": null,
   "metadata": {},
   "outputs": [],
   "source": [
    "# how well does this perform?\n",
    "test_mesh_large = ListOfVerticesAndFaces(list(tri.points), list(tri.simplices))\n",
    "test_hemesh_large = HalfEdgeMesh(test_mesh_large)"
   ]
  },
  {
   "cell_type": "code",
   "execution_count": null,
   "metadata": {},
   "outputs": [
    {
     "name": "stdout",
     "output_type": "stream",
     "text": [
      "CPU times: user 697 ms, sys: 2 ms, total: 699 ms\n",
      "Wall time: 678 ms\n"
     ]
    }
   ],
   "source": [
    "%%time\n",
    "\n",
    "for i in range(1000):\n",
    "    heid = np.random.choice(list(test_hemesh_large.hes.keys()))\n",
    "    try:\n",
    "        test_hemesh_large.flip_edge(heid)\n",
    "    except ValueError:\n",
    "        continue"
   ]
  },
  {
   "cell_type": "code",
   "execution_count": null,
   "metadata": {},
   "outputs": [],
   "source": [
    "#| export\n",
    "\n",
    "@patch\n",
    "def is_consistent(self: HalfEdgeMesh):\n",
    "    \"\"\"For debugging/testing purposes\"\"\"\n",
    "    # check next and prev relations are consistent with vertices\n",
    "    assert all([he.vertices[1] == self.hes[he.nxt].vertices[0]\n",
    "                and he.vertices[0] == self.hes[he.prev].vertices[1]\n",
    "                for he in self.hes.values()])\n",
    "    # check half edges are registered in cells\n",
    "    assert all([he in self.faces[he.face].hes\n",
    "                for he in self.hes.values() if he.face is not None])\n",
    "    # check half edges are registered in vertices\n",
    "    assert all([he in self.vertices[he.vertices[1]].incident\n",
    "                for he in self.hes.values()])\n",
    "    # check twins have matching vertices\n",
    "    assert all([he.vertices == self.hes[he.twin].vertices[::-1]\n",
    "                for he in self.hes.values()])\n",
    "    # check everybody is a triangle\n",
    "    assert all([len(fc.hes) == 3 for fc in self.faces.values()])\n",
    "    \n",
    "    return True"
   ]
  },
  {
   "cell_type": "code",
   "execution_count": null,
   "metadata": {},
   "outputs": [
    {
     "data": {
      "text/plain": [
       "(True, True)"
      ]
     },
     "execution_count": null,
     "metadata": {},
     "output_type": "execute_result"
    }
   ],
   "source": [
    "# example of consistent and inconsistent meshes\n",
    "test_hemesh.is_consistent(), test_hemesh_large.is_consistent()"
   ]
  },
  {
   "cell_type": "code",
   "execution_count": null,
   "metadata": {},
   "outputs": [
    {
     "name": "stdout",
     "output_type": "stream",
     "text": [
      "inconsistency detected, as desired\n"
     ]
    }
   ],
   "source": [
    "test_hemesh.hes[0].twin = 0\n",
    "try:\n",
    "    test_hemesh.is_consistent()\n",
    "    assert False, \"should raise error\"\n",
    "except AssertionError:\n",
    "    print(\"inconsistency detected, as desired\")\n",
    "\n",
    "test_hemesh = HalfEdgeMesh(test_mesh)"
   ]
  },
  {
   "cell_type": "code",
   "execution_count": null,
   "metadata": {},
   "outputs": [],
   "source": [
    "#| export\n",
    "@patch\n",
    "def triplot(self: HalfEdgeMesh):\n",
    "    \"\"\"wraps plt.triplot\"\"\"\n",
    "    list_format = self.to_ListOfVerticesAndFaces()\n",
    "    fcs = np.array(list(list_format.faces.values()))\n",
    "    pts = np.array(list(list_format.vertices.values())).T\n",
    "    plt.triplot(pts[0], pts[1], fcs)"
   ]
  },
  {
   "cell_type": "code",
   "execution_count": null,
   "metadata": {},
   "outputs": [
    {
     "data": {
      "image/png": "[encoded data removed]",
      "text/plain": [
       "<Figure size 432x288 with 1 Axes>"
      ]
     },
     "metadata": {
      "needs_background": "light"
     },
     "output_type": "display_data"
    }
   ],
   "source": [
    "test_hemesh.triplot()"
   ]
  },
  {
   "cell_type": "code",
   "execution_count": null,
   "metadata": {},
   "outputs": [],
   "source": [
    "# important: preserve data! "
   ]
  },
  {
   "cell_type": "code",
   "execution_count": null,
   "metadata": {},
   "outputs": [],
   "source": []
  },
  {
   "cell_type": "code",
   "execution_count": null,
   "metadata": {},
   "outputs": [],
   "source": []
  },
  {
   "cell_type": "markdown",
   "metadata": {},
   "source": [
    "## Duality operations"
   ]
  },
  {
   "cell_type": "code",
   "execution_count": null,
   "metadata": {},
   "outputs": [],
   "source": []
  },
  {
   "cell_type": "markdown",
   "metadata": {},
   "source": [
    "## Export code to module"
   ]
  },
  {
   "cell_type": "code",
   "execution_count": null,
   "metadata": {},
   "outputs": [],
   "source": [
    "#| export\n",
    "\n",
    "nbdev.nbdev_export()"
   ]
  },
  {
   "cell_type": "markdown",
   "metadata": {},
   "source": [
    "## Old code"
   ]
  },
  {
   "cell_type": "code",
   "execution_count": null,
   "metadata": {},
   "outputs": [],
   "source": [
    "#| notest\n",
    "def get_half_edges(mesh: ListOfVerticesAndFaces) -> Dict[int, HalfEdge]:\n",
    "    \"\"\"Create list of half-edges from a ListOfVerticesAndFaces mesh\"\"\"\n",
    "    heid_counter = 0\n",
    "    pre_hes = []\n",
    "    # first create half edges without their twins by going around each face.\n",
    "    for key, fc in mesh.faces.items():\n",
    "        # ensure face is oriented correctly\n",
    "        fc = sort_ids_by_vertices(fc, [mesh.points[x] for x in fc])\n",
    "        heids = [heid_counter+i for i in range(len(fc))]\n",
    "        nxts = np.roll(heids, -1).tolist()\n",
    "        vertices = [tuple((fc+[fc[0]])[i:i+2]) for i in range(len(fc))]\n",
    "        pre_hes += [HalfEdge(_heid, nxt, None, key, verts) for _heid, nxt, verts in zip(heids, nxts, vertices)]\n",
    "        heid_counter += len(fc)\n",
    "    # now match the half-edges. if they cannot match, add a new he with cell None\n",
    "    edges = mesh.get_combined_edges()\n",
    "    is_interior_dict = {e[0]: e[1][0] is not None for e in edges}\n",
    "    he_vertex_dict = {he.vertices: he for he in pre_hes}\n",
    "    \"\"\" old code, quadratic\n",
    "    for e in edges:\n",
    "        if e[1][0] is not None: # interior edge\n",
    "            he1 = next(he for he in pre_hes if he.vertices == e[0])\n",
    "            he2 = next(he for he in pre_hes if he.vertices == e[0][::-1])\n",
    "        else: # exterior edge, add another half edge with\n",
    "            he1 = next(he for he in pre_hes if tuple(sorted(he.vertices)) == e[0])\n",
    "            # hardest part: find the \"nxt\":\n",
    "            he2 = HalfEdge(heid_counter, None, he1._heid, None, he1.vertices[::-1])\n",
    "            pre_hes.append(he2)\n",
    "            heid_counter += 1\n",
    "        he1.twin, he2.twin = (he2._heid, he1._heid)\n",
    "    hes = pre_hes\n",
    "    \"\"\"\n",
    "    hes = []\n",
    "    for he1 in pre_hes:\n",
    "        # check if the cell is not None\n",
    "        if is_interior_dict[tuple(sorted(he1.vertices))]:\n",
    "            he2 = he_vertex_dict[he1.vertices[::-1]]\n",
    "        else:\n",
    "            he2 = HalfEdge(heid_counter, None, he1._heid, None, he1.vertices[::-1])\n",
    "            heid_counter += 1\n",
    "        he1.twin, he2.twin = (he2._heid, he1._heid)\n",
    "        hes.append(he1); hes.append(he2)\n",
    "    # find the \"next\" of the boundary edges. we can just traverse inshallah\n",
    "    bdry = [he for he in hes if he.cell is None]\n",
    "    for he1 in bdry:\n",
    "        try:\n",
    "            nxt = next(he2 for he2 in bdry if he1.vertices[1] == he2.vertices[0])\n",
    "            he1.nxt = nxt._heid\n",
    "        except StopIteration:\n",
    "            print(\"Corner detected\")\n",
    "            \n",
    "    # turn into dict for easy access\n",
    "    return {he._heid: he for he in hes}"
   ]
  },
  {
   "cell_type": "code",
   "execution_count": null,
   "metadata": {},
   "outputs": [],
   "source": [
    "#| notest\n",
    "\n",
    "def get_neighbors(faces):\n",
    "    \"\"\"compute neighbor list by checking which triangles share 2 vertices. Note: this is quadratic.\"\"\"\n",
    "    faces = {key: set(fc) for key, fc in faces.items()}\n",
    "    neighbors = {key: [nghb_key for nghb_key, pot_nghb in faces.items()\n",
    "                       if len(pot_nghb&face) == 2]\n",
    "                 for key, face in faces.items()}\n",
    "    return neighbors"
   ]
  }
 ],
 "metadata": {
  "kernelspec": {
   "display_name": "Python 3",
   "language": "python",
   "name": "python3"
  }
 },
 "nbformat": 4,
 "nbformat_minor": 4
}
