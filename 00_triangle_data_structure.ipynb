{
 "cells": [
  {
   "cell_type": "markdown",
   "metadata": {},
   "source": [
    "# triangle_data_structure\n",
    "\n",
    "> Data structure for triangulation\n",
    "\n",
    "See https://cs184.eecs.berkeley.edu/public/sp22/lectures/lec-8-mesh-representations-and-geometr/lec-8-mesh-representations-and-geometr.pdf\n",
    "\n",
    "None of the methods below are optimized, and on many occasions, things are linear/quadratic in the mesh size even though they need not be, because it was the easiest solution"
   ]
  },
  {
   "cell_type": "code",
   "execution_count": null,
   "metadata": {},
   "outputs": [],
   "source": [
    "#| default_exp triangle"
   ]
  },
  {
   "cell_type": "code",
   "execution_count": null,
   "metadata": {},
   "outputs": [],
   "source": [
    "#| hide\n",
    "from nbdev.showdoc import *\n",
    "import nbdev"
   ]
  },
  {
   "cell_type": "code",
   "execution_count": null,
   "metadata": {},
   "outputs": [],
   "source": [
    "#| export\n",
    "import os\n",
    "import numpy as np\n",
    "import matplotlib.pyplot as plt\n",
    "import matplotlib as mpl\n",
    "from matplotlib.collections import LineCollection\n",
    "\n",
    "from scipy import spatial"
   ]
  },
  {
   "cell_type": "code",
   "execution_count": null,
   "metadata": {},
   "outputs": [],
   "source": [
    "#| export\n",
    "from collections import defaultdict"
   ]
  },
  {
   "cell_type": "code",
   "execution_count": null,
   "metadata": {},
   "outputs": [],
   "source": [
    "#| export\n",
    "\n",
    "from dataclasses import dataclass\n",
    "from typing import Union, Dict, List, Tuple, Iterable, Callable\n",
    "from nptyping import NDArray, Int, Float, Shape\n",
    "\n",
    "from fastcore.foundation import patch"
   ]
  },
  {
   "cell_type": "markdown",
   "metadata": {},
   "source": [
    "## helper functions"
   ]
  },
  {
   "cell_type": "code",
   "execution_count": null,
   "metadata": {},
   "outputs": [],
   "source": [
    "#| export\n",
    "from bisect import bisect_left"
   ]
  },
  {
   "cell_type": "code",
   "execution_count": null,
   "metadata": {},
   "outputs": [
    {
     "data": {
      "text/plain": [
       "2"
      ]
     },
     "execution_count": null,
     "metadata": {},
     "output_type": "execute_result"
    }
   ],
   "source": [
    "bisect_left([-1, 0, 1, 2], 1)"
   ]
  },
  {
   "cell_type": "code",
   "execution_count": null,
   "metadata": {},
   "outputs": [],
   "source": [
    "#| export\n",
    "def flatten(lst, max_depth=1000, iter_count=0):\n",
    "    \"\"\"\n",
    "    Flatten a list of lists into a list.\n",
    "\n",
    "    Also works with inhomogeneous lists, e.g., [[0,1],2]. The argument\n",
    "    depth determines how \"deep\" to flatten the list, e.g. with max_depth=1:\n",
    "    [[(1,0), (1,0)]] -> [(1,0), (1,0)].\n",
    "\n",
    "    Parameters\n",
    "    ----------\n",
    "    lst : list\n",
    "        list-of-lists.\n",
    "    max_depth : int, optional\n",
    "        To what depth to flatten the list.\n",
    "    iter_count : int, optional\n",
    "        Helper argument for recursion depth determination.\n",
    "    Returns\n",
    "    -------\n",
    "    iterator\n",
    "        flattened list.\n",
    "\n",
    "    \"\"\"\n",
    "    for el in lst:\n",
    "        if (isinstance(el, Iterable) and not isinstance(el, (str, bytes))\n",
    "                and iter_count < max_depth):\n",
    "            yield from flatten(el, max_depth=max_depth,\n",
    "                               iter_count=iter_count+1)\n",
    "        else:\n",
    "            yield el"
   ]
  },
  {
   "cell_type": "code",
   "execution_count": null,
   "metadata": {},
   "outputs": [],
   "source": [
    "#| export\n",
    "def sort_vertices(vertices: np.ndarray) -> np.ndarray:\n",
    "    \"\"\"Sort vertices of cycle counter clockwise by polar angle. Guaranteed to work for non-convex polygons.\"\"\"\n",
    "    vertices -= np.mean(vertices, axis=0) # center\n",
    "    phis = [np.arctan2(*x[::-1]) for x in vertices]\n",
    "    return np.stack([x for _, x in sorted(zip(phis, vertices))])\n",
    "\n",
    "def sort_ids_by_vertices(ids: Iterable[int], vertices: Iterable[NDArray]) -> list:\n",
    "    \"\"\"Like sort_vertices, sort ids of cycle counter clockwise by polar angle.\"\"\"\n",
    "    vertices -= np.mean(vertices, axis=0) # vertices\n",
    "    phis = [np.arctan2(*x[::-1]) for x in vertices]\n",
    "    return [x for _, x in sorted(zip(phis, ids))]"
   ]
  },
  {
   "cell_type": "code",
   "execution_count": null,
   "metadata": {},
   "outputs": [
    {
     "data": {
      "image/png": "[encoded data removed]",
      "text/plain": [
       "<Figure size 432x288 with 1 Axes>"
      ]
     },
     "metadata": {
      "needs_background": "light"
     },
     "output_type": "display_data"
    },
    {
     "data": {
      "image/png": "[encoded data removed]",
      "text/plain": [
       "<Figure size 432x288 with 1 Axes>"
      ]
     },
     "metadata": {
      "needs_background": "light"
     },
     "output_type": "display_data"
    }
   ],
   "source": [
    "pts = np.array([[1,-1.4], [-1, 0], [1.5, 2], [2, -.3], [-1, -2]])\n",
    "\n",
    "plt.scatter(*pts.T, c=np.arange(5))\n",
    "plt.axis(\"equal\")\n",
    "plt.show()\n",
    "\n",
    "pts_sorted = sort_vertices(pts)\n",
    "\n",
    "plt.scatter(*pts_sorted.T, c=np.arange(5))\n",
    "plt.axis(\"equal\")\n",
    "plt.show()"
   ]
  },
  {
   "cell_type": "markdown",
   "metadata": {},
   "source": [
    "## create some test data using scipy"
   ]
  },
  {
   "cell_type": "code",
   "execution_count": null,
   "metadata": {},
   "outputs": [
    {
     "data": {
      "image/png": "[encoded data removed]",
      "text/plain": [
       "<Figure size 432x288 with 1 Axes>"
      ]
     },
     "metadata": {
      "needs_background": "light"
     },
     "output_type": "display_data"
    }
   ],
   "source": [
    "points = np.array([[0, 0], [0, 1.1], [1, 0], [1, 1]])\n",
    "\n",
    "tri = spatial.Delaunay(points)\n",
    "\n",
    "plt.triplot(points[:,0], points[:,1], tri.simplices)\n",
    "plt.plot(points[:,0], points[:,1], 'o')\n",
    "\n",
    "plt.show()"
   ]
  },
  {
   "cell_type": "code",
   "execution_count": null,
   "metadata": {},
   "outputs": [
    {
     "data": {
      "text/plain": [
       "(array([[0. , 0. ],\n",
       "        [0. , 1.1],\n",
       "        [1. , 0. ],\n",
       "        [1. , 1. ]]),\n",
       " array([[2, 3, 0],\n",
       "        [3, 1, 0]], dtype=int32),\n",
       " array([[ 1, -1, -1],\n",
       "        [-1,  0, -1]], dtype=int32))"
      ]
     },
     "execution_count": null,
     "metadata": {},
     "output_type": "execute_result"
    }
   ],
   "source": [
    "# attributes\n",
    "\n",
    "tri.points, tri.simplices, tri.neighbors"
   ]
  },
  {
   "cell_type": "code",
   "execution_count": null,
   "metadata": {},
   "outputs": [
    {
     "data": {
      "text/plain": [
       "(<bound method Delaunay.find_simplex of <scipy.spatial._qhull.Delaunay object>>,\n",
       " <bound method Delaunay.add_points of <scipy.spatial._qhull.Delaunay object>>)"
      ]
     },
     "execution_count": null,
     "metadata": {},
     "output_type": "execute_result"
    }
   ],
   "source": [
    "# methods\n",
    "\n",
    "tri.find_simplex, tri.add_points"
   ]
  },
  {
   "cell_type": "markdown",
   "metadata": {},
   "source": [
    "## List of Pts + Triangles\n",
    "\n",
    "Simplest data structure for a triangulation:\n",
    "\n",
    "- Vertices = [($x_0$,$y_0$), ... ]\n",
    "- Triangles = [(vertex id 1, vertex id 2, vertex id 3), ...]\n",
    "\n",
    "From this data, one can compute the neighbor relationship of triangles\n",
    "- Triangle neighbors = [(triangle id 1, triangle id 2, triangle id 3), ...]\n",
    "\n",
    "How should we index things? We want to be able to refer to points and faces consistently over time series of meshes, so just using their index in the list is no good. We shall use dictionaries instead."
   ]
  },
  {
   "cell_type": "markdown",
   "metadata": {},
   "source": [
    "For future reference, we will make the faces oriented _counterclockwise_. This matches the convention of the `.obj` file format."
   ]
  },
  {
   "cell_type": "code",
   "execution_count": null,
   "metadata": {},
   "outputs": [],
   "source": [
    "#| export\n",
    "\n",
    "def get_neighbors(faces):\n",
    "    \"\"\"compute neighbor list by checking which triangles share 2 vertices.\"\"\"\n",
    "    edge_dict = defaultdict(list)\n",
    "    for key, fc in faces.items():\n",
    "        edges = [tuple(sorted((fc+[fc[0]])[i:i+2])) for i in range(len(fc))]\n",
    "        [edge_dict[e].append(key) for e in edges]\n",
    "\n",
    "    neighbors = defaultdict(list)\n",
    "    for edge, fcs in edge_dict.items():\n",
    "        if len(fcs) == 2:\n",
    "            neighbors[fcs[0]].append(fcs[1])\n",
    "            neighbors[fcs[1]].append(fcs[0])\n",
    "    return neighbors"
   ]
  },
  {
   "cell_type": "code",
   "execution_count": null,
   "metadata": {},
   "outputs": [],
   "source": [
    "#| export\n",
    "\n",
    "class ListOfVerticesAndFaces:\n",
    "    def __init__(self, vertices, faces, neighbors=None):\n",
    "        # if we pass lists, automatically assign ids to triangles and vertices\n",
    "        vertices = vertices if type(vertices) is dict else {ix: x for ix, x in enumerate(vertices)}\n",
    "        faces = faces if type(faces) is dict else {ix: x for ix, x in enumerate(faces)}\n",
    "        # ensure that all triangles are ordered cc-wise\n",
    "        faces = {key: sort_ids_by_vertices(fc, [vertices[x] for x in fc])\n",
    "                 for key, fc in faces.items()}\n",
    "        self.vertices, self.faces = (vertices, faces)\n",
    "        self.neighbors = get_neighbors(faces) if neighbors is None else neighbors\n",
    "        \n",
    "    # some basic methods\n",
    "    def remove_vertex(self, v_id):\n",
    "        del self.vertices[v_id]\n",
    "        self.faces = {key: face for key, face in self.faces.items() if not v_id in face}\n",
    "        self.neighbors = get_neighbors(self.faces)\n",
    "    \n",
    "    def remove_face(self, f_id):\n",
    "        face = self.vertices[f_id]\n",
    "        del self.faces[f_id]\n",
    "        for v in face:\n",
    "            if not any([v in fc for fc in self.faces.values()]):\n",
    "                del self.vertices[v]\n",
    "        self.neighbors = get_neighbors(self.faces)\n",
    "        \n",
    "    def get_combined_edges(self):\n",
    "        \"\"\"Get a list of unique edges. Edges are a tuple ((vert 1, vert 2), (face 1, face 2)). Boundary edges \n",
    "        have face 1 None.\"\"\"\n",
    "        combined_edges = []\n",
    "        for fc_key, fc in self.faces.items():\n",
    "            neighbors = self.neighbors[fc_key]\n",
    "            vertex_edges = [(fc+[fc[0]])[i:i+2] for i in range(len(fc))]\n",
    "            for vertex_edge in vertex_edges:\n",
    "                # check if it is shared with neighbor\n",
    "                other_key = [nghb for nghb in neighbors if all([v in self.faces[nghb] for v in vertex_edge])]\n",
    "                face_edge = sorted([fc_key, other_key[0]]) if other_key != [] else (None, fc_key)\n",
    "                combined_edge = (tuple(sorted(vertex_edge)), tuple(face_edge))\n",
    "                combined_edges.append(combined_edge)\n",
    "        return set(combined_edges)\n",
    "        \n",
    "    @staticmethod\n",
    "    def fromObj(fname):\n",
    "        \"\"\"Read from .onj file. If {fname}_ids.txt is present, read ids from that.\"\"\"\n",
    "        with open(fname+'.obj') as f:\n",
    "            lns = f.readlines()\n",
    "            vertices = [np.array([float(x) for x in ln[2:-1].split(\" \")])[:2] # remove z-coord\n",
    "                        for ln in lns if ln.startswith(\"v\")]\n",
    "            faces = [[int(x)-1 for x in ln[2:-1].split(\" \")] # to start counting from 0 again\n",
    "                      for ln in lns if ln.startswith(\"f\")]\n",
    "        if os.path.isfile(fname+'_ids.txt'): # read ids if defined\n",
    "            with open(fname+'_ids.txt') as f:\n",
    "                lns = f.readlines()\n",
    "                vertex_ids = [int(ln[2:-1]) for ln in lns if ln.startswith(\"v\")]\n",
    "                face_ids = [int(ln[2:-1]) for ln in lns if ln.startswith(\"f\")]\n",
    "            vertices = {v_id: v for v_id, v in zip(vertex_ids, vertices)}\n",
    "            faces = {fcid: fc for fcid, fc in zip(face_ids, faces)}\n",
    "        return ListOfVerticesAndFaces(vertices, faces)"
   ]
  },
  {
   "cell_type": "code",
   "execution_count": null,
   "metadata": {},
   "outputs": [],
   "source": [
    "#| export\n",
    "\n",
    "def get_test_mesh():\n",
    "    points = np.array([[0, 0], [0, 1.1], [1, 0], [1, 1]])\n",
    "    tri = spatial.Delaunay(points)\n",
    "    return ListOfVerticesAndFaces(tri.points, tri.simplices)"
   ]
  },
  {
   "cell_type": "code",
   "execution_count": null,
   "metadata": {},
   "outputs": [],
   "source": [
    "test_mesh = get_test_mesh()"
   ]
  },
  {
   "cell_type": "code",
   "execution_count": null,
   "metadata": {},
   "outputs": [
    {
     "data": {
      "text/plain": [
       "{0: [0, 2, 3], 1: [0, 3, 1]}"
      ]
     },
     "execution_count": null,
     "metadata": {},
     "output_type": "execute_result"
    }
   ],
   "source": [
    "test_mesh.faces"
   ]
  },
  {
   "cell_type": "code",
   "execution_count": null,
   "metadata": {},
   "outputs": [
    {
     "data": {
      "text/plain": [
       "{0: array([0., 0.]),\n",
       " 1: array([0. , 1.1]),\n",
       " 2: array([1., 0.]),\n",
       " 3: array([1., 1.])}"
      ]
     },
     "execution_count": null,
     "metadata": {},
     "output_type": "execute_result"
    }
   ],
   "source": [
    "test_mesh.vertices"
   ]
  },
  {
   "cell_type": "code",
   "execution_count": null,
   "metadata": {},
   "outputs": [
    {
     "data": {
      "text/plain": [
       "defaultdict(list, {0: [1], 1: [0]})"
      ]
     },
     "execution_count": null,
     "metadata": {},
     "output_type": "execute_result"
    }
   ],
   "source": [
    "test_mesh.neighbors"
   ]
  },
  {
   "cell_type": "code",
   "execution_count": null,
   "metadata": {},
   "outputs": [],
   "source": [
    "test_mesh.remove_face(0)"
   ]
  },
  {
   "cell_type": "code",
   "execution_count": null,
   "metadata": {},
   "outputs": [
    {
     "data": {
      "text/plain": [
       "{1: [0, 3, 1]}"
      ]
     },
     "execution_count": null,
     "metadata": {},
     "output_type": "execute_result"
    }
   ],
   "source": [
    "test_mesh.faces"
   ]
  },
  {
   "cell_type": "code",
   "execution_count": null,
   "metadata": {},
   "outputs": [
    {
     "data": {
      "text/plain": [
       "{0: array([0., 0.]),\n",
       " 1: array([0. , 1.1]),\n",
       " 2: array([1., 0.]),\n",
       " 3: array([1., 1.])}"
      ]
     },
     "execution_count": null,
     "metadata": {},
     "output_type": "execute_result"
    }
   ],
   "source": [
    "test_mesh.vertices"
   ]
  },
  {
   "cell_type": "code",
   "execution_count": null,
   "metadata": {},
   "outputs": [],
   "source": [
    "#| export\n",
    "@patch\n",
    "def saveObj(self:ListOfVerticesAndFaces, fname, save_ids=False):\n",
    "    \"\"\"save as obj file. .obj automatically appended to fname. If save_ids is True, also save a list\n",
    "    of vertex and face ids.\"\"\"\n",
    "    # create a sorted list of vertices\n",
    "    vertex_keys = sorted(self.vertices.keys())\n",
    "    vertex_list = [self.vertices[key] for key in vertex_keys]\n",
    "    # change faces list to refer to this ordered list. Counting from 1 for .obj\n",
    "    face_keys = sorted(self.faces.keys())\n",
    "    faces_list = [[bisect_left(vertex_keys, v)+1 for v in self.faces[key]] for key in face_keys]\n",
    "    # overwrite\n",
    "    try:\n",
    "        os.remove(fname+\".obj\")\n",
    "    except OSError:\n",
    "        pass\n",
    "    # write\n",
    "    with open(fname+\".obj\", \"a\") as f:\n",
    "        f.write('# vertices\\n')\n",
    "        for pt in vertex_list:\n",
    "            to_write = ' '.join(['v'] + [str(x) for x in pt] + ['0']) + '\\n'  # include z-ccoord\n",
    "            f.write(to_write)\n",
    "        f.write('# faces\\n')\n",
    "        for fc in faces_list:\n",
    "            to_write = ' '.join(['f'] + [str(x) for x in fc]) + '\\n'\n",
    "            f.write(to_write)\n",
    "    if save_ids:\n",
    "        try:\n",
    "            os.remove(fname+\"_ids.txt\")\n",
    "        except OSError:\n",
    "            pass\n",
    "        with open(fname+\"_ids.txt\", \"a\") as f:\n",
    "            f.write('# vertex IDs corresponding to .obj file\\n')\n",
    "            for key in vertex_keys:\n",
    "                f.write('v '+str(key)+'\\n')\n",
    "            f.write('# face IDs corresponding to .obj file\\n')\n",
    "            for key in face_keys:\n",
    "                f.write('f '+str(key)+'\\n')\n"
   ]
  },
  {
   "cell_type": "code",
   "execution_count": null,
   "metadata": {},
   "outputs": [],
   "source": [
    "test_mesh.saveObj('test_mesh', save_ids=True)\n",
    "# tested by opening in paraview, looks good"
   ]
  },
  {
   "attachments": {
    "image.png": {
     "image/png": "[encoded data removed]"
    }
   },
   "cell_type": "markdown",
   "metadata": {},
   "source": [
    "![image.png](attachment:image.png)"
   ]
  },
  {
   "cell_type": "code",
   "execution_count": null,
   "metadata": {},
   "outputs": [
    {
     "data": {
      "text/plain": [
       "({0: [0, 2, 3], 1: [0, 3, 1]}, {0: [0, 2, 3], 1: [0, 3, 1]})"
      ]
     },
     "execution_count": null,
     "metadata": {},
     "output_type": "execute_result"
    }
   ],
   "source": [
    "loaded_mesh = test_mesh.fromObj('test_mesh')\n",
    "loaded_mesh.faces, test_mesh.faces"
   ]
  },
  {
   "cell_type": "code",
   "execution_count": null,
   "metadata": {},
   "outputs": [
    {
     "name": "stdout",
     "output_type": "stream",
     "text": [
      "{0: [0, 2, 3], 1: [0, 3, 1]} defaultdict(<class 'list'>, {0: [1], 1: [0]})\n",
      "{0: [0, 2, 3]} defaultdict(<class 'list'>, {})\n"
     ]
    }
   ],
   "source": [
    "test_mesh = get_test_mesh()\n",
    "\n",
    "print(test_mesh.faces, test_mesh.neighbors)\n",
    "\n",
    "test_mesh.remove_vertex(1)\n",
    "\n",
    "print(test_mesh.faces, test_mesh.neighbors)"
   ]
  },
  {
   "cell_type": "markdown",
   "metadata": {},
   "source": [
    "## Half-edge\n",
    "\n",
    "More complicated operations (e.g. flipping triangles) are a pain to implement with this simple data structure, which furthermore does not contain edges. We now build a half-edge data structure class."
   ]
  },
  {
   "attachments": {
    "image.png": {
     "image/png": "[encoded data removed]"
    }
   },
   "cell_type": "markdown",
   "metadata": {},
   "source": [
    "A half-edge contains the following data:\n",
    "- `next` - the next half edge\n",
    "- `twin` - the twin half edge\n",
    "- `face` - the face it belongs to\n",
    "- `vertices` - start and end vertex\n",
    "\n",
    "![image.png](attachment:image.png)\n",
    "See https://jerryyin.info/geometry-processing-algorithms/half-edge/"
   ]
  },
  {
   "cell_type": "code",
   "execution_count": null,
   "metadata": {},
   "outputs": [],
   "source": [
    "#| export\n",
    "from dataclasses import dataclass, field"
   ]
  },
  {
   "cell_type": "code",
   "execution_count": null,
   "metadata": {},
   "outputs": [],
   "source": [
    "#| export\n",
    "\n",
    "@dataclass\n",
    "class HalfEdge:\n",
    "    \"\"\"Attribute holder class for half edges. Attributes point to other items, property methods get them.\"\"\"\n",
    "    _heid : int\n",
    "    _nxtid: int\n",
    "    _previd: int\n",
    "    _twinid: int\n",
    "    _faceid: Union[int, None] # None if it's a boundary\n",
    "    _verticesid: tuple # 0 is origin, 1 is destination\n",
    "    rest: float = 0.\n",
    "    passive: float = 0.\n",
    "    variables: dict = field(default_factory=dict, repr=False) \n",
    "    _hemesh: int = field(default=None, repr=False) # set during creation of mesh\n",
    "    duplicate: bool = False # arbitraily select half of all edges for future iteration convenience\n",
    "    # set methods to get the twins, nxts, and prevs using the internal use _ids to look them up in the dict\n",
    "    @property\n",
    "    def nxt(self):\n",
    "        return self._hemesh.hes[self._nxtid]\n",
    "    @property\n",
    "    def prev(self):\n",
    "        return self._hemesh.hes[self._previd]\n",
    "    @property\n",
    "    def twin(self):\n",
    "        return self._hemesh.hes[self._twinid]\n",
    "    @property\n",
    "    def face(self):\n",
    "        if self._faceid is None:\n",
    "            return None\n",
    "        return self._hemesh.faces[self._faceid]\n",
    "    @property\n",
    "    def vertices(self):\n",
    "        return [self._hemesh.vertices[v] for v in self._verticesid]\n",
    "    def __post_init__(self):\n",
    "        self.duplicate = self._verticesid[0] < self._verticesid[1]\n",
    "        \n",
    "    def __repr__(self):\n",
    "        repr_str = f\"HalfEdge(heid={self._heid}, nxt={self._nxtid}, prev={self._previd}, twin={self._twinid}, \"\n",
    "        if self._faceid is not None:\n",
    "            repr_str += f\"face={self._faceid}, \"\n",
    "        else:\n",
    "            repr_str += f\"face=None, \"\n",
    "        repr_str += f\"vertices={self._verticesid}, \"\n",
    "        repr_str += f\"rest={round(self.rest, ndigits=1)}, passive={round(self.passive, ndigits=1)}\"\n",
    "        if self._hemesh is not None:\n",
    "            repr_str += f\", center={np.round(np.mean([v.coords  for v in self.vertices], axis=0), decimals=1)}\"\n",
    "        return repr_str\n",
    "\n",
    "    \n",
    "@dataclass\n",
    "class Vertex:\n",
    "    \"\"\"Attribute holder class for vertices. Attributes point to other items. Note: different from the\n",
    "    standard half edge data structure, I store all incident he's, for latter convenience (e.g. force balance)\n",
    "    computation.\"\"\"\n",
    "    _vid : int\n",
    "    coords : NDArray[Shape[\"2\"], Float]\n",
    "    incident : List[HalfEdge]\n",
    "    rest_shape: NDArray[Shape[\"2, 2\"],Float] = np.array([[1.0, 0.0], [0.0, 1.0]])\n",
    "    def __repr__(self):\n",
    "        repr_str = f\"Vertex(vid={self._vid}, coords={np.round(self.coords, decimals=1)}, \"\n",
    "        repr_str += f\"hes={[he._heid for he in self.incident]})\"\n",
    "        return repr_str\n",
    "        \n",
    "\n",
    "@dataclass\n",
    "class Face:\n",
    "    \"\"\"Attribute holder class for faces. Attributes point to other items.\"\"\"\n",
    "    _fid : int\n",
    "    hes : List[HalfEdge]\n",
    "    dual_coords: Union[NDArray[Shape[\"2\"],Float], None] = None\n",
    "    rest_shape: NDArray[Shape[\"2, 2\"],Float] = np.array([[1.0, 0.0], [0.0, 1.0]])\n",
    "    def __repr__(self):\n",
    "        repr_str = f\"Face(fid={self._fid}, \"\n",
    "        if self.dual_coords is not None:\n",
    "            repr_str += f\"dual_coords={list(np.round(self.dual_coords, decimals=1))}, \"\n",
    "        repr_str += f\"rest_shape={[list(x) for x in np.round(self.rest_shape, decimals=1)]}, \"\n",
    "        repr_str += f\"hes={[he._heid for he in self.hes]})\"\n",
    "        return repr_str\n"
   ]
  },
  {
   "cell_type": "code",
   "execution_count": null,
   "metadata": {},
   "outputs": [
    {
     "data": {
      "text/plain": [
       "Vertex(vid=10, coords=[2.  2.1], hes=[10034])"
      ]
     },
     "execution_count": null,
     "metadata": {},
     "output_type": "execute_result"
    }
   ],
   "source": [
    "he = HalfEdge(10031, 1, 2, 4, 2, (2, 3))\n",
    "\n",
    "v = Vertex(10, np.array([2.0232, 2.1241]), [he])\n",
    "he_new = HalfEdge(10034, 1, 2, 4, 2, (2, 3))\n",
    "\n",
    "v.incident = [he_new] # we can edit the incident edge\n",
    "v"
   ]
  },
  {
   "cell_type": "code",
   "execution_count": null,
   "metadata": {},
   "outputs": [
    {
     "data": {
      "text/plain": [
       "(False, True)"
      ]
     },
     "execution_count": null,
     "metadata": {},
     "output_type": "execute_result"
    }
   ],
   "source": [
    "v.incident == he_new, not (v.incident == he)"
   ]
  },
  {
   "cell_type": "code",
   "execution_count": null,
   "metadata": {},
   "outputs": [],
   "source": [
    "#| export\n",
    "\n",
    "@patch\n",
    "def sort_hes(self: Face):\n",
    "    \"\"\"Sort the list of hes of a face.\"\"\"\n",
    "    sorted_hes = []\n",
    "    returned = False\n",
    "    start_he = self.hes[0]\n",
    "    he = start_he\n",
    "    while not returned:\n",
    "        sorted_hes.append(he)\n",
    "        if he._hemesh is not None:\n",
    "            he = he.nxt\n",
    "        else:\n",
    "            he = next(x for x in self.hes if x._heid == he._nxtid)\n",
    "        returned = (he == start_he)\n",
    "    self.hes = sorted_hes"
   ]
  },
  {
   "cell_type": "markdown",
   "metadata": {},
   "source": [
    "The additional data provided by the half-edge mesh structure will be very helpful further on. In order to initialize the half-edge data structure, we use the `ListOfVerticesAndFaces` class from above.\n",
    "\n",
    "TO DO: figure out how to deal with edge id's, edge variables."
   ]
  },
  {
   "cell_type": "markdown",
   "metadata": {},
   "source": [
    "Everything has a lot more boilerplate unfortunately, because I am using `dict`s of objects, and not directly pointers like in a C++ implementation."
   ]
  },
  {
   "cell_type": "markdown",
   "metadata": {},
   "source": [
    "Inspired by: https://github.com/yig/trimesh/blob/master/trimesh.py"
   ]
  },
  {
   "cell_type": "markdown",
   "metadata": {},
   "source": [
    "The first question is how to get the half-edges from the face-list."
   ]
  },
  {
   "cell_type": "code",
   "execution_count": null,
   "metadata": {},
   "outputs": [],
   "source": [
    "#| export\n",
    "def get_half_edges(mesh: ListOfVerticesAndFaces) -> Dict[int, HalfEdge]:\n",
    "    \"\"\"Create list of half-edges from a ListOfVerticesAndFaces mesh\"\"\"\n",
    "    heid_counter = 0\n",
    "    he_vertex_dict = dict()\n",
    "    # first create half edges without their twins by going around each face.\n",
    "    # index them by their vertices to match twins after\n",
    "    for key, fc in mesh.faces.items():\n",
    "        # ensure face is oriented correctly\n",
    "        fc = sort_ids_by_vertices(fc, [mesh.vertices[x] for x in fc])\n",
    "        heids = [heid_counter+i for i in range(len(fc))]\n",
    "        nxts, prevs = (np.roll(heids, -1).tolist(), np.roll(heids, +1).tolist())\n",
    "        vertices = [tuple((fc+[fc[0]])[i:i+2]) for i in range(len(fc))]\n",
    "        for _heid, _nxtid, _previd, _verticesid in zip(heids, nxts, prevs, vertices):\n",
    "             he_vertex_dict[_verticesid] = HalfEdge(_heid, _nxtid, _previd, None, key, _verticesid)\n",
    "                # is the order correct here??\n",
    "        heid_counter += len(fc)\n",
    "    # now match the half-edges. if they cannot match, add a new he with faec None\n",
    "    hes = []\n",
    "    for he1 in he_vertex_dict.values():\n",
    "        try:\n",
    "            he2 = he_vertex_dict[he1._verticesid[::-1]]\n",
    "        except KeyError:\n",
    "            he2 = HalfEdge(heid_counter, None, None, he1._heid, None, he1._verticesid[::-1],)\n",
    "            heid_counter += 1\n",
    "        he1._twinid, he2._twinid = (he2._heid, he1._heid)\n",
    "        hes.append(he1); hes.append(he2)\n",
    "    # find the \"next\" of the boundary edges. we can just traverse inshallah\n",
    "    bdry = [he for he in hes if he._faceid is None]\n",
    "    for he1 in bdry:\n",
    "        try:\n",
    "            nxt = next(he2 for he2 in bdry if he1._verticesid[1] == he2._verticesid[0])\n",
    "            prev = next(he2 for he2 in bdry if he1._verticesid[0] == he2._verticesid[1])\n",
    "            he1._nxtid, he1._previd = (nxt._heid, prev._heid)\n",
    "        except StopIteration:\n",
    "            print(\"Corner detected\")\n",
    "    # turn into dict for easy access\n",
    "    return {he._heid: he for he in hes}"
   ]
  },
  {
   "cell_type": "code",
   "execution_count": null,
   "metadata": {},
   "outputs": [
    {
     "data": {
      "text/plain": [
       "{0: HalfEdge(heid=0, nxt=1, prev=2, twin=6, face=0, vertices=(0, 2), rest=0.0, passive=0.0,\n",
       " 6: HalfEdge(heid=6, nxt=9, prev=7, twin=0, face=None, vertices=(2, 0), rest=0.0, passive=0.0,\n",
       " 1: HalfEdge(heid=1, nxt=2, prev=0, twin=7, face=0, vertices=(2, 3), rest=0.0, passive=0.0,\n",
       " 7: HalfEdge(heid=7, nxt=6, prev=8, twin=1, face=None, vertices=(3, 2), rest=0.0, passive=0.0,\n",
       " 2: HalfEdge(heid=2, nxt=0, prev=1, twin=3, face=0, vertices=(3, 0), rest=0.0, passive=0.0,\n",
       " 3: HalfEdge(heid=3, nxt=4, prev=5, twin=2, face=1, vertices=(0, 3), rest=0.0, passive=0.0,\n",
       " 4: HalfEdge(heid=4, nxt=5, prev=3, twin=8, face=1, vertices=(3, 1), rest=0.0, passive=0.0,\n",
       " 8: HalfEdge(heid=8, nxt=7, prev=9, twin=4, face=None, vertices=(1, 3), rest=0.0, passive=0.0,\n",
       " 5: HalfEdge(heid=5, nxt=3, prev=4, twin=9, face=1, vertices=(1, 0), rest=0.0, passive=0.0,\n",
       " 9: HalfEdge(heid=9, nxt=8, prev=6, twin=5, face=None, vertices=(0, 1), rest=0.0, passive=0.0}"
      ]
     },
     "execution_count": null,
     "metadata": {},
     "output_type": "execute_result"
    }
   ],
   "source": [
    "test_mesh = get_test_mesh()\n",
    "hes = get_half_edges(test_mesh)\n",
    "hes"
   ]
  },
  {
   "cell_type": "markdown",
   "metadata": {},
   "source": [
    "The `HalfEdgeMesh` data structure needs to contain the following data:\n",
    "\n",
    "- Vertices\n",
    "- Faces\n",
    "- Half-Edges\n",
    "\n",
    "They are once again stored in a `dict` format for easy access."
   ]
  },
  {
   "cell_type": "code",
   "execution_count": null,
   "metadata": {},
   "outputs": [],
   "source": [
    "#| export\n",
    "\n",
    "class HalfEdgeMesh:\n",
    "    def __init__(self, mesh : ListOfVerticesAndFaces):\n",
    "        hes = get_half_edges(mesh)\n",
    "        self.hes = hes\n",
    "        self.faces = {key: Face(key, []) for key in mesh.faces.keys()}\n",
    "        [self.faces[he._faceid].hes.append(he) for he in hes.values() if he._faceid is not None]\n",
    "        self.vertices = {key: Vertex(key, val, []) for key, val in mesh.vertices.items()}\n",
    "        [self.vertices[he._verticesid[1]].incident.append(he) for he in hes.values()]\n",
    "        for he in self.hes.values():\n",
    "            he._hemesh = self\n",
    "        [fc.sort_hes() for fc in self.faces.values()]\n",
    "\n",
    "    \n",
    "    #def __deepcopy__(self):\n",
    "    #    pass\n",
    "    \n",
    "    def to_ListOfVerticesAndFaces(self): # also not efficient\n",
    "        vertices = {key: val.coords for key, val in self.vertices.items()}\n",
    "        faces = {key: set(flatten([he._verticesid for he in val.hes]))\n",
    "                 for key, val in self.faces.items()}\n",
    "        return ListOfVerticesAndFaces(vertices, faces)\n",
    "    \n",
    "    def saveObj(self, fname):\n",
    "        self.to_ListOfVerticesAndFaces().saveObj(fname)\n",
    "    \n",
    "    @staticmethod\n",
    "    def fromObj(fname):\n",
    "        return HalfEdgeMesh(ListOfVerticesAndFaces.fromObj(fname))"
   ]
  },
  {
   "cell_type": "code",
   "execution_count": null,
   "metadata": {},
   "outputs": [],
   "source": [
    "#| export\n",
    "def get_test_hemesh():\n",
    "    return HalfEdgeMesh(get_test_mesh())"
   ]
  },
  {
   "cell_type": "code",
   "execution_count": null,
   "metadata": {},
   "outputs": [
    {
     "data": {
      "text/plain": [
       "<__main__.HalfEdgeMesh>"
      ]
     },
     "execution_count": null,
     "metadata": {},
     "output_type": "execute_result"
    }
   ],
   "source": [
    "test_hemesh = get_test_hemesh()\n",
    "\n",
    "test_hemesh"
   ]
  },
  {
   "cell_type": "code",
   "execution_count": null,
   "metadata": {},
   "outputs": [
    {
     "data": {
      "text/plain": [
       "array([[1., 0.],\n",
       "       [0., 1.]])"
      ]
     },
     "execution_count": null,
     "metadata": {},
     "output_type": "execute_result"
    }
   ],
   "source": [
    "test_hemesh.faces[1].rest_shape"
   ]
  },
  {
   "cell_type": "code",
   "execution_count": null,
   "metadata": {},
   "outputs": [
    {
     "data": {
      "text/plain": [
       "HalfEdge(heid=8, nxt=7, prev=9, twin=4, face=None, vertices=(1, 3), rest=0.0, passive=0.0, center=[0.5 1. ]"
      ]
     },
     "execution_count": null,
     "metadata": {},
     "output_type": "execute_result"
    }
   ],
   "source": [
    "test_hemesh.hes[4].twin"
   ]
  },
  {
   "cell_type": "code",
   "execution_count": null,
   "metadata": {},
   "outputs": [
    {
     "data": {
      "text/plain": [
       "{0: array([0., 0.]),\n",
       " 1: array([0. , 1.1]),\n",
       " 2: array([1., 0.]),\n",
       " 3: array([1., 1.])}"
      ]
     },
     "execution_count": null,
     "metadata": {},
     "output_type": "execute_result"
    }
   ],
   "source": [
    "test_mesh.vertices"
   ]
  },
  {
   "cell_type": "code",
   "execution_count": null,
   "metadata": {},
   "outputs": [
    {
     "data": {
      "text/plain": [
       "[array([0., 0.]), array([0. , 1.1]), array([1., 0.]), array([1., 1.])]"
      ]
     },
     "execution_count": null,
     "metadata": {},
     "output_type": "execute_result"
    }
   ],
   "source": [
    "[x.coords for x in test_hemesh.vertices.values()]"
   ]
  },
  {
   "cell_type": "code",
   "execution_count": null,
   "metadata": {},
   "outputs": [
    {
     "data": {
      "text/plain": [
       "{0: HalfEdge(heid=0, nxt=1, prev=2, twin=6, face=0, vertices=(0, 2), rest=0.0, passive=0.0, center=[0.5 0. ],\n",
       " 6: HalfEdge(heid=6, nxt=9, prev=7, twin=0, face=None, vertices=(2, 0), rest=0.0, passive=0.0, center=[0.5 0. ],\n",
       " 1: HalfEdge(heid=1, nxt=2, prev=0, twin=7, face=0, vertices=(2, 3), rest=0.0, passive=0.0, center=[1.  0.5],\n",
       " 7: HalfEdge(heid=7, nxt=6, prev=8, twin=1, face=None, vertices=(3, 2), rest=0.0, passive=0.0, center=[1.  0.5],\n",
       " 2: HalfEdge(heid=2, nxt=0, prev=1, twin=3, face=0, vertices=(3, 0), rest=0.0, passive=0.0, center=[0.5 0.5],\n",
       " 3: HalfEdge(heid=3, nxt=4, prev=5, twin=2, face=1, vertices=(0, 3), rest=0.0, passive=0.0, center=[0.5 0.5],\n",
       " 4: HalfEdge(heid=4, nxt=5, prev=3, twin=8, face=1, vertices=(3, 1), rest=0.0, passive=0.0, center=[0.5 1. ],\n",
       " 8: HalfEdge(heid=8, nxt=7, prev=9, twin=4, face=None, vertices=(1, 3), rest=0.0, passive=0.0, center=[0.5 1. ],\n",
       " 5: HalfEdge(heid=5, nxt=3, prev=4, twin=9, face=1, vertices=(1, 0), rest=0.0, passive=0.0, center=[0.  0.6],\n",
       " 9: HalfEdge(heid=9, nxt=8, prev=6, twin=5, face=None, vertices=(0, 1), rest=0.0, passive=0.0, center=[0.  0.6]}"
      ]
     },
     "execution_count": null,
     "metadata": {},
     "output_type": "execute_result"
    }
   ],
   "source": [
    "test_hemesh.hes"
   ]
  },
  {
   "cell_type": "code",
   "execution_count": null,
   "metadata": {},
   "outputs": [
    {
     "data": {
      "text/plain": [
       "{0: Face(fid=0, rest_shape=[[1.0, 0.0], [0.0, 1.0]], hes=[0, 1, 2]),\n",
       " 1: Face(fid=1, rest_shape=[[1.0, 0.0], [0.0, 1.0]], hes=[3, 4, 5])}"
      ]
     },
     "execution_count": null,
     "metadata": {},
     "output_type": "execute_result"
    }
   ],
   "source": [
    "test_hemesh.faces"
   ]
  },
  {
   "cell_type": "code",
   "execution_count": null,
   "metadata": {},
   "outputs": [
    {
     "name": "stdout",
     "output_type": "stream",
     "text": [
      "{0: [0, 2, 3], 1: [0, 3, 1]}\n",
      "{0: array([0., 0.]), 1: array([0. , 1.1]), 2: array([1., 0.]), 3: array([1., 1.])}\n"
     ]
    }
   ],
   "source": [
    "# convert back to simpler format if required.\n",
    "\n",
    "print(test_hemesh.to_ListOfVerticesAndFaces().faces)\n",
    "\n",
    "print(test_hemesh.to_ListOfVerticesAndFaces().vertices)"
   ]
  },
  {
   "cell_type": "markdown",
   "metadata": {},
   "source": [
    "#### test timing of initialization methods: how long for 1000 faces?"
   ]
  },
  {
   "cell_type": "code",
   "execution_count": null,
   "metadata": {},
   "outputs": [
    {
     "data": {
      "text/plain": [
       "[<matplotlib.lines.Line2D>,\n",
       " <matplotlib.lines.Line2D>]"
      ]
     },
     "execution_count": null,
     "metadata": {},
     "output_type": "execute_result"
    },
    {
     "data": {
      "image/png": "[encoded data removed]",
      "text/plain": [
       "<Figure size 432x288 with 1 Axes>"
      ]
     },
     "metadata": {
      "needs_background": "light"
     },
     "output_type": "display_data"
    }
   ],
   "source": [
    "pts = np.stack(np.meshgrid(np.linspace(0, 1, 25), np.linspace(0, 1, 50)))\n",
    "noise =  np.random.normal(size=pts.shape, scale=.0025)\n",
    "noise[:,0,:] = noise[:,-1,:] = 0\n",
    "noise[:,:,0] = noise[:,:,-1] = 0\n",
    "\n",
    "pts += noise\n",
    "pts = pts.reshape((2, pts.shape[1]*pts.shape[2])).T\n",
    "\n",
    "tri = spatial.Delaunay(pts)\n",
    "plt.triplot(tri.points[:,0], tri.points[:,1], tri.simplices)"
   ]
  },
  {
   "cell_type": "code",
   "execution_count": null,
   "metadata": {},
   "outputs": [
    {
     "name": "stdout",
     "output_type": "stream",
     "text": [
      "CPU times: user 117 ms, sys: 0 ns, total: 117 ms\n",
      "Wall time: 239 ms\n"
     ]
    }
   ],
   "source": [
    "%%time\n",
    "test_mesh_large = ListOfVerticesAndFaces(tri.points, tri.simplices)"
   ]
  },
  {
   "cell_type": "code",
   "execution_count": null,
   "metadata": {},
   "outputs": [
    {
     "name": "stdout",
     "output_type": "stream",
     "text": [
      "CPU times: user 275 ms, sys: 0 ns, total: 275 ms\n",
      "Wall time: 550 ms\n"
     ]
    }
   ],
   "source": [
    "%%time\n",
    "_ = HalfEdgeMesh(test_mesh_large)\n",
    "# ok!"
   ]
  },
  {
   "cell_type": "code",
   "execution_count": null,
   "metadata": {},
   "outputs": [],
   "source": [
    "#| export\n",
    "def get_test_mesh_large(x=np.linspace(0, 1, 25), y=np.linspace(0, 1, 50), noise=.0025):\n",
    "    pts = np.stack(np.meshgrid(x, y))\n",
    "    \n",
    "    np.random.seed(1241) # get consistent results\n",
    "    noise =  np.random.normal(size=pts.shape, scale=noise)\n",
    "    noise[:,0,:] = noise[:,-1,:] = 0\n",
    "    noise[:,:,0] = noise[:,:,-1] = 0\n",
    "    pts += noise\n",
    "    \n",
    "    pts = pts.reshape((2, pts.shape[1]*pts.shape[2])).T\n",
    "    tri = spatial.Delaunay(pts)\n",
    "    return ListOfVerticesAndFaces(tri.points, tri.simplices)\n",
    "\n",
    "def get_test_hemesh_large(x=np.linspace(0, 1, 25), y=np.linspace(0, 1, 50), noise=.0025):\n",
    "    return HalfEdgeMesh(get_test_mesh_large(x=x, y=y, noise=noise))"
   ]
  },
  {
   "cell_type": "code",
   "execution_count": null,
   "metadata": {},
   "outputs": [
    {
     "data": {
      "text/plain": [
       "<__main__.HalfEdgeMesh>"
      ]
     },
     "execution_count": null,
     "metadata": {},
     "output_type": "execute_result"
    }
   ],
   "source": [
    "get_test_hemesh_large()"
   ]
  },
  {
   "cell_type": "markdown",
   "metadata": {},
   "source": [
    "## simple mesh traversal and modification algorithms\n",
    "\n",
    "https://jerryyin.info/geometry-processing-algorithms/half-edge/"
   ]
  },
  {
   "cell_type": "markdown",
   "metadata": {},
   "source": [
    "### required modification operations:\n",
    "\n",
    "- Flip edge\n",
    "- Collapse edge\n",
    "- Split vertex\n",
    "\n",
    "Other things should not really be required in the simulations. Adding/removing faces, vertices etc. should not happen, since initialization is not really meant to be incremental."
   ]
  },
  {
   "cell_type": "code",
   "execution_count": null,
   "metadata": {},
   "outputs": [],
   "source": [
    "# iterate around a face - not really required since we store all hes of a face\n",
    "\n",
    "hemesh = get_test_hemesh()\n",
    "fc = 0\n",
    "\n",
    "returned = False\n",
    "start_he = hemesh.faces[fc].hes[0]\n",
    "he = start_he\n",
    "while not returned:\n",
    "    # do something here\n",
    "    he = he.nxt\n",
    "    returned = (he == start_he)\n",
    "    \n",
    "# iterating around a vertex (=dual face) is done by initializing with an inciden edge and using he.next.twin."
   ]
  },
  {
   "cell_type": "code",
   "execution_count": null,
   "metadata": {},
   "outputs": [],
   "source": [
    "# get all incident edges on vertex from a single one\n",
    "\n",
    "hemesh = get_test_hemesh()\n",
    "v = 0\n",
    "\n",
    "returned = False\n",
    "start_he = hemesh.vertices[v].incident[0]\n",
    "he = start_he\n",
    "while not returned:\n",
    "    # do something here\n",
    "    he = he.nxt.twin #hemesh.hes[hemesh.hes[he.nxt].twin]\n",
    "    returned = (he == start_he)"
   ]
  },
  {
   "cell_type": "markdown",
   "metadata": {},
   "source": [
    "### Update half edges of faces and vertices based on a single he\n",
    "\n",
    "Re-create the full list of half edges belonging to a face or vertex based on its first half edge.\n",
    "Useful for mesh modification operations"
   ]
  },
  {
   "cell_type": "code",
   "execution_count": null,
   "metadata": {},
   "outputs": [],
   "source": [
    "#| export\n",
    "\n",
    "@patch\n",
    "def reset_hes(self: HalfEdgeMesh, face_or_vertex: Union[Face, Vertex]):\n",
    "    \"\"\"Re-create the full list of half edges belonging to a face or vertex based on its first half edge.\n",
    "    Note: for vertices, this relies on the mesh being a triangulation. If that's not the case, would\n",
    "    need use different method (go around face, with special case for bdry).\"\"\"\n",
    "    returned = False\n",
    "    new_hes = []\n",
    "    if isinstance(face_or_vertex, Face):\n",
    "        start_he = face_or_vertex.hes[0]\n",
    "        he = start_he\n",
    "        while not returned:\n",
    "            he = he.nxt\n",
    "            new_hes.append(he)\n",
    "            returned = (he == start_he)\n",
    "        face_or_vertex.hes = new_hes\n",
    "    if isinstance(face_or_vertex, Vertex):\n",
    "        start_he = face_or_vertex.incident[0]\n",
    "        he = start_he\n",
    "        while not returned:\n",
    "            he = he.nxt.twin\n",
    "            new_hes.append(he)\n",
    "            returned = (he == start_he)\n",
    "        face_or_vertex.incident = new_hes"
   ]
  },
  {
   "cell_type": "code",
   "execution_count": null,
   "metadata": {},
   "outputs": [
    {
     "name": "stdout",
     "output_type": "stream",
     "text": [
      "[1, 3, 8]\n",
      "[8]\n",
      "[1, 3, 8]\n"
     ]
    }
   ],
   "source": [
    "test_hemesh = get_test_hemesh()\n",
    "\n",
    "print([x._heid for x  in test_hemesh.vertices[3].incident])\n",
    "test_hemesh.vertices[3].incident = [test_hemesh.vertices[3].incident[2]]\n",
    "print([x._heid for x  in test_hemesh.vertices[3].incident])\n",
    "test_hemesh.reset_hes(test_hemesh.vertices[3])\n",
    "print([x._heid for x  in test_hemesh.vertices[3].incident])\n"
   ]
  },
  {
   "cell_type": "code",
   "execution_count": null,
   "metadata": {},
   "outputs": [
    {
     "name": "stdout",
     "output_type": "stream",
     "text": [
      "[3, 4, 5]\n",
      "[5]\n",
      "[3, 4, 5]\n"
     ]
    }
   ],
   "source": [
    "test_hemesh = get_test_hemesh()\n",
    "\n",
    "print([x._heid for x  in test_hemesh.faces[1].hes])\n",
    "test_hemesh.faces[1].hes = [test_hemesh.faces[1].hes[2]]\n",
    "print([x._heid for x  in test_hemesh.faces[1].hes])\n",
    "test_hemesh.reset_hes(test_hemesh.faces[1])\n",
    "print([x._heid for x  in test_hemesh.faces[1].hes])\n"
   ]
  },
  {
   "attachments": {
    "image.png": {
     "image/png": "[encoded data removed]"
    }
   },
   "cell_type": "markdown",
   "metadata": {},
   "source": [
    "#### Flip edge\n",
    "\n",
    "\n",
    "Refer to https://jerryyin.info/geometry-processing-algorithms/half-edge/:\n",
    "\n",
    "![image.png](attachment:image.png)"
   ]
  },
  {
   "cell_type": "code",
   "execution_count": null,
   "metadata": {},
   "outputs": [],
   "source": [
    "#| export\n",
    "\n",
    "@patch\n",
    "def flip_edge(self: HalfEdgeMesh, e: int):\n",
    "    \"\"\"Flip edge of a triangle mesh. Call by using he index\n",
    "    If the two adjacent faces are not triangles, it does not work!\n",
    "    If any of the half-edge vertices has <4 neighbors, return an error - such a flip is impossible,\n",
    "    since it would remove one of the edges of a triangular (dual) cell.\n",
    "    For variable name convention, see jerryyin.info/geometry-processing-algorithms/half-edge/\"\"\"\n",
    "    # by convention, always flip the duplicate\n",
    "    e = self.hes[e]\n",
    "    e = e if e.duplicate else e.twin\n",
    "    if any([len(v.incident) < 4 for v in e.vertices]):\n",
    "        raise ValueError('Cannot flip edge of triangular cell')\n",
    "    if e._faceid is None or e.twin._faceid is None:\n",
    "        raise ValueError('Cannot flip boundary edge')\n",
    "    # collect the required objects\n",
    "    e5 = e.prev\n",
    "    e4 = e.nxt\n",
    "    twin = e.twin\n",
    "    e1 = twin.prev\n",
    "    e0 = twin.nxt\n",
    "    # making sure the vertices and faces do not refer to any of the edges to be modified.\n",
    "    f0, f1 = [e1.face, e5.face]\n",
    "    f0.hes, f1.hes = [[e1], [e5]]\n",
    "    v3, v4, v2, v1 = [he.vertices[1] for he in [e0, e1, e4, e5]]\n",
    "    v3.incident, v4.incident, v2.incident, v1.incident = [[he] for he in [e0, e1, e4, e5]]\n",
    "    # recycle e, twin.\n",
    "    e._nxtid = e5._heid\n",
    "    e._previd = e0._heid\n",
    "    e._faceid = f1._fid\n",
    "    e._verticesid = (v3._vid, v2._vid)\n",
    "    twin._nxtid = e1._heid\n",
    "    twin._previd = e4._heid\n",
    "    twin._faceid = f0._fid\n",
    "    twin._verticesid = (v2._vid, v3._vid)\n",
    "    # update next/prev values for the external edges\n",
    "    e0._nxtid = e._heid\n",
    "    e1._nxtid = e4._heid\n",
    "    e4._nxtid = twin._heid\n",
    "    e5._nxtid = e0._heid\n",
    "    e0._previd = e5._heid\n",
    "    e1._previd = twin._heid\n",
    "    e4._previd = e1._heid\n",
    "    e5._previd = e._heid\n",
    "    # update the face of e0, e4\n",
    "    e0._faceid = f1._fid\n",
    "    e4._faceid = f0._fid\n",
    "    # re-complete the list of half-edges for the vertices and faces\n",
    "    for vertex_or_face in [f0, f1]+[v3, v4, v2, v1]:\n",
    "        self.reset_hes(vertex_or_face)\n",
    "    # re-order the faces\n",
    "    f0.sort_hes(); f1.sort_hes()\n",
    "    \n",
    "        "
   ]
  },
  {
   "cell_type": "code",
   "execution_count": null,
   "metadata": {},
   "outputs": [],
   "source": [
    "# external edges (face is None) should not change. twin values should not change. both those conditions ok"
   ]
  },
  {
   "cell_type": "code",
   "execution_count": null,
   "metadata": {},
   "outputs": [],
   "source": [
    "test_hemesh = get_test_hemesh()"
   ]
  },
  {
   "cell_type": "code",
   "execution_count": null,
   "metadata": {},
   "outputs": [
    {
     "data": {
      "text/plain": [
       "{0: HalfEdge(heid=0, nxt=1, prev=2, twin=6, face=0, vertices=(0, 2), rest=0.0, passive=0.0, center=[0.5 0. ],\n",
       " 1: HalfEdge(heid=1, nxt=2, prev=0, twin=7, face=0, vertices=(2, 3), rest=0.0, passive=0.0, center=[1.  0.5],\n",
       " 2: HalfEdge(heid=2, nxt=0, prev=1, twin=3, face=0, vertices=(3, 0), rest=0.0, passive=0.0, center=[0.5 0.5],\n",
       " 3: HalfEdge(heid=3, nxt=4, prev=5, twin=2, face=1, vertices=(0, 3), rest=0.0, passive=0.0, center=[0.5 0.5],\n",
       " 4: HalfEdge(heid=4, nxt=5, prev=3, twin=8, face=1, vertices=(3, 1), rest=0.0, passive=0.0, center=[0.5 1. ],\n",
       " 5: HalfEdge(heid=5, nxt=3, prev=4, twin=9, face=1, vertices=(1, 0), rest=0.0, passive=0.0, center=[0.  0.6]}"
      ]
     },
     "execution_count": null,
     "metadata": {},
     "output_type": "execute_result"
    }
   ],
   "source": [
    "# internal hes: 2, 3\n",
    "\n",
    "{key: val for key, val in test_hemesh.hes.items() if val.face is not None}"
   ]
  },
  {
   "cell_type": "code",
   "execution_count": null,
   "metadata": {},
   "outputs": [
    {
     "data": {
      "text/plain": [
       "{0: array([0., 0.]),\n",
       " 1: array([0. , 1.1]),\n",
       " 2: array([1., 0.]),\n",
       " 3: array([1., 1.])}"
      ]
     },
     "execution_count": null,
     "metadata": {},
     "output_type": "execute_result"
    }
   ],
   "source": [
    "{key: val.coords for key, val in test_hemesh.vertices.items()}"
   ]
  },
  {
   "cell_type": "code",
   "execution_count": null,
   "metadata": {},
   "outputs": [
    {
     "data": {
      "text/plain": [
       "{0: [0, 2, 3], 1: [0, 3, 1]}"
      ]
     },
     "execution_count": null,
     "metadata": {},
     "output_type": "execute_result"
    }
   ],
   "source": [
    "test_hemesh.to_ListOfVerticesAndFaces().faces"
   ]
  },
  {
   "cell_type": "code",
   "execution_count": null,
   "metadata": {},
   "outputs": [],
   "source": [
    "test_hemesh.flip_edge(2)"
   ]
  },
  {
   "cell_type": "code",
   "execution_count": null,
   "metadata": {},
   "outputs": [
    {
     "data": {
      "text/plain": [
       "{0: HalfEdge(heid=0, nxt=3, prev=5, twin=6, face=1, vertices=(0, 2), rest=0.0, passive=0.0, center=[0.5 0. ],\n",
       " 1: HalfEdge(heid=1, nxt=4, prev=2, twin=7, face=0, vertices=(2, 3), rest=0.0, passive=0.0, center=[1.  0.5],\n",
       " 2: HalfEdge(heid=2, nxt=1, prev=4, twin=3, face=0, vertices=(1, 2), rest=0.0, passive=0.0, center=[0.5 0.6],\n",
       " 3: HalfEdge(heid=3, nxt=5, prev=0, twin=2, face=1, vertices=(2, 1), rest=0.0, passive=0.0, center=[0.5 0.6],\n",
       " 4: HalfEdge(heid=4, nxt=2, prev=1, twin=8, face=0, vertices=(3, 1), rest=0.0, passive=0.0, center=[0.5 1. ],\n",
       " 5: HalfEdge(heid=5, nxt=0, prev=3, twin=9, face=1, vertices=(1, 0), rest=0.0, passive=0.0, center=[0.  0.6]}"
      ]
     },
     "execution_count": null,
     "metadata": {},
     "output_type": "execute_result"
    }
   ],
   "source": [
    "{key: val for key, val in test_hemesh.hes.items() if val.face is not None}"
   ]
  },
  {
   "cell_type": "code",
   "execution_count": null,
   "metadata": {},
   "outputs": [
    {
     "data": {
      "text/plain": [
       "{0: [4, 2, 1], 1: [0, 3, 5]}"
      ]
     },
     "execution_count": null,
     "metadata": {},
     "output_type": "execute_result"
    }
   ],
   "source": [
    "{key: [he._heid for he in val.hes] for key, val in test_hemesh.faces.items()}"
   ]
  },
  {
   "cell_type": "code",
   "execution_count": null,
   "metadata": {},
   "outputs": [
    {
     "data": {
      "text/plain": [
       "{0: [2, 3, 1], 1: [0, 2, 1]}"
      ]
     },
     "execution_count": null,
     "metadata": {},
     "output_type": "execute_result"
    }
   ],
   "source": [
    "test_hemesh.to_ListOfVerticesAndFaces().faces  # looks good to me !"
   ]
  },
  {
   "cell_type": "code",
   "execution_count": null,
   "metadata": {},
   "outputs": [],
   "source": [
    "# how well does this perform?\n",
    "test_hemesh_large = get_test_hemesh_large()"
   ]
  },
  {
   "cell_type": "code",
   "execution_count": null,
   "metadata": {},
   "outputs": [
    {
     "name": "stdout",
     "output_type": "stream",
     "text": [
      "CPU times: user 688 ms, sys: 344 µs, total: 688 ms\n",
      "Wall time: 1.11 s\n"
     ]
    }
   ],
   "source": [
    "%%time\n",
    "\n",
    "for i in range(1000):\n",
    "    heid = np.random.choice(list(test_hemesh_large.hes.keys()))\n",
    "    try:\n",
    "        test_hemesh_large.flip_edge(heid)\n",
    "    except ValueError:\n",
    "        continue"
   ]
  },
  {
   "cell_type": "code",
   "execution_count": null,
   "metadata": {},
   "outputs": [],
   "source": [
    "#| export\n",
    "\n",
    "@patch\n",
    "def is_consistent(self: HalfEdgeMesh):\n",
    "    \"\"\"For debugging/testing purposes\"\"\"\n",
    "    # check next and prev relations are consistent with vertices\n",
    "    assert all([he.vertices[1] == he.nxt.vertices[0]\n",
    "                and he.vertices[0] == he.prev.vertices[1]\n",
    "                for he in self.hes.values()])\n",
    "    # check half edges are registered in cells\n",
    "    assert all([he in he.face.hes\n",
    "                for he in self.hes.values() if he.face is not None])\n",
    "    # check half edges are registered in vertices\n",
    "    assert all([he in he.vertices[1].incident\n",
    "                for he in self.hes.values()])\n",
    "    # check twins have matching vertices\n",
    "    assert all([he.vertices == he.twin.vertices[::-1]\n",
    "                for he in self.hes.values()])\n",
    "    # check everybody is a triangle\n",
    "    assert all([len(fc.hes) == 3 for fc in self.faces.values()])\n",
    "    # check all triangles are sorted\n",
    "    assert all([all([(fc.hes[i].nxt == fc.hes[(i+1)%3]) for i in range(3)])\n",
    "                for fc in self.faces.values()])\n",
    "    \n",
    "    return True"
   ]
  },
  {
   "cell_type": "code",
   "execution_count": null,
   "metadata": {},
   "outputs": [],
   "source": [
    "# example of consistent and inconsistent meshes"
   ]
  },
  {
   "cell_type": "code",
   "execution_count": null,
   "metadata": {},
   "outputs": [
    {
     "name": "stdout",
     "output_type": "stream",
     "text": [
      "True\n",
      "True\n"
     ]
    }
   ],
   "source": [
    "test_hemesh = get_test_hemesh()\n",
    "print(test_hemesh.is_consistent())\n",
    "test_hemesh.flip_edge(2)\n",
    "print(test_hemesh.is_consistent())\n"
   ]
  },
  {
   "cell_type": "code",
   "execution_count": null,
   "metadata": {},
   "outputs": [
    {
     "name": "stdout",
     "output_type": "stream",
     "text": [
      "True\n",
      "True\n"
     ]
    }
   ],
   "source": [
    "test_hemesh_large = get_test_hemesh_large()\n",
    "print(test_hemesh_large.is_consistent())\n",
    "test_hemesh_large.flip_edge(839)\n",
    "print(test_hemesh_large.is_consistent())"
   ]
  },
  {
   "cell_type": "code",
   "execution_count": null,
   "metadata": {},
   "outputs": [
    {
     "name": "stdout",
     "output_type": "stream",
     "text": [
      "inconsistency detected, as desired\n"
     ]
    }
   ],
   "source": [
    "test_hemesh = get_test_hemesh()\n",
    "test_hemesh.hes[0]._twinid = 0\n",
    "try:\n",
    "    test_hemesh.is_consistent()\n",
    "    assert False, \"should raise error\"\n",
    "except AssertionError:\n",
    "    print(\"inconsistency detected, as desired\")\n",
    "\n",
    "test_hemesh = HalfEdgeMesh(test_mesh)"
   ]
  },
  {
   "cell_type": "markdown",
   "metadata": {},
   "source": [
    "## Other mesh traversal related operations"
   ]
  },
  {
   "cell_type": "code",
   "execution_count": null,
   "metadata": {},
   "outputs": [],
   "source": [
    "#| export\n",
    "\n",
    "@patch\n",
    "def is_bdr(self: Face):\n",
    "    \"\"\"True if face touches bdr. Check all vertices. Does any have an incident edge with None face?\"\"\"\n",
    "    verts = [he.vertices[1] for he in self.hes]\n",
    "    return any([any([he.face is None for he in v.incident]) for v in verts])\n",
    "\n",
    "def get_boundary_faces(msh):\n",
    "    \"\"\"Get indices of boundary faces\"\"\"\n",
    "    bdr_faces = []\n",
    "    bdr_start = next(he for he in msh.hes.values() if he.face is None).twin.nxt\n",
    "    he = bdr_start\n",
    "    returned = False\n",
    "    while not returned:\n",
    "        bdr_faces.append(he.face._fid)\n",
    "        if he.nxt.twin.face.is_bdr():\n",
    "            he = he.nxt.twin\n",
    "        else:\n",
    "            he = he.prev.twin\n",
    "        returned = (he == bdr_start)\n",
    "    return bdr_faces"
   ]
  },
  {
   "cell_type": "code",
   "execution_count": null,
   "metadata": {},
   "outputs": [],
   "source": [
    "#| export\n",
    "\n",
    "@patch\n",
    "def get_face_neighbors(self: Vertex):\n",
    "    \"\"\"Get face neighbors of vertex\"\"\"\n",
    "    neighbors = []\n",
    "    start_he = self.incident[0]\n",
    "    he = start_he\n",
    "    returned = False\n",
    "    while not returned:\n",
    "        neighbors.append(he.face)\n",
    "        he = he.nxt.twin\n",
    "        returned = (he == start_he)\n",
    "    return neighbors\n"
   ]
  },
  {
   "cell_type": "markdown",
   "metadata": {},
   "source": [
    "## Initializing the dual coordinates"
   ]
  },
  {
   "cell_type": "code",
   "execution_count": null,
   "metadata": {},
   "outputs": [],
   "source": [
    "#| export\n",
    "\n",
    "@patch\n",
    "def set_centroid(self: HalfEdgeMesh):\n",
    "    \"\"\"Set dual positions to triangle centroid\"\"\"\n",
    "    for fc in self.faces.values():\n",
    "        vecs = []\n",
    "        returned = False\n",
    "        start_he = fc.hes[0]\n",
    "        he = start_he\n",
    "        while not returned:\n",
    "            vecs.append(he.vertices[0].coords)\n",
    "            he = he.nxt\n",
    "            returned = (he == start_he)\n",
    "        fc.dual_coords = np.mean(vecs, axis=0)"
   ]
  },
  {
   "cell_type": "markdown",
   "metadata": {},
   "source": [
    "## transforming vertices and dual vertices"
   ]
  },
  {
   "cell_type": "code",
   "execution_count": null,
   "metadata": {},
   "outputs": [],
   "source": [
    "#| export\n",
    "\n",
    "@patch\n",
    "def transform_vertices(self: HalfEdgeMesh, trafo: Union[Callable, NDArray[Shape[\"2, 2\"], Float]]):\n",
    "    for v in self.vertices.values():\n",
    "        if isinstance(trafo, Callable):\n",
    "            v.coords = trafo(v.coords)\n",
    "        else:\n",
    "            v.coords = trafo.dot(v.coords)\n",
    "            \n",
    "@patch\n",
    "def transform_dual_vertices(self: HalfEdgeMesh, trafo: Union[Callable, NDArray[Shape[\"2, 2\"], Float]]):\n",
    "    for fc in self.faces.values():\n",
    "        if isinstance(trafo, Callable):\n",
    "            fc.dual_coords = trafo(fc.dual_coords)\n",
    "        else:\n",
    "            fc.dual_coords = trafo.dot(fc.dual_coords)"
   ]
  },
  {
   "cell_type": "markdown",
   "metadata": {},
   "source": [
    "## Plotting functions"
   ]
  },
  {
   "cell_type": "code",
   "execution_count": null,
   "metadata": {},
   "outputs": [],
   "source": [
    "#| export\n",
    "\n",
    "@patch\n",
    "def triplot(self: HalfEdgeMesh):\n",
    "    \"\"\"wraps plt.triplot\"\"\"\n",
    "    list_format = self.to_ListOfVerticesAndFaces()\n",
    "    fcs = np.array(list(list_format.faces.values()))\n",
    "    pts = np.array(list(list_format.vertices.values())).T\n",
    "    plt.triplot(pts[0], pts[1], fcs)\n",
    "    \n",
    "@patch\n",
    "def labelplot(self: HalfEdgeMesh, vertex_labels=True, face_labels=True,\n",
    "                     halfedge_labels=False, cell_labels=False):\n",
    "    \"\"\"for debugging purposes, a fct to plot a trimesh with labels attached\"\"\"\n",
    "    if face_labels:\n",
    "        for fc in self.faces.values():\n",
    "            centroid = np.mean([he.vertices[0].coords for he in fc.hes], axis=0)\n",
    "            plt.text(*centroid, str(fc._fid), color=\"k\")\n",
    "    if vertex_labels:\n",
    "        for v in self.vertices.values():\n",
    "            plt.text(*(v.coords+np.array([0,.05])), str(v._vid),\n",
    "                     color=\"tab:blue\", ha=\"center\")\n",
    "    if cell_labels:\n",
    "        for v in self.vertices.values():\n",
    "            nghbs = v.get_face_neighbors()\n",
    "            if not (None in nghbs):\n",
    "                center = np.mean([fc.dual_coords for fc in nghbs], axis=0)\n",
    "                plt.text(*(center), str(v._vid),\n",
    "                         color=\"tab:blue\", ha=\"center\")\n",
    "    if halfedge_labels:\n",
    "        for he in self.hes.values():\n",
    "            if he.duplicate:\n",
    "                centroid = np.mean([v.coords for v in he.vertices], axis=0)\n",
    "                plt.text(*centroid, str(he._heid), color=\"tab:orange\")\n",
    "                \n",
    "@patch\n",
    "def cellplot(self: HalfEdgeMesh, alpha=1, set_lims=False, edge_colors=None, cell_colors=None):\n",
    "    \"\"\"Plot based on primal positions. Now fast because of use of LineCollection.\n",
    "    edge_colors, cell_colors are dicts _heid, _vid : color. Need only specify non-default elements.\n",
    "    \"\"\"\n",
    "    face_keys = sorted(self.faces.keys())\n",
    "    face_key_dict = {key: ix for ix, key in enumerate(face_keys)}\n",
    "    face_key_dict[None] = None\n",
    "    primal_face_list = []\n",
    "    \n",
    "    reformated_cell = (defaultdict(lambda: (0,0,0,0)) if cell_colors is None\n",
    "                       else defaultdict(lambda: (0,0,0,0), cell_colors))\n",
    "    facecolors = []\n",
    "    for v in self.vertices.values():\n",
    "        neighbors = v.get_face_neighbors()\n",
    "        if not (None in neighbors):\n",
    "            facecolors.append(reformated_cell[v._vid])\n",
    "            face = [face_key_dict[fc._fid] for fc in neighbors]\n",
    "            face.append(face[0])\n",
    "            primal_face_list.append(face)\n",
    "    \n",
    "    pts = np.stack([self.faces[key].dual_coords for key in face_keys])\n",
    "    lines = flatten([[[pts[a],pts[b]] for a, b  in zip(fc, np.roll(fc, 1))]\n",
    "                     for fc in primal_face_list], max_depth=1)\n",
    "    cells = [[pts[v] for v in fc] for fc in primal_face_list]\n",
    "    \n",
    "    reformated_edge = defaultdict(lambda: \"k\")\n",
    "    if edge_colors is not None: # translate from _heid : color to \n",
    "        for key, val in edge_colors.items():\n",
    "            he = self.hes[key]\n",
    "            if (he.face is not None) and (he.twin.face is not None):\n",
    "                newkey = (face_key_dict[he.face._fid], face_key_dict[he.twin.face._fid])\n",
    "                reformated_edge[newkey] = reformated_edge[newkey[::-1]] = val\n",
    "    colors = list(flatten([[reformated_edge[(a, b)] for a, b  in zip(fc, np.roll(fc, 1))]\n",
    "                            for fc in primal_face_list], max_depth=1))\n",
    "    \n",
    "    #fig, ax = plt.subplots()\n",
    "    plt.gca().add_collection(LineCollection(lines, colors=colors, alpha=alpha))\n",
    "    if cell_colors is not None:\n",
    "        plt.gca().add_collection(LineCollection(cells, facecolors=facecolors,\n",
    "                                                colors=(0,0,0,0)))\n",
    "    \n",
    "    if set_lims:\n",
    "        plt.gca().set_xlim([pts[:,0].min(), pts[:,0].max()])\n",
    "        plt.gca().set_ylim([pts[:,1].min(), pts[:,1].max()])"
   ]
  },
  {
   "cell_type": "code",
   "execution_count": null,
   "metadata": {},
   "outputs": [
    {
     "data": {
      "image/png": "[encoded data removed]",
      "text/plain": [
       "<Figure size 432x288 with 1 Axes>"
      ]
     },
     "metadata": {
      "needs_background": "light"
     },
     "output_type": "display_data"
    }
   ],
   "source": [
    "test_hemesh = get_test_hemesh()\n",
    "test_hemesh.set_centroid()\n",
    "test_hemesh.triplot()\n",
    "test_hemesh.labelplot()\n",
    "test_hemesh.cellplot() # empty but that's just because there is no full cell"
   ]
  },
  {
   "cell_type": "code",
   "execution_count": null,
   "metadata": {},
   "outputs": [
    {
     "data": {
      "text/plain": [
       "{0: Face(fid=0, dual_coords=[0.7, 0.3], rest_shape=[[1.0, 0.0], [0.0, 1.0]], hes=[0, 1, 2]),\n",
       " 1: Face(fid=1, dual_coords=[0.3, 0.7], rest_shape=[[1.0, 0.0], [0.0, 1.0]], hes=[3, 4, 5])}"
      ]
     },
     "execution_count": null,
     "metadata": {},
     "output_type": "execute_result"
    }
   ],
   "source": [
    "test_hemesh.faces"
   ]
  },
  {
   "cell_type": "code",
   "execution_count": null,
   "metadata": {},
   "outputs": [],
   "source": [
    "# important: preserve data! "
   ]
  },
  {
   "cell_type": "markdown",
   "metadata": {},
   "source": [
    "## A more complete export function to an .obj - like file format\n",
    "\n",
    "Export to a three csv-type files with the following columns\n",
    "\n",
    "1. Dual vertices\n",
    "    - vertex id (int)\n",
    "    - vertex coordinates x, y\n",
    "    - one incident edge id\n",
    "2. Faces (triangles)\n",
    "    - face id\n",
    "    - vertex ids 1-3\n",
    "    - dual coords x,y\n",
    "    - one edge id\n",
    "3. Half-edges\n",
    "    - half-edge ID\n",
    "    - vertex ids 1-2\n",
    "    - face ids 1-2 (i.e. its own face + its twin)\n",
    "    - next, prev, twin"
   ]
  },
  {
   "cell_type": "code",
   "execution_count": null,
   "metadata": {},
   "outputs": [
    {
     "data": {
      "text/plain": [
       "({0: HalfEdge(heid=0, nxt=1, prev=2, twin=6, face=0, vertices=(0, 2), rest=0.0, passive=0.0, center=[0.5 0. ],\n",
       "  6: HalfEdge(heid=6, nxt=9, prev=7, twin=0, face=None, vertices=(2, 0), rest=0.0, passive=0.0, center=[0.5 0. ],\n",
       "  1: HalfEdge(heid=1, nxt=2, prev=0, twin=7, face=0, vertices=(2, 3), rest=0.0, passive=0.0, center=[1.  0.5],\n",
       "  7: HalfEdge(heid=7, nxt=6, prev=8, twin=1, face=None, vertices=(3, 2), rest=0.0, passive=0.0, center=[1.  0.5],\n",
       "  2: HalfEdge(heid=2, nxt=0, prev=1, twin=3, face=0, vertices=(3, 0), rest=0.0, passive=0.0, center=[0.5 0.5],\n",
       "  3: HalfEdge(heid=3, nxt=4, prev=5, twin=2, face=1, vertices=(0, 3), rest=0.0, passive=0.0, center=[0.5 0.5],\n",
       "  4: HalfEdge(heid=4, nxt=5, prev=3, twin=8, face=1, vertices=(3, 1), rest=0.0, passive=0.0, center=[0.5 1. ],\n",
       "  8: HalfEdge(heid=8, nxt=7, prev=9, twin=4, face=None, vertices=(1, 3), rest=0.0, passive=0.0, center=[0.5 1. ],\n",
       "  5: HalfEdge(heid=5, nxt=3, prev=4, twin=9, face=1, vertices=(1, 0), rest=0.0, passive=0.0, center=[0.  0.6],\n",
       "  9: HalfEdge(heid=9, nxt=8, prev=6, twin=5, face=None, vertices=(0, 1), rest=0.0, passive=0.0, center=[0.  0.6]},\n",
       " {0: Face(fid=0, dual_coords=[0.7, 0.3], rest_shape=[[1.0, 0.0], [0.0, 1.0]], hes=[0, 1, 2]),\n",
       "  1: Face(fid=1, dual_coords=[0.3, 0.7], rest_shape=[[1.0, 0.0], [0.0, 1.0]], hes=[3, 4, 5])},\n",
       " {0: Vertex(vid=0, coords=[0. 0.], hes=[6, 2, 5]),\n",
       "  1: Vertex(vid=1, coords=[0.  1.1], hes=[4, 9]),\n",
       "  2: Vertex(vid=2, coords=[1. 0.], hes=[0, 7]),\n",
       "  3: Vertex(vid=3, coords=[1. 1.], hes=[1, 3, 8])})"
      ]
     },
     "execution_count": null,
     "metadata": {},
     "output_type": "execute_result"
    }
   ],
   "source": [
    "test_hemesh = get_test_hemesh()\n",
    "test_hemesh.set_centroid()\n",
    "\n",
    "test_hemesh.hes, test_hemesh.faces, test_hemesh.vertices"
   ]
  },
  {
   "cell_type": "code",
   "execution_count": null,
   "metadata": {},
   "outputs": [],
   "source": [
    "#| export\n",
    "\n",
    "@patch\n",
    "def save_mesh(self: HalfEdgeMesh, fname, d=5):\n",
    "    \"\"\"Save HalfEdgeMesh in as csv file with 3 parts:\n",
    "    1. Dual vertices\n",
    "        - vertex id (int)\n",
    "        - vertex coordinates x, y\n",
    "        - one incident edge id\n",
    "    2. Faces (triangles)\n",
    "        - face id\n",
    "        - vertex ids 1-3\n",
    "        - dual coords x,y\n",
    "        - one edge id\n",
    "    3. Half-edges\n",
    "        - half-edge ID\n",
    "        - vertex ids 1-2\n",
    "        - face ids 1-2 (i.e. its own face + its twin)\n",
    "        - next, prev, twin\n",
    "    See jerryyin.info/geometry-processing-algorithms/half-edge/ for definitions.\n",
    "    '#' are comment lines.\n",
    "    \"\"\"\n",
    "    # overwrite\n",
    "    try:\n",
    "        os.remove(fname)\n",
    "    except OSError:\n",
    "        pass\n",
    "    v_keys = sorted(self.vertices.keys())\n",
    "    fc_keys = sorted(self.faces.keys())\n",
    "    he_keys = sorted(self.hes.keys())\n",
    "\n",
    "    with open(fname, \"a\") as f:\n",
    "        f.write('# Vertices\\n')\n",
    "        f.write('# vertex id, dual x-coordinate, dual y-coordinate, incident edge id\\n')\n",
    "        for key in v_keys:\n",
    "            v = self.vertices[key]\n",
    "            items = ([v._vid]\n",
    "                     +[round(v.coords[0], ndigits=d), round(v.coords[1], ndigits=d)]\n",
    "                     +[v.incident[0]._heid])\n",
    "            to_write = ', '.join([str(x) for x in items]) + '\\n'\n",
    "            f.write(to_write)\n",
    "        f.write('\\n# Faces\\n')\n",
    "        f.write('# face id, primal x-coordinate, primal y-coordinate, vertex id 1, vertex id 2, vertex id 3, edge 1, edge 2, edge 3\\n')\n",
    "        for key in fc_keys:\n",
    "            fc = self.faces[key]\n",
    "            items = ([fc._fid]\n",
    "                     +[round(fc.dual_coords[0], ndigits=d), round(fc.dual_coords[1], ndigits=d)]\n",
    "                     +[he.vertices[0]._vid for he in fc.hes]\n",
    "                     +[he._heid for he in fc.hes])\n",
    "            to_write = ', '.join([str(x) for x in items]) + '\\n'\n",
    "            f.write(to_write)\n",
    "        f.write('\\n# Half-edges\\n')\n",
    "        f.write('# edge id, vertex id 1, vertex id 2, face id 1, face id 2, next, prev, twin\\n')\n",
    "        for key in he_keys:\n",
    "            he = self.hes[key]\n",
    "            items = ([he._heid]\n",
    "                     +[v._vid for v in he.vertices]\n",
    "                     +[(fc._fid if fc is not None else \"None\") for fc in [he.face, he.twin.face]]\n",
    "                     +[x._heid for x in [he.nxt, he.prev, he.twin]])\n",
    "            to_write = ', '.join([str(x) for x in items]) + '\\n'\n",
    "            f.write(to_write)\n",
    "            \n",
    "            "
   ]
  },
  {
   "cell_type": "code",
   "execution_count": null,
   "metadata": {},
   "outputs": [],
   "source": [
    "test_hemesh.save_mesh(\"test_save.txt\")"
   ]
  },
  {
   "cell_type": "code",
   "execution_count": null,
   "metadata": {},
   "outputs": [],
   "source": [
    "#| export\n",
    "\n",
    "def load_mesh(fname):\n",
    "    \"\"\"Load from file as saved by mesh.save_mesh\"\"\"\n",
    "    with open(fname) as f:\n",
    "        lines = f.readlines()\n",
    "    vind, find, heind = [lines.index(x) for x in ['# Vertices\\n', '# Faces\\n', '# Half-edges\\n',]]\n",
    "    vlines, flines, helines = [lines[vind+2:find-1], lines[find+2:heind-1], lines[heind+2:]]\n",
    "    vlines, flines, helines = [[x.strip('\\n').split(', ') for x in y] for y in [vlines, flines, helines]]\n",
    "    vlines = [[int(x[0]), float(x[1]), float(x[2]), int(x[3])] for x in vlines]\n",
    "    flines = [[int(x[0]), float(x[1]), float(x[2]), int(x[3]), int(x[4]), int(x[5]),\n",
    "               int(x[6]), int(x[7]), int(x[8])] for x in flines]\n",
    "    int_None = lambda x: int(x) if x != 'None' else None\n",
    "    helines = [[int(x[0]), int(x[1]), int(x[2]), int_None(x[3]), int_None(x[4]),\n",
    "                int(x[5]), int(x[6]), int(x[7])] for x in helines]\n",
    "\n",
    "    hes = {x[0]: HalfEdge(_heid=x[0], _nxtid=x[5], _previd=x[6], _twinid=x[7], _faceid=x[3],\n",
    "                          _verticesid=(x[1], x[2])) for x in helines}\n",
    "    vertices = {x[0]: Vertex(_vid=x[0], coords=np.array([x[1], x[2]]), incident=[hes[x[-1]]]) for x in vlines}\n",
    "    faces = {x[0]: Face(_fid=x[0], dual_coords=np.array([x[1], x[2]]), hes=[hes[x[-1]]] ) for x in flines}\n",
    "\n",
    "    hemesh = HalfEdgeMesh(ListOfVerticesAndFaces([],[]))\n",
    "    hemesh.hes = hes\n",
    "    hemesh.vertices = vertices\n",
    "    hemesh.faces = faces\n",
    "    for he in hemesh.hes.values():\n",
    "        he._hemesh = hemesh\n",
    "    [hemesh.reset_hes(v) for v in hemesh.vertices.values()]\n",
    "    [hemesh.reset_hes(fc) for fc in hemesh.faces.values()]\n",
    "    return hemesh"
   ]
  },
  {
   "cell_type": "code",
   "execution_count": null,
   "metadata": {},
   "outputs": [],
   "source": [
    "reloaded = load_mesh(\"test_save.txt\")"
   ]
  },
  {
   "cell_type": "code",
   "execution_count": null,
   "metadata": {},
   "outputs": [
    {
     "data": {
      "text/plain": [
       "({0: HalfEdge(heid=0, nxt=1, prev=2, twin=6, face=0, vertices=(0, 2), rest=0.0, passive=0.0, center=[0.5 0. ],\n",
       "  6: HalfEdge(heid=6, nxt=9, prev=7, twin=0, face=None, vertices=(2, 0), rest=0.0, passive=0.0, center=[0.5 0. ],\n",
       "  1: HalfEdge(heid=1, nxt=2, prev=0, twin=7, face=0, vertices=(2, 3), rest=0.0, passive=0.0, center=[1.  0.5],\n",
       "  7: HalfEdge(heid=7, nxt=6, prev=8, twin=1, face=None, vertices=(3, 2), rest=0.0, passive=0.0, center=[1.  0.5],\n",
       "  2: HalfEdge(heid=2, nxt=0, prev=1, twin=3, face=0, vertices=(3, 0), rest=0.0, passive=0.0, center=[0.5 0.5],\n",
       "  3: HalfEdge(heid=3, nxt=4, prev=5, twin=2, face=1, vertices=(0, 3), rest=0.0, passive=0.0, center=[0.5 0.5],\n",
       "  4: HalfEdge(heid=4, nxt=5, prev=3, twin=8, face=1, vertices=(3, 1), rest=0.0, passive=0.0, center=[0.5 1. ],\n",
       "  8: HalfEdge(heid=8, nxt=7, prev=9, twin=4, face=None, vertices=(1, 3), rest=0.0, passive=0.0, center=[0.5 1. ],\n",
       "  5: HalfEdge(heid=5, nxt=3, prev=4, twin=9, face=1, vertices=(1, 0), rest=0.0, passive=0.0, center=[0.  0.6],\n",
       "  9: HalfEdge(heid=9, nxt=8, prev=6, twin=5, face=None, vertices=(0, 1), rest=0.0, passive=0.0, center=[0.  0.6]},\n",
       " {0: Face(fid=0, dual_coords=[0.7, 0.3], rest_shape=[[1.0, 0.0], [0.0, 1.0]], hes=[0, 1, 2]),\n",
       "  1: Face(fid=1, dual_coords=[0.3, 0.7], rest_shape=[[1.0, 0.0], [0.0, 1.0]], hes=[3, 4, 5])},\n",
       " {0: Vertex(vid=0, coords=[0. 0.], hes=[6, 2, 5]),\n",
       "  1: Vertex(vid=1, coords=[0.  1.1], hes=[4, 9]),\n",
       "  2: Vertex(vid=2, coords=[1. 0.], hes=[0, 7]),\n",
       "  3: Vertex(vid=3, coords=[1. 1.], hes=[1, 3, 8])})"
      ]
     },
     "execution_count": null,
     "metadata": {},
     "output_type": "execute_result"
    }
   ],
   "source": [
    "test_hemesh.hes, test_hemesh.faces, test_hemesh.vertices"
   ]
  },
  {
   "cell_type": "code",
   "execution_count": null,
   "metadata": {},
   "outputs": [
    {
     "data": {
      "text/plain": [
       "({0: HalfEdge(heid=0, nxt=1, prev=2, twin=6, face=0, vertices=(0, 2), rest=0.0, passive=0.0, center=[0.5 0. ],\n",
       "  1: HalfEdge(heid=1, nxt=2, prev=0, twin=7, face=0, vertices=(2, 3), rest=0.0, passive=0.0, center=[1.  0.5],\n",
       "  2: HalfEdge(heid=2, nxt=0, prev=1, twin=3, face=0, vertices=(3, 0), rest=0.0, passive=0.0, center=[0.5 0.5],\n",
       "  3: HalfEdge(heid=3, nxt=4, prev=5, twin=2, face=1, vertices=(0, 3), rest=0.0, passive=0.0, center=[0.5 0.5],\n",
       "  4: HalfEdge(heid=4, nxt=5, prev=3, twin=8, face=1, vertices=(3, 1), rest=0.0, passive=0.0, center=[0.5 1. ],\n",
       "  5: HalfEdge(heid=5, nxt=3, prev=4, twin=9, face=1, vertices=(1, 0), rest=0.0, passive=0.0, center=[0.  0.6],\n",
       "  6: HalfEdge(heid=6, nxt=9, prev=7, twin=0, face=None, vertices=(2, 0), rest=0.0, passive=0.0, center=[0.5 0. ],\n",
       "  7: HalfEdge(heid=7, nxt=6, prev=8, twin=1, face=None, vertices=(3, 2), rest=0.0, passive=0.0, center=[1.  0.5],\n",
       "  8: HalfEdge(heid=8, nxt=7, prev=9, twin=4, face=None, vertices=(1, 3), rest=0.0, passive=0.0, center=[0.5 1. ],\n",
       "  9: HalfEdge(heid=9, nxt=8, prev=6, twin=5, face=None, vertices=(0, 1), rest=0.0, passive=0.0, center=[0.  0.6]},\n",
       " {0: Face(fid=0, dual_coords=[0.7, 0.3], rest_shape=[[1.0, 0.0], [0.0, 1.0]], hes=[0, 1, 2]),\n",
       "  1: Face(fid=1, dual_coords=[0.3, 0.7], rest_shape=[[1.0, 0.0], [0.0, 1.0]], hes=[3, 4, 5])},\n",
       " {0: Vertex(vid=0, coords=[0. 0.], hes=[5, 2, 6]),\n",
       "  1: Vertex(vid=1, coords=[0.  1.1], hes=[9, 4]),\n",
       "  2: Vertex(vid=2, coords=[1. 0.], hes=[7, 0]),\n",
       "  3: Vertex(vid=3, coords=[1. 1.], hes=[3, 8, 1])})"
      ]
     },
     "execution_count": null,
     "metadata": {},
     "output_type": "execute_result"
    }
   ],
   "source": [
    "reloaded.hes, reloaded.faces, reloaded.vertices"
   ]
  },
  {
   "cell_type": "markdown",
   "metadata": {},
   "source": [
    "## Calculate internal angles and edge lengths"
   ]
  },
  {
   "cell_type": "code",
   "execution_count": null,
   "metadata": {},
   "outputs": [],
   "source": [
    "#|export\n",
    "\n",
    "@patch\n",
    "def get_edge_lens(self: HalfEdgeMesh):\n",
    "    return {key: np.linalg.norm(val.vertices[1].coords-val.vertices[0].coords)\n",
    "            for key, val in self.hes.items()}\n",
    "\n",
    "@patch\n",
    "def set_rest_lengths(self: HalfEdgeMesh):\n",
    "    for key, val in self.get_edge_lens().items():\n",
    "        self.hes[key].rest = val\n",
    "        \n",
    "@patch\n",
    "def get_rel_tension(self: HalfEdgeMesh):\n",
    "    rel_tensions = {}\n",
    "    for he in self.hes.values():\n",
    "        surrounding = []\n",
    "        if he.duplicate and he.face is not None:\n",
    "            surrounding.append(he.nxt.rest)\n",
    "            surrounding.append(he.prev.rest)\n",
    "            twin = he.twin\n",
    "            surrounding.append(twin.nxt.rest)\n",
    "            surrounding.append(twin.prev.rest)\n",
    "            rel_tensions[he._heid], rel_tensions[twin._heid] = 2*(4*he.rest/sum(surrounding),)\n",
    "    return rel_tensions"
   ]
  },
  {
   "cell_type": "code",
   "execution_count": null,
   "metadata": {},
   "outputs": [
    {
     "data": {
      "text/plain": [
       "{0: 1.0,\n",
       " 6: 1.0,\n",
       " 1: 1.0,\n",
       " 7: 1.0,\n",
       " 2: 1.4142135623730951,\n",
       " 3: 1.4142135623730951,\n",
       " 4: 1.004987562112089,\n",
       " 8: 1.004987562112089,\n",
       " 5: 1.1,\n",
       " 9: 1.1}"
      ]
     },
     "execution_count": null,
     "metadata": {},
     "output_type": "execute_result"
    }
   ],
   "source": [
    "test_hemesh = get_test_hemesh()\n",
    "test_hemesh.get_edge_lens()"
   ]
  },
  {
   "cell_type": "code",
   "execution_count": null,
   "metadata": {},
   "outputs": [
    {
     "data": {
      "text/plain": [
       "{0: 0.8860901117618422,\n",
       " 6: 0.8860901117618422,\n",
       " 1: 0.905140971710352,\n",
       " 7: 0.905140971710352,\n",
       " 3: 1.3780441874425142,\n",
       " 2: 1.3780441874425142}"
      ]
     },
     "execution_count": null,
     "metadata": {},
     "output_type": "execute_result"
    }
   ],
   "source": [
    "test_hemesh.set_rest_lengths()\n",
    "test_hemesh.get_rel_tension()"
   ]
  },
  {
   "cell_type": "code",
   "execution_count": null,
   "metadata": {},
   "outputs": [
    {
     "data": {
      "text/plain": [
       "{0: 1.0,\n",
       " 6: 1.0,\n",
       " 1: 1.0,\n",
       " 7: 1.0,\n",
       " 2: 1.4142135623730951,\n",
       " 3: 1.4142135623730951,\n",
       " 4: 1.004987562112089,\n",
       " 8: 1.004987562112089,\n",
       " 5: 1.1,\n",
       " 9: 1.1}"
      ]
     },
     "execution_count": null,
     "metadata": {},
     "output_type": "execute_result"
    }
   ],
   "source": [
    "test_hemesh.set_rest_lengths(); {key: val.rest for key, val in test_hemesh.hes.items()}"
   ]
  },
  {
   "cell_type": "markdown",
   "metadata": {},
   "source": [
    "## Export code to module"
   ]
  },
  {
   "cell_type": "code",
   "execution_count": null,
   "metadata": {},
   "outputs": [],
   "source": [
    "#| hide\n",
    "\n",
    "nbdev.nbdev_export()"
   ]
  }
 ],
 "metadata": {
  "kernelspec": {
   "display_name": "Python 3",
   "language": "python",
   "name": "python3"
  }
 },
 "nbformat": 4,
 "nbformat_minor": 4
}
