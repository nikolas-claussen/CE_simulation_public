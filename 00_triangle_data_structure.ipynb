{
 "cells": [
  {
   "cell_type": "markdown",
   "metadata": {},
   "source": [
    "# triangle_data_structure\n",
    "\n",
    "> Data structure for triangulation\n",
    "\n",
    "See https://cs184.eecs.berkeley.edu/public/sp22/lectures/lec-8-mesh-representations-and-geometr/lec-8-mesh-representations-and-geometr.pdf\n",
    "\n",
    "None of the methods below are optimized, and on many occasions, things are linear/quadratic in the mesh size even though they need not be, because it was the easiest solution"
   ]
  },
  {
   "cell_type": "code",
   "execution_count": null,
   "metadata": {},
   "outputs": [],
   "source": [
    "#| default_exp triangle"
   ]
  },
  {
   "cell_type": "code",
   "execution_count": null,
   "metadata": {},
   "outputs": [],
   "source": [
    "#| hide\n",
    "from nbdev.showdoc import *\n",
    "import nbdev"
   ]
  },
  {
   "cell_type": "code",
   "execution_count": null,
   "metadata": {},
   "outputs": [],
   "source": [
    "#| hide\n",
    "import os\n",
    "import numpy as np\n",
    "import matplotlib.pyplot as plt\n",
    "import matplotlib as mpl\n",
    "\n",
    "from scipy import spatial"
   ]
  },
  {
   "cell_type": "code",
   "execution_count": null,
   "metadata": {},
   "outputs": [],
   "source": [
    "#| hide\n",
    "\n",
    "from dataclasses import dataclass\n",
    "from typing import Union, Dict, List, Tuple, Iterable\n",
    "from nptyping import NDArray, Int, Float, Shape\n",
    "\n",
    "from fastcore.foundation import patch"
   ]
  },
  {
   "cell_type": "markdown",
   "metadata": {},
   "source": [
    "## helper functions"
   ]
  },
  {
   "cell_type": "code",
   "execution_count": null,
   "metadata": {},
   "outputs": [],
   "source": [
    "#| export\n",
    "\n",
    "def removekey(d, key):\n",
    "    r = dict(d)\n",
    "    del r[key]\n",
    "    return r"
   ]
  },
  {
   "cell_type": "code",
   "execution_count": null,
   "metadata": {},
   "outputs": [],
   "source": [
    "#| hide\n",
    "from bisect import bisect_left"
   ]
  },
  {
   "cell_type": "code",
   "execution_count": null,
   "metadata": {},
   "outputs": [],
   "source": [
    "bisect_left([-1, 0, 1, 2], 1)"
   ]
  },
  {
   "cell_type": "code",
   "execution_count": null,
   "metadata": {},
   "outputs": [],
   "source": [
    "#| export\n",
    "def flatten(lst, max_depth=1000, iter_count=0):\n",
    "    \"\"\"\n",
    "    Flatten a list of lists into a list.\n",
    "\n",
    "    Also works with inhomogeneous lists, e.g., [[0,1],2]. The argument\n",
    "    depth determines how \"deep\" to flatten the list, e.g. with max_depth=1:\n",
    "    [[(1,0), (1,0)]] -> [(1,0), (1,0)].\n",
    "\n",
    "    Parameters\n",
    "    ----------\n",
    "    lst : list\n",
    "        list-of-lists.\n",
    "    max_depth : int, optional\n",
    "        To what depth to flatten the list.\n",
    "    iter_count : int, optional\n",
    "        Helper argument for recursion depth determination.\n",
    "    Returns\n",
    "    -------\n",
    "    iterator\n",
    "        flattened list.\n",
    "\n",
    "    \"\"\"\n",
    "    for el in lst:\n",
    "        if (isinstance(el, Iterable) and not isinstance(el, (str, bytes))\n",
    "                and iter_count < max_depth):\n",
    "            yield from flatten(el, max_depth=max_depth,\n",
    "                               iter_count=iter_count+1)\n",
    "        else:\n",
    "            yield el"
   ]
  },
  {
   "cell_type": "code",
   "execution_count": null,
   "metadata": {},
   "outputs": [],
   "source": [
    "#| export\n",
    "def sort_vertices(vertices: np.ndarray) -> np.ndarray:\n",
    "    \"\"\"Sort vertices of cycle counter clockwise by polar angle. Guaranteed to work for non-convex polygons.\"\"\"\n",
    "    phis = [np.arctan2(*x[::-1]) for x in vertices]\n",
    "    return np.stack([x for _, x in sorted(zip(phis, vertices))])\n",
    "\n",
    "def sort_ids_by_vertices(ids: Iterable[int], vertices: Iterable[NDArray]) -> list:\n",
    "    \"\"\"Like sort_vertices, sort ids of cycle counter clockwise by polar angle.\"\"\"\n",
    "    phis = [np.arctan2(*x[::-1]) for x in vertices]\n",
    "    return [x for _, x in sorted(zip(phis, ids))]"
   ]
  },
  {
   "cell_type": "code",
   "execution_count": null,
   "metadata": {},
   "outputs": [
    {
     "data": {
      "image/png": "[encoded data removed]",
      "text/plain": [
       "<Figure size 432x288 with 1 Axes>"
      ]
     },
     "metadata": {
      "needs_background": "light"
     },
     "output_type": "display_data"
    },
    {
     "data": {
      "image/png": "[encoded data removed]",
      "text/plain": [
       "<Figure size 432x288 with 1 Axes>"
      ]
     },
     "metadata": {
      "needs_background": "light"
     },
     "output_type": "display_data"
    }
   ],
   "source": [
    "pts = np.array([[1,-1.4], [-1, 0], [1.5, 2], [2, -.3], [-1, -2]])\n",
    "\n",
    "plt.scatter(*pts.T, c=np.arange(5))\n",
    "plt.axis(\"equal\")\n",
    "plt.show()\n",
    "\n",
    "pts_sorted = sort_vertices(pts)\n",
    "\n",
    "plt.scatter(*pts_sorted.T, c=np.arange(5))\n",
    "plt.axis(\"equal\")\n",
    "plt.show()"
   ]
  },
  {
   "cell_type": "markdown",
   "metadata": {},
   "source": [
    "## create some test data using scipy"
   ]
  },
  {
   "cell_type": "code",
   "execution_count": null,
   "metadata": {},
   "outputs": [
    {
     "data": {
      "image/png": "[encoded data removed]",
      "text/plain": [
       "<Figure size 432x288 with 1 Axes>"
      ]
     },
     "metadata": {
      "needs_background": "light"
     },
     "output_type": "display_data"
    }
   ],
   "source": [
    "points = np.array([[0, 0], [0, 1.1], [1, 0], [1, 1]])\n",
    "\n",
    "tri = spatial.Delaunay(points)\n",
    "\n",
    "plt.triplot(points[:,0], points[:,1], tri.simplices)\n",
    "plt.plot(points[:,0], points[:,1], 'o')\n",
    "\n",
    "plt.show()"
   ]
  },
  {
   "cell_type": "code",
   "execution_count": null,
   "metadata": {},
   "outputs": [
    {
     "data": {
      "text/plain": [
       "(array([[0. , 0. ],\n",
       "        [0. , 1.1],\n",
       "        [1. , 0. ],\n",
       "        [1. , 1. ]]),\n",
       " array([[2, 3, 0],\n",
       "        [3, 1, 0]], dtype=int32),\n",
       " array([[ 1, -1, -1],\n",
       "        [-1,  0, -1]], dtype=int32))"
      ]
     },
     "execution_count": null,
     "metadata": {},
     "output_type": "execute_result"
    }
   ],
   "source": [
    "# attributes\n",
    "\n",
    "tri.points, tri.simplices, tri.neighbors"
   ]
  },
  {
   "cell_type": "code",
   "execution_count": null,
   "metadata": {},
   "outputs": [
    {
     "data": {
      "text/plain": [
       "(<bound method Delaunay.find_simplex of <scipy.spatial._qhull.Delaunay object>>,\n",
       " <bound method Delaunay.add_points of <scipy.spatial._qhull.Delaunay object>>)"
      ]
     },
     "execution_count": null,
     "metadata": {},
     "output_type": "execute_result"
    }
   ],
   "source": [
    "# methods\n",
    "\n",
    "tri.find_simplex, tri.add_points"
   ]
  },
  {
   "cell_type": "markdown",
   "metadata": {},
   "source": [
    "## List of Pts + Triangles\n",
    "\n",
    "Simplest data structure for a triangulation:\n",
    "\n",
    "- Vertices = [($x_0$,$y_0$), ... ]\n",
    "- Triangles = [(vertex id 1, vertex id 2, vertex id 3), ...]\n",
    "\n",
    "From this data, one can compute the neighbor relationship of triangles\n",
    "- Triangle neighbors = [(triangle id 1, triangle id 2, triangle id 3), ...]\n",
    "\n",
    "How should we index things? We want to be able to refer to points and faces consistently over time series of meshes, so just using their index in the list is no good. We shall use dictionaries instead."
   ]
  },
  {
   "cell_type": "markdown",
   "metadata": {},
   "source": [
    "For future reference, we will make the faces oriented _counterclockwise_. This matches the convention of the `.obj` file format."
   ]
  },
  {
   "cell_type": "code",
   "execution_count": null,
   "metadata": {},
   "outputs": [],
   "source": [
    "#| export\n",
    "\n",
    "def get_neighbors(faces):\n",
    "    \"\"\"compute neighbor list by checking which triangles share 2 vertices. Note: this is quadratic\"\"\"\n",
    "    neighbors = {key: [nghb_key for nghb_key, pot_nghb in faces.items()\n",
    "                   if len(set(pot_nghb)&set(face)) == 2]\n",
    "             for key, face in faces.items()}\n",
    "    return neighbors\n",
    "\n",
    "class ListOfPtsAndFaces:\n",
    "    def __init__(self, points, faces, neighbors=None):\n",
    "        # if we pass lists, automatically assign ids to triangles and vertices\n",
    "        points = points if type(points) is dict else {ix: x for ix, x in enumerate(points)}\n",
    "        faces = faces if type(faces) is dict else {ix: x for ix, x in enumerate(faces)}\n",
    "        # ensure that all triangles are ordered cc-wise\n",
    "        faces = {key: sort_ids_by_vertices(fc, [points[x] for x in fc])\n",
    "                 for key, fc in faces.items()}\n",
    "        self.points, self.faces = (points, faces)\n",
    "        self.neighbors = get_neighbors(faces) if neighbors is None else neighbors\n",
    "        \n",
    "    # some basic methods\n",
    "    def remove_pt(self, pt_id):\n",
    "        del self.points[pt_id]\n",
    "        self.faces = {key: face for key, face in self.faces.items() if not pt_id in face}\n",
    "        self.neighbors = get_neighbors(self.faces)\n",
    "        \n",
    "    def get_combined_edges(self):\n",
    "        \"\"\"Get a list of unique edges. Edges are a tuple ((vert 1, vert 2), (face 1, face 2)). Boundary edges \n",
    "        have face 1 None.\"\"\"\n",
    "        combined_edges = []\n",
    "        for fc_key, fc in self.faces.items():\n",
    "            neighbors = self.neighbors[fc_key]\n",
    "            vertex_edges = [(fc+[fc[0]])[i:i+2] for i in range(len(fc))]\n",
    "            for vertex_edge in vertex_edges:\n",
    "                # check if it is shared with neighbor\n",
    "                other_key = [nghb for nghb in neighbors if all([v in self.faces[nghb] for v in vertex_edge])]\n",
    "                face_edge = sorted([fc_key, other_key[0]]) if other_key != [] else (None, fc_key)\n",
    "                combined_edge = (tuple(sorted(vertex_edge)), tuple(face_edge))\n",
    "                combined_edges.append(combined_edge)\n",
    "        return set(combined_edges)\n",
    "        \n",
    "    @staticmethod\n",
    "    def fromObj(fname):\n",
    "        return None"
   ]
  },
  {
   "cell_type": "code",
   "execution_count": null,
   "metadata": {},
   "outputs": [],
   "source": [
    "test_mesh = ListOfPtsAndFaces(list(tri.points), list(tri.simplices))"
   ]
  },
  {
   "cell_type": "code",
   "execution_count": null,
   "metadata": {},
   "outputs": [
    {
     "data": {
      "text/plain": [
       "{0: [0, 2, 3], 1: [0, 3, 1]}"
      ]
     },
     "execution_count": null,
     "metadata": {},
     "output_type": "execute_result"
    }
   ],
   "source": [
    "test_mesh.faces"
   ]
  },
  {
   "cell_type": "code",
   "execution_count": null,
   "metadata": {},
   "outputs": [
    {
     "data": {
      "text/plain": [
       "{0: array([0., 0.]),\n",
       " 1: array([0. , 1.1]),\n",
       " 2: array([1., 0.]),\n",
       " 3: array([1., 1.])}"
      ]
     },
     "execution_count": null,
     "metadata": {},
     "output_type": "execute_result"
    }
   ],
   "source": [
    "test_mesh.points"
   ]
  },
  {
   "cell_type": "code",
   "execution_count": null,
   "metadata": {},
   "outputs": [
    {
     "data": {
      "text/plain": [
       "{((0, 1), (None, 1)),\n",
       " ((0, 2), (None, 0)),\n",
       " ((0, 3), (0, 1)),\n",
       " ((1, 3), (None, 1)),\n",
       " ((2, 3), (None, 0))}"
      ]
     },
     "execution_count": null,
     "metadata": {},
     "output_type": "execute_result"
    }
   ],
   "source": [
    "test_mesh.get_combined_edges()"
   ]
  },
  {
   "cell_type": "code",
   "execution_count": null,
   "metadata": {},
   "outputs": [],
   "source": [
    "#| export\n",
    "@patch\n",
    "def saveObj(self:ListOfPtsAndFaces, fname, save_ids=False):\n",
    "    \"\"\"save as obj file. .obj automatically appended to fname. If save_ids is True, also save a list\n",
    "    of vertex and cell ids.\"\"\"\n",
    "    # create a sorted list of vertices\n",
    "    vertex_keys = sorted(self.points.keys())\n",
    "    points_list = [self.points[key] for key in vertex_keys]\n",
    "    # change faces list to refer to this ordered list. Counting from 1 for .obj\n",
    "    face_keys = sorted(self.faces.keys())\n",
    "    faces_list = [[bisect_left(vertex_keys, v)+1 for v in self.faces[key]] for key in face_keys]\n",
    "    # overwrite\n",
    "    try:\n",
    "        os.remove(fname+\".obj\")\n",
    "    except OSError:\n",
    "        pass\n",
    "    # write\n",
    "    with open(fname+\".obj\", \"a\") as f:\n",
    "        f.write('# vertices')\n",
    "        for pt in points_list:\n",
    "            to_write = ' '.join(['v'] + [str(x) for x in pt] + ['0']) + '\\n'  # include z-ccoord\n",
    "            f.write(to_write)\n",
    "        f.write('# faces')\n",
    "        for fc in faces_list:\n",
    "            to_write = ' '.join(['f'] + [str(x) for x in fc]) + '\\n'\n",
    "            f.write(to_write)\n",
    "    if save_ids:\n",
    "        try:\n",
    "            os.remove(fname+\"_ids.txt\")\n",
    "        except OSError:\n",
    "            pass\n",
    "        with open(fname+\"_ids.txt\", \"a\") as f:\n",
    "            f.write('# vertex IDs corresponding to .obj file\\n')\n",
    "            for key in vertex_keys:\n",
    "                f.write(str(key)+'\\n')\n",
    "            f.write('# face IDs corresponding to .obj file\\n')\n",
    "            for key in face_keys:\n",
    "                f.write(str(key)+'\\n')\n"
   ]
  },
  {
   "cell_type": "code",
   "execution_count": null,
   "metadata": {},
   "outputs": [],
   "source": [
    "test_mesh.saveObj('test_mesh', save_ids=True)\n",
    "# tested by opening in paraview, looks good"
   ]
  },
  {
   "attachments": {
    "image.png": {
     "image/png": "[encoded data removed]"
    }
   },
   "cell_type": "markdown",
   "metadata": {},
   "source": [
    "![image.png](attachment:image.png)"
   ]
  },
  {
   "cell_type": "code",
   "execution_count": null,
   "metadata": {},
   "outputs": [
    {
     "name": "stdout",
     "output_type": "stream",
     "text": [
      "{0: array([2, 3, 0], dtype=int32), 1: array([3, 1, 0], dtype=int32)} {0: [1], 1: [0]}\n",
      "{0: array([2, 3, 0], dtype=int32)} {0: []}\n"
     ]
    }
   ],
   "source": [
    "test_mesh = ListOfPtsAndFaces(list(tri.points), list(tri.simplices))\n",
    "\n",
    "print(test_mesh.faces, test_mesh.neighbors)\n",
    "\n",
    "test_mesh.remove_pt(1)\n",
    "\n",
    "print(test_mesh.faces, test_mesh.neighbors)"
   ]
  },
  {
   "cell_type": "markdown",
   "metadata": {},
   "source": [
    "## Half-edge\n",
    "\n",
    "More complicated operations (e.g. flipping triangles) are a pain to implement with this simple data structure, which furthermore does not contain edges. We now build a half-edge data structure class."
   ]
  },
  {
   "attachments": {
    "image.png": {
     "image/png": "[encoded data removed]"
    }
   },
   "cell_type": "markdown",
   "metadata": {},
   "source": [
    "A half-edge contains the following data:\n",
    "- `next` - the next half edge\n",
    "- `twin` - the twin half edge\n",
    "- `cell` - the cell it belongs to\n",
    "- `vertices` - start and end vertex\n",
    "\n",
    "![image.png](attachment:image.png)\n",
    "See https://jerryyin.info/geometry-processing-algorithms/half-edge/"
   ]
  },
  {
   "cell_type": "code",
   "execution_count": null,
   "metadata": {},
   "outputs": [],
   "source": [
    "#| export\n",
    "\n",
    "@dataclass\n",
    "class HalfEdge:\n",
    "    \"\"\"Attribute holder class for half edges. Attributes point to other items.\"\"\"\n",
    "    _heid : int\n",
    "    nxt: int\n",
    "    twin: int\n",
    "    cell: Union[int, None] # None if it's a boundary\n",
    "    vertices: tuple # 0 is origin, 1 is destination\n",
    "        \n",
    "@dataclass\n",
    "class Vertex:\n",
    "    \"\"\"Attribute holder class for vertices. Attributes point to other items. Note: different from the\n",
    "    standard half edge data structure, I store all incident he's, for latter convenience (e.g. force balance)\n",
    "    computation.\"\"\"\n",
    "    _vid : int\n",
    "    coords : NDArray[Shape[\"2\"], Float]\n",
    "    incident : List[HalfEdge]\n",
    "\n",
    "@dataclass\n",
    "class Face:\n",
    "    \"\"\"Attribute holder class for faces. Attributes point to other items.\"\"\"\n",
    "    _fid : int\n",
    "    hes : List[HalfEdge]\n",
    "        \n",
    "@dataclass\n",
    "class Edge:\n",
    "    \"\"\"Attribute holder class for edges. Main point is to use it to store variables for ODE evolution\"\"\"\n",
    "    _eid : int\n",
    "    hes : Tuple[HalfEdge, HalfEdge]\n",
    "    variables : dict\n",
    "        \n",
    "    def __post_init__(self):\n",
    "        assert (self.hes[0].twin == self.hes[1]._heid) and (self.hes[1].twin == self.hes[0]._heid)"
   ]
  },
  {
   "cell_type": "code",
   "execution_count": null,
   "metadata": {},
   "outputs": [
    {
     "data": {
      "text/plain": [
       "Vertex(_vid=10, coords=array([2. , 2.1]), incident=HalfEdge(_heid=10034, nxt=1, twin=4, cell=2, vertices=(2, 3)))"
      ]
     },
     "execution_count": null,
     "metadata": {},
     "output_type": "execute_result"
    }
   ],
   "source": [
    "he = HalfEdge(10031, 1, 4, 2, (2, 3))\n",
    "\n",
    "v = Vertex(10, np.array([2.0, 2.1]), he)\n",
    "he_new = HalfEdge(10034, 1, 4, 2, (2, 3))\n",
    "\n",
    "v.incident = he_new # we can edit the incident edge\n",
    "v"
   ]
  },
  {
   "cell_type": "code",
   "execution_count": null,
   "metadata": {},
   "outputs": [
    {
     "data": {
      "text/plain": [
       "(True, True)"
      ]
     },
     "execution_count": null,
     "metadata": {},
     "output_type": "execute_result"
    }
   ],
   "source": [
    "v.incident == he_new, not (v.incident == he)"
   ]
  },
  {
   "cell_type": "markdown",
   "metadata": {},
   "source": [
    "The additional data provided by the half-edge mesh structure will be very helpful further on. In order to initialize the half-edge data structure, we use the `ListOfPtsAndFaces` class from above.\n",
    "\n",
    "TO DO: figure out how to deal with edge id's, edge variables."
   ]
  },
  {
   "cell_type": "markdown",
   "metadata": {},
   "source": [
    "Inspired by: https://github.com/yig/trimesh/blob/master/trimesh.py"
   ]
  },
  {
   "cell_type": "markdown",
   "metadata": {},
   "source": [
    "The first question is how to get the half-edges from the face-list."
   ]
  },
  {
   "cell_type": "code",
   "execution_count": null,
   "metadata": {},
   "outputs": [],
   "source": [
    "#| export\n",
    "def get_half_edges(mesh: ListOfPtsAndFaces) -> Dict[int, HalfEdge]:\n",
    "    \"\"\"Create list of half-edges from a ListOfPtsAndFaces mesh\"\"\"\n",
    "    heid_counter = 0\n",
    "    pre_hes = []\n",
    "    # first create half edges without their twins by going around each face.\n",
    "    for key, fc in mesh.faces.items():\n",
    "        # ensure face is oriented correctly\n",
    "        fc = sort_ids_by_vertices(fc, [mesh.points[x] for x in fc])\n",
    "        heids = [heid_counter+i for i in range(len(fc))]\n",
    "        nxts = np.roll(heids, -1).tolist()\n",
    "        vertices = [tuple((fc+[fc[0]])[i:i+2]) for i in range(len(fc))]\n",
    "        pre_hes += [HalfEdge(_heid, nxt, None, key, verts) for _heid, nxt, verts in zip(heids, nxts, vertices)]\n",
    "        heid_counter += len(fc)\n",
    "    # now match the half-edges. if they cannot match, add a new he with cell None (note: quadratic)\n",
    "    edges = mesh.get_combined_edges()\n",
    "    for e in edges:\n",
    "        if e[1][0] is not None: # interior edge\n",
    "            he1 = next(he for he in pre_hes if he.vertices == e[0])\n",
    "            he2 = next(he for he in pre_hes if he.vertices == e[0][::-1])\n",
    "        else: # exterior edge, add another half edge with\n",
    "            he1 = next(he for he in pre_hes if tuple(sorted(he.vertices)) == e[0])\n",
    "            # hardest part: find the \"nxt\":\n",
    "            he2 = HalfEdge(heid_counter, None, he1._heid, None, he1.vertices[::-1])\n",
    "            pre_hes.append(he2)\n",
    "            heid_counter += 1\n",
    "        he1.twin, he2.twin = (he2._heid, he1._heid)\n",
    "    # find the \"next\" of the boundary edges. we can just traverse inshallah\n",
    "    bdry = [he for he in pre_hes if he.cell is None]\n",
    "    for he1 in bdry:\n",
    "        try:\n",
    "            nxt = next(he2 for he2 in bdry if he1.vertices[1] == he2.vertices[0])\n",
    "            he1.nxt = nxt._heid\n",
    "        except StopIteration:\n",
    "            print(\"Corner detected\")\n",
    "            \n",
    "    # turn into dict for easy access\n",
    "    return {he._heid: he for he in pre_hes}"
   ]
  },
  {
   "cell_type": "code",
   "execution_count": null,
   "metadata": {},
   "outputs": [
    {
     "data": {
      "text/plain": [
       "{0: HalfEdge(_heid=0, nxt=1, twin=6, cell=0, vertices=(0, 2)),\n",
       " 1: HalfEdge(_heid=1, nxt=2, twin=9, cell=0, vertices=(2, 3)),\n",
       " 2: HalfEdge(_heid=2, nxt=0, twin=3, cell=0, vertices=(3, 0)),\n",
       " 3: HalfEdge(_heid=3, nxt=4, twin=2, cell=1, vertices=(0, 3)),\n",
       " 4: HalfEdge(_heid=4, nxt=5, twin=7, cell=1, vertices=(3, 1)),\n",
       " 5: HalfEdge(_heid=5, nxt=3, twin=8, cell=1, vertices=(1, 0)),\n",
       " 6: HalfEdge(_heid=6, nxt=8, twin=0, cell=None, vertices=(2, 0)),\n",
       " 7: HalfEdge(_heid=7, nxt=9, twin=4, cell=None, vertices=(1, 3)),\n",
       " 8: HalfEdge(_heid=8, nxt=7, twin=5, cell=None, vertices=(0, 1)),\n",
       " 9: HalfEdge(_heid=9, nxt=6, twin=1, cell=None, vertices=(3, 2))}"
      ]
     },
     "execution_count": null,
     "metadata": {},
     "output_type": "execute_result"
    }
   ],
   "source": [
    "hes = get_half_edges(test_mesh)\n",
    "hes"
   ]
  },
  {
   "cell_type": "code",
   "execution_count": null,
   "metadata": {},
   "outputs": [
    {
     "data": {
      "text/plain": [
       "{0, 2, 3}"
      ]
     },
     "execution_count": null,
     "metadata": {},
     "output_type": "execute_result"
    }
   ],
   "source": [
    "key = 0\n",
    "\n",
    "fc = Face(key, [he for he in hes.values() if he.cell==key])\n"
   ]
  },
  {
   "cell_type": "markdown",
   "metadata": {},
   "source": [
    "The `HalfEdgeMesh` data structure needs to contain the following data:\n",
    "\n",
    "- Vertices\n",
    "- Faces\n",
    "- Half-Edges\n",
    "\n",
    "They are once again stored in a `dict` format for easy access."
   ]
  },
  {
   "cell_type": "code",
   "execution_count": null,
   "metadata": {},
   "outputs": [],
   "source": [
    "#| export\n",
    "\n",
    "class HalfEdgeMesh:\n",
    "    def __init__(self, mesh : ListOfPtsAndFaces):\n",
    "        hes = get_half_edges(mesh)\n",
    "        self.hes = hes\n",
    "        # note: below is quite inefficient\n",
    "        self.faces = {key: Face(key, [he for he in hes.values() if he.cell==key])\n",
    "                      for key in mesh.faces.keys()}\n",
    "        self.vertices = {key: Vertex(key, val, [he for he in hes.values() if he.vertices[1]==key])\n",
    "                         for key, val in mesh.points.items()}\n",
    "        self.edges = {he._heid: Edge(he._heid, (he, hes[he.twin]), None)\n",
    "                      for he in hes.values() if he.vertices[0] < he.vertices[1]}\n",
    "    \n",
    "    def __deepcopy__(self):\n",
    "        pass\n",
    "    \n",
    "    def to_ListOfPtsAndFaces(self): # also not efficient\n",
    "        points = {key: val.coords for key, val in self.vertices.items()}\n",
    "        faces = {key: set(flatten([he.vertices for he in val.hes]))\n",
    "                 for key, val in self.faces.items()}\n",
    "        return ListOfPtsAndFaces(points, faces)\n",
    "        \n",
    "    \n",
    "    def saveObj(self, fname):\n",
    "        self.to_ListOfPtsAndFaces().saveObj(fname)\n",
    "    \n",
    "    @staticmethod\n",
    "    def fromObj(fname):\n",
    "        return HalfEdgeMesh(ListOfPtsAndFaces.fromObj(fname))"
   ]
  },
  {
   "cell_type": "code",
   "execution_count": null,
   "metadata": {},
   "outputs": [
    {
     "data": {
      "text/plain": [
       "<__main__.HalfEdgeMesh>"
      ]
     },
     "execution_count": null,
     "metadata": {},
     "output_type": "execute_result"
    }
   ],
   "source": [
    "test_hemesh = HalfEdgeMesh(test_mesh)\n",
    "\n",
    "test_hemesh"
   ]
  },
  {
   "cell_type": "code",
   "execution_count": null,
   "metadata": {},
   "outputs": [
    {
     "data": {
      "text/plain": [
       "{0: [0, 2, 3], 1: [0, 3, 1]}"
      ]
     },
     "execution_count": null,
     "metadata": {},
     "output_type": "execute_result"
    }
   ],
   "source": [
    "# convert back to simpler format if required.\n",
    "\n",
    "test_hemesh.to_ListOfPtsAndFaces().faces"
   ]
  },
  {
   "cell_type": "markdown",
   "metadata": {},
   "source": [
    "## simple mesh traversal and modification algorithms"
   ]
  },
  {
   "cell_type": "code",
   "execution_count": null,
   "metadata": {},
   "outputs": [],
   "source": [
    "# flip, collapse edge, split (vertex)"
   ]
  },
  {
   "cell_type": "code",
   "execution_count": null,
   "metadata": {},
   "outputs": [],
   "source": []
  },
  {
   "cell_type": "code",
   "execution_count": null,
   "metadata": {},
   "outputs": [],
   "source": []
  },
  {
   "cell_type": "markdown",
   "metadata": {},
   "source": [
    "## Duality operations"
   ]
  },
  {
   "cell_type": "code",
   "execution_count": null,
   "metadata": {},
   "outputs": [],
   "source": []
  },
  {
   "cell_type": "markdown",
   "metadata": {},
   "source": [
    "## Export code to module"
   ]
  },
  {
   "cell_type": "code",
   "execution_count": null,
   "metadata": {},
   "outputs": [],
   "source": [
    "#| export\n",
    "\n",
    "nbdev.nbdev_export()"
   ]
  }
 ],
 "metadata": {
  "kernelspec": {
   "display_name": "Python 3",
   "language": "python",
   "name": "python3"
  }
 },
 "nbformat": 4,
 "nbformat_minor": 4
}
