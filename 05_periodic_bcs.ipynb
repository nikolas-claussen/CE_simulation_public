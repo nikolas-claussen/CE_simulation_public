{
 "cells": [
  {
   "cell_type": "markdown",
   "id": "0363a2ae",
   "metadata": {},
   "source": [
    "# periodic_bcs\n",
    "\n",
    "> Extend simulations to periodic boundary conditions\n",
    "\n",
    "TBD.\n",
    "\n",
    "Notes on tension torus: need variable radii ...\n"
   ]
  },
  {
   "cell_type": "code",
   "execution_count": null,
   "id": "ffd106c7",
   "metadata": {},
   "outputs": [],
   "source": [
    "#| default_exp periodic"
   ]
  }
 ],
 "metadata": {
  "kernelspec": {
   "display_name": "Python [conda env:root] *",
   "language": "python",
   "name": "conda-root-py"
  }
 },
 "nbformat": 4,
 "nbformat_minor": 5
}
