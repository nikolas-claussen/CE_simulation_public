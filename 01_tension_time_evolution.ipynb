{
 "cells": [
  {
   "cell_type": "markdown",
   "id": "47812749",
   "metadata": {},
   "source": [
    "# tension_time_evolution\n",
    "\n",
    "> Evolve tension in time\n",
    "\n",
    "Simulate time evolution of tension triangulation, so far without reference to real space. Ensure flatness at every step using fake energy minimization.\n",
    "\n",
    "See lattice model simulation notebooks."
   ]
  },
  {
   "cell_type": "code",
   "execution_count": null,
   "id": "88a23116",
   "metadata": {},
   "outputs": [],
   "source": [
    "#| default_exp tension"
   ]
  },
  {
   "cell_type": "code",
   "execution_count": null,
   "id": "11343ca4",
   "metadata": {},
   "outputs": [],
   "source": [
    "#| hide\n",
    "from nbdev.showdoc import *\n",
    "import nbdev"
   ]
  },
  {
   "cell_type": "code",
   "execution_count": null,
   "id": "20fbbaa3",
   "metadata": {},
   "outputs": [],
   "source": [
    "from CE_simulation.triangle import *"
   ]
  },
  {
   "cell_type": "code",
   "execution_count": null,
   "id": "8b93e6a0",
   "metadata": {},
   "outputs": [],
   "source": [
    "#| export\n",
    "import os\n",
    "import numpy as np\n",
    "import matplotlib.pyplot as plt\n",
    "import matplotlib as mpl\n",
    "\n",
    "from numpy import sin, cos, tan, pi, sqrt, arccos, arctan, arctan2\n",
    "from numpy.linalg import norm\n",
    "\n",
    "from scipy.integrate import solve_ivp\n",
    "from scipy import ndimage\n",
    "from scipy import spatial\n",
    "from scipy import optimize\n",
    "\n",
    "from tqdm.notebook import tqdm"
   ]
  },
  {
   "cell_type": "code",
   "execution_count": null,
   "id": "d01ef41f",
   "metadata": {},
   "outputs": [],
   "source": [
    "#| export\n",
    "\n",
    "from dataclasses import dataclass\n",
    "from typing import Union, Dict, List, Tuple, Iterable\n",
    "from nptyping import NDArray, Int, Float, Shape\n",
    "\n",
    "from fastcore.foundation import patch"
   ]
  },
  {
   "cell_type": "markdown",
   "id": "3649801c",
   "metadata": {},
   "source": [
    "## Time evolution in a single triangle"
   ]
  },
  {
   "cell_type": "code",
   "execution_count": null,
   "id": "7a2e31fd",
   "metadata": {},
   "outputs": [],
   "source": [
    "#| export\n",
    "\n",
    "# basic formulas for triangles\n",
    "\n",
    "def vectors_angle(a,b):\n",
    "    \"\"\"Angle between two vectors\"\"\"\n",
    "    inner = (a@b)/sqrt((a@a)*(b@b))\n",
    "    return arccos(inner)\n",
    "\n",
    "def sides_area(Ts):\n",
    "    \"\"\"Triangle area from side lengths\"\"\"\n",
    "    Ts = np.sort(Ts, axis=0)[::-1]\n",
    "    #A = sqrt((Ts[0]+Ts[1]+Ts[2])*(-Ts[0]+Ts[1]+Ts[2])*(Ts[0]-Ts[1]+Ts[2])*(Ts[0]+Ts[1]-Ts[2]))/4\n",
    "    A = (Ts[0]+(Ts[1]+Ts[2]))*(Ts[2]-(Ts[0]-Ts[1]))*(Ts[2]+(Ts[0]-Ts[1]))*(Ts[0]+(Ts[1]-Ts[2]))/16\n",
    "    return sqrt(np.clip(A, 0, np.inf))\n",
    "\n",
    "def sides_circum(Ts):\n",
    "    \"\"\"Triangle circumcircle from side lengths\"\"\"\n",
    "    R = np.prod(Ts, axis=0)/(4*sides_area(Ts))\n",
    "    return R\n",
    "\n",
    "def sides_angles(Ts):\n",
    "    \"\"\"Triangle angles from side lengths. Sorted so that angle [i] is opposite to Ts[i]\"\"\"\n",
    "    R = sides_circum(Ts)\n",
    "    inds = np.argmax(Ts, axis=0)\n",
    "    # need to take the smaller two angles so as to avoid error in arcsin for angles >90\n",
    "    phis = np.arcsin(Ts/(2*R))\n",
    "    if isinstance(inds, np.ndarray):\n",
    "        phis[inds, np.arange(len(inds))] = pi-(phis.sum(axis=0)-phis[inds, np.arange(len(inds))])\n",
    "    else:\n",
    "        phis[inds] =  pi-(phis.sum(axis=0)-phis[inds])\n",
    "    return phis\n",
    "\n",
    "def angles_shape(phis):\n",
    "    \"\"\"Shape order parameter from angles\"\"\"\n",
    "    alpha, beta, gamma = phis\n",
    "    x = sqrt(3)*sin(alpha)*sin(alpha+2*beta)\n",
    "    y = (cos(alpha)*cos(alpha+2*beta) - cos(2*alpha))\n",
    "    psi = np.arctan2(x, y) + pi\n",
    "\n",
    "    Psi = 6+2*(cos(4*triangle)-cos(2*triangle) - cos(2*(triangle-np.roll(triangle, 1, axis=0)))).sum(axis=0)\n",
    "    Psi /= (3-cos(2*triangle).sum(axis=0))**2\n",
    "    Psi = np.sqrt(Psi)\n",
    "    \n",
    "    psi_tilde = pi - np.abs((3*psi) % (2*pi) - pi)\n",
    "    \n",
    "    return np.array([psi_tilde, Psi])"
   ]
  },
  {
   "cell_type": "code",
   "execution_count": null,
   "id": "b241c9f7",
   "metadata": {},
   "outputs": [
    {
     "data": {
      "text/plain": [
       "True"
      ]
     },
     "execution_count": null,
     "metadata": {},
     "output_type": "execute_result"
    }
   ],
   "source": [
    "round(sides_area([1, 1, sqrt(2)]), ndigits=3) == 1/2"
   ]
  },
  {
   "cell_type": "code",
   "execution_count": null,
   "id": "f536b41d",
   "metadata": {},
   "outputs": [
    {
     "data": {
      "text/plain": [
       "True"
      ]
     },
     "execution_count": null,
     "metadata": {},
     "output_type": "execute_result"
    }
   ],
   "source": [
    "round(sides_circum([sqrt(3), sqrt(3), sqrt(3)]), ndigits=3) == 1"
   ]
  },
  {
   "cell_type": "code",
   "execution_count": null,
   "id": "c157e668",
   "metadata": {},
   "outputs": [
    {
     "data": {
      "text/plain": [
       "array([ True,  True,  True])"
      ]
     },
     "execution_count": null,
     "metadata": {},
     "output_type": "execute_result"
    }
   ],
   "source": [
    "np.round(sides_angles(np.array([1, 1, 1]))*180/pi) == 60"
   ]
  },
  {
   "cell_type": "code",
   "execution_count": null,
   "id": "7b1da84e",
   "metadata": {},
   "outputs": [],
   "source": [
    "#| export\n",
    "def sides_area_jac(Ts):\n",
    "    \"\"\"get jacobian of area change in edge length\"\"\"\n",
    "    dA = np.array([0., 0., 0.])\n",
    "    #inds = np.argsort(-Ts, axis=0)\n",
    "    #Ts = np.take_along_axis(Ts, inds, axis=0)\n",
    "    dA += np.array([1, 1, 1])   * (Ts[2]-(Ts[0]-Ts[1])) * (Ts[2]+(Ts[0]-Ts[1])) * (Ts[0]+(Ts[1]-Ts[2]))\n",
    "    dA += (Ts[0]+(Ts[1]+Ts[2])) * np.array([-1, 1, 1])  * (Ts[2]+(Ts[0]-Ts[1])) * (Ts[0]+(Ts[1]-Ts[2]))\n",
    "    dA += (Ts[0]+(Ts[1]+Ts[2])) * (Ts[2]-(Ts[0]-Ts[1])) * np.array([1, -1, 1])  * (Ts[0]+(Ts[1]-Ts[2]))\n",
    "    dA += (Ts[0]+(Ts[1]+Ts[2])) * (Ts[2]-(Ts[0]-Ts[1])) * (Ts[2]+(Ts[0]-Ts[1])) * np.array([1, 1, -1])\n",
    "\n",
    "    dA /= 48*(sides_area(Ts)+1e-5)\n",
    "    #dA = np.take_along_axis(dA, inds, axis=0)\n",
    "    return dA"
   ]
  },
  {
   "cell_type": "code",
   "execution_count": null,
   "id": "4ed00669",
   "metadata": {},
   "outputs": [
    {
     "name": "stdout",
     "output_type": "stream",
     "text": [
      "[0.45, 0.49, 0.49]\n"
     ]
    }
   ],
   "source": [
    "Ts = np.array([.7, 1.3, sqrt(2)])\n",
    "dTs = np.array([.2, -.2, -.05])\n",
    "\n",
    "areas = [round(x, ndigits=2)\n",
    "         for x in [sides_area(Ts), sides_area(Ts+dTs), sides_area(Ts)+sides_area_jac(Ts).dot(dTs)]]\n",
    "\n",
    "print(areas)\n",
    "assert areas[1] == areas[2]  # to reasonable precision"
   ]
  },
  {
   "cell_type": "code",
   "execution_count": null,
   "id": "7ad94dd7",
   "metadata": {},
   "outputs": [],
   "source": [
    "#| export\n",
    "\n",
    "# tension time evolution in triangle with constrained area\n",
    "def excitable_dt(Ts, m=2):\n",
    "    \"\"\"Time derivative of tensions under excitable tension model with constrained area\"\"\"\n",
    "    dT_dt = Ts**m\n",
    "    area_jac = sides_area_jac(Ts)\n",
    "    area_jac /= norm(area_jac)\n",
    "    dT_dt -= area_jac * (area_jac@dT_dt)\n",
    "    return dT_dt"
   ]
  },
  {
   "cell_type": "code",
   "execution_count": null,
   "id": "8377fc64",
   "metadata": {},
   "outputs": [
    {
     "name": "stdout",
     "output_type": "stream",
     "text": [
      "[0.45, 0.45]\n"
     ]
    }
   ],
   "source": [
    "Ts = np.array([.7, 1.3, sqrt(2)])\n",
    "dt = .02\n",
    "dTs = excitable_dt(Ts) * dt\n",
    "\n",
    "areas = [round(x, ndigits=2) for x in [sides_area(Ts), sides_area(Ts+dTs)]]\n",
    "print(areas)\n",
    "assert areas[0] == areas[1]  # to reasonable precision, areas don't change"
   ]
  },
  {
   "cell_type": "code",
   "execution_count": null,
   "id": "5e388bad",
   "metadata": {},
   "outputs": [],
   "source": [
    "def excitable_dt_angles(phi_is, m=2):\n",
    "    \"\"\"Time derivative of angles under excitable tension model with constrained circumcircle\"\"\"\n",
    "    # convert to angles\n",
    "    Ti_rate = sin(phi_is)**(m-1)\n",
    "    second_term = (Ti_rate * tan(phi_is)).sum() / tan(phi_is).sum()\n",
    "    phi_is_dot = tan(phi_is) * (Ti_rate  - second_term)\n",
    "    return phi_is_dot"
   ]
  },
  {
   "cell_type": "markdown",
   "id": "66fe7cb6",
   "metadata": {},
   "source": [
    "## To Do:\n",
    "\n",
    "- add `rest` (length) and `flipped` attributes to the `HalfEdge` class, \n",
    "- remove Edge class? Not really required if we simulate based on half edges\n",
    "- add method to compute lengths, angles of `HalfEdges` in `HalfEdgeMesh`"
   ]
  },
  {
   "cell_type": "markdown",
   "id": "c618702e",
   "metadata": {},
   "source": [
    "## ODE integrator\n",
    "\n",
    "Need to make my own little ODE solver because between ODE steps, we will need to find the real space tessellation. \n",
    "\n",
    "Se Numerical Recipes Chpt. 17. "
   ]
  },
  {
   "cell_type": "code",
   "execution_count": null,
   "id": "e9be861d",
   "metadata": {},
   "outputs": [
    {
     "name": "stdout",
     "output_type": "stream",
     "text": [
      "The solver successfully reached the end of the integration interval.\n"
     ]
    }
   ],
   "source": [
    "## scipy ODE solver for some triangle\n",
    "\n",
    "y0 = np.array([sqrt(2), 1.2, 1])\n",
    "A0 = sides_area(y0)\n",
    "\n",
    "rhs = lambda t, y: excitable_dt(y, m=2)\n",
    "\n",
    "t = np.linspace(0, .7, 100)\n",
    "\n",
    "sol = solve_ivp(rhs, (t[0], t[-1]), y0,  t_eval=t, method=\"RK45\", rtol=1e-4,)\n",
    "print(sol[\"message\"])\n",
    "sol = sol[\"y\"]\n",
    "As = sides_area(sol)\n",
    "angles = sides_angles(sol) * (180/pi)"
   ]
  },
  {
   "cell_type": "code",
   "execution_count": null,
   "id": "82809552",
   "metadata": {},
   "outputs": [
    {
     "data": {
      "text/plain": [
       "(0.0, 2.0)"
      ]
     },
     "execution_count": null,
     "metadata": {},
     "output_type": "execute_result"
    },
    {
     "data": {
      "image/png": "[encoded data removed]",
      "text/plain": [
       "<Figure size 432x288 with 1 Axes>"
      ]
     },
     "metadata": {
      "needs_background": "light"
     },
     "output_type": "display_data"
    }
   ],
   "source": [
    "plt.plot(t, As/A0)\n",
    "plt.ylim([0, 2])"
   ]
  },
  {
   "cell_type": "code",
   "execution_count": null,
   "id": "ee5adb41",
   "metadata": {},
   "outputs": [
    {
     "data": {
      "text/plain": [
       "[<matplotlib.lines.Line2D>]"
      ]
     },
     "execution_count": null,
     "metadata": {},
     "output_type": "execute_result"
    },
    {
     "data": {
      "image/png": "[encoded data removed]",
      "text/plain": [
       "<Figure size 432x288 with 1 Axes>"
      ]
     },
     "metadata": {
      "needs_background": "light"
     },
     "output_type": "display_data"
    }
   ],
   "source": [
    "plt.plot(t, angles[0])\n",
    "plt.plot(t, angles[1])\n",
    "plt.plot(t, angles[2])"
   ]
  },
  {
   "cell_type": "code",
   "execution_count": null,
   "id": "967a4961",
   "metadata": {},
   "outputs": [
    {
     "data": {
      "text/plain": [
       "[<matplotlib.lines.Line2D>]"
      ]
     },
     "execution_count": null,
     "metadata": {},
     "output_type": "execute_result"
    },
    {
     "data": {
      "image/png": "[encoded data removed]",
      "text/plain": [
       "<Figure size 432x288 with 1 Axes>"
      ]
     },
     "metadata": {
      "needs_background": "light"
     },
     "output_type": "display_data"
    }
   ],
   "source": [
    "plt.plot(t, sol[0])\n",
    "plt.plot(t, sol[1])\n",
    "plt.plot(t, sol[2])"
   ]
  },
  {
   "cell_type": "code",
   "execution_count": null,
   "id": "a3b05bf2",
   "metadata": {},
   "outputs": [],
   "source": [
    "## naive Euler stepping - looks ok!\n",
    "\n",
    "Ts = [y0,]\n",
    "ts = [0,]\n",
    "\n",
    "dt = .01\n",
    "\n",
    "for i in range(70):\n",
    "    ts.append(ts[-1]+dt)\n",
    "    T_new = Ts[-1]+dt*excitable_dt(Ts[-1], m=2)\n",
    "    Ts.append(T_new)\n",
    "Ts = np.stack(Ts, axis=-1)\n",
    "ts = np.array(ts)"
   ]
  },
  {
   "cell_type": "code",
   "execution_count": null,
   "id": "422fb372",
   "metadata": {},
   "outputs": [
    {
     "data": {
      "text/plain": [
       "[<matplotlib.lines.Line2D>]"
      ]
     },
     "execution_count": null,
     "metadata": {},
     "output_type": "execute_result"
    },
    {
     "data": {
      "image/png": "[encoded data removed]",
      "text/plain": [
       "<Figure size 432x288 with 1 Axes>"
      ]
     },
     "metadata": {
      "needs_background": "light"
     },
     "output_type": "display_data"
    }
   ],
   "source": [
    "plt.plot(ts, Ts[0])\n",
    "plt.plot(ts, Ts[1])\n",
    "plt.plot(ts, Ts[2])"
   ]
  },
  {
   "cell_type": "markdown",
   "id": "c3d8669f",
   "metadata": {},
   "source": [
    "## Create a test Half edge mesh and add a method to calculate internal angles"
   ]
  },
  {
   "cell_type": "code",
   "execution_count": null,
   "id": "2462b0a6",
   "metadata": {},
   "outputs": [
    {
     "data": {
      "image/png": "[encoded data removed]",
      "text/plain": [
       "<Figure size 432x288 with 1 Axes>"
      ]
     },
     "metadata": {
      "needs_background": "light"
     },
     "output_type": "display_data"
    }
   ],
   "source": [
    "points = np.array([[0, 0], [0, 1.1], [1, 0], [1, 1]])\n",
    "tri = spatial.Delaunay(points)\n",
    "\n",
    "test_mesh = ListOfVerticesAndFaces(tri.points, tri.simplices)\n",
    "test_hemesh = HalfEdgeMesh(test_mesh)\n",
    "\n",
    "test_hemesh.triplot()"
   ]
  },
  {
   "cell_type": "code",
   "execution_count": null,
   "id": "323476c5",
   "metadata": {},
   "outputs": [],
   "source": [
    "# and a large mesh\n",
    "\n",
    "pts = np.stack(np.meshgrid(np.linspace(0, 1, 25), np.linspace(0, 1, 50)))\n",
    "noise =  np.random.normal(size=pts.shape, scale=.0025)\n",
    "noise[:,0,:] = noise[:,-1,:] = 0\n",
    "noise[:,:,0] = noise[:,:,-1] = 0\n",
    "\n",
    "pts += noise\n",
    "pts = pts.reshape((2, pts.shape[1]*pts.shape[2])).T\n",
    "tri = spatial.Delaunay(pts)\n",
    "\n",
    "test_mesh_large = ListOfVerticesAndFaces(tri.points, tri.simplices)\n",
    "test_hemesh_large = HalfEdgeMesh(test_mesh_large)"
   ]
  },
  {
   "cell_type": "code",
   "execution_count": null,
   "id": "ceb842f8",
   "metadata": {},
   "outputs": [
    {
     "data": {
      "text/plain": [
       "(True, 7202)"
      ]
     },
     "execution_count": null,
     "metadata": {},
     "output_type": "execute_result"
    }
   ],
   "source": [
    "test_hemesh_large.is_consistent(), len(test_hemesh_large.hes)"
   ]
  },
  {
   "cell_type": "code",
   "execution_count": null,
   "id": "40ed4ee3",
   "metadata": {},
   "outputs": [],
   "source": [
    "#|export\n",
    "@patch\n",
    "\n",
    "def get_angles(self: HalfEdgeMesh):\n",
    "    angle_dict = {}\n",
    "    egde_lengths = {key: norm(val) for key, val in self.get_edge_vecs().items()}\n",
    "    for fc in self.faces.values():\n",
    "        lengths = []\n",
    "        heids = []\n",
    "        returned = False\n",
    "        start_he = fc.hes[0]\n",
    "        he = start_he\n",
    "        while not returned:\n",
    "            heids.append(he._heid)\n",
    "            lengths.append(egde_lengths[he._heid])\n",
    "            he = self.hes[he.nxt]\n",
    "            returned = (he == start_he)\n",
    "        angles = sides_angles(lengths) \n",
    "        for heid, a in zip(heids, angles):\n",
    "            angle_dict[heid] = a   \n",
    "    return angle_dict"
   ]
  },
  {
   "cell_type": "code",
   "execution_count": null,
   "id": "2d560cec",
   "metadata": {},
   "outputs": [
    {
     "data": {
      "text/plain": [
       "{0: 0.7853981633974482,\n",
       " 1: 0.7853981633974482,\n",
       " 2: 1.5707963267948966,\n",
       " 3: 1.4711276743037347,\n",
       " 4: 0.7853981633974481,\n",
       " 5: 0.8850668158886102}"
      ]
     },
     "execution_count": null,
     "metadata": {},
     "output_type": "execute_result"
    }
   ],
   "source": [
    "test_hemesh.get_angles()"
   ]
  },
  {
   "cell_type": "markdown",
   "id": "cf89fb24",
   "metadata": {},
   "source": [
    "## Optimize vertex positions given rest lengths"
   ]
  },
  {
   "cell_type": "code",
   "execution_count": null,
   "id": "8f3d85f8",
   "metadata": {},
   "outputs": [
    {
     "data": {
      "image/png": "[encoded data removed]",
      "text/plain": [
       "<Figure size 432x288 with 1 Axes>"
      ]
     },
     "metadata": {
      "needs_background": "light"
     },
     "output_type": "display_data"
    }
   ],
   "source": [
    "test_hemesh.triplot()"
   ]
  },
  {
   "cell_type": "code",
   "execution_count": null,
   "id": "9159d7b4",
   "metadata": {},
   "outputs": [],
   "source": [
    "## define function to measure energy = sum_edges (l_e -l_e,0)^2\n",
    "# needs to take in a vector of vertex positions of shape (n)"
   ]
  },
  {
   "cell_type": "code",
   "execution_count": null,
   "id": "764542f3",
   "metadata": {},
   "outputs": [],
   "source": [
    "# create a test vector\n",
    "\n",
    "mesh = test_hemesh\n",
    "for he in test_hemesh.hes.values():\n",
    "    he.rest = 1.5 # for testing purposes"
   ]
  },
  {
   "cell_type": "code",
   "execution_count": null,
   "id": "5175f291",
   "metadata": {},
   "outputs": [],
   "source": [
    "# step 0: prepare initial condition. will serve as test vector. sort vectors by keys.\n",
    "\n",
    "vertex_keys = sorted(mesh.vertices.keys())\n",
    "vertex_vector = np.stack([mesh.vertices[key].coords for key in vertex_keys]).T\n",
    "\n",
    "# scipy otpmize needs a 1d array. so stack x coords on top of y coords\n",
    "x0 = np.hstack([vertex_vector[0], vertex_vector[1]])"
   ]
  },
  {
   "cell_type": "code",
   "execution_count": null,
   "id": "c0f2f5af",
   "metadata": {},
   "outputs": [
    {
     "name": "stdout",
     "output_type": "stream",
     "text": [
      "[-1.  0. -1. -1.  0.] [ 0.  -1.  -1.   0.1 -1.1]\n",
      "CPU times: user 1.11 ms, sys: 0 ns, total: 1.11 ms\n",
      "Wall time: 679 µs\n"
     ]
    }
   ],
   "source": [
    "%%time\n",
    "\n",
    "# step 1: create a list of initial & terminal edge vertices. this will be used to calculate differences\n",
    "# also create a reference vector of \n",
    "\n",
    "e_lst = []\n",
    "rest_lengths = []\n",
    "\n",
    "# we will need to look up which vertex key corresponds to list position\n",
    "vertex_key_dict = {key: ix for ix, key in enumerate(sorted(mesh.vertices.keys()))}\n",
    "\n",
    "for e in mesh.hes.values():\n",
    "    if e.vertices[0] < e.vertices[1]: # avoid duplicates\n",
    "        e_lst.append([vertex_key_dict[v] for v in e.vertices])\n",
    "        rest_lengths.append((e.rest+mesh.hes[e.twin].rest)/2)\n",
    "        \n",
    "e_lst = np.array(e_lst).T\n",
    "rest_lengths = np.array(rest_lengths)\n",
    "\n",
    "# step 2 split up the vector and calculate lengths\n",
    "\n",
    "x, y = (x0[:int(len(x0)/2)], x0[int(len(x0)/2):])\n",
    "print((x[e_lst[0]]-x[e_lst[1]]), (y[e_lst[0]]-y[e_lst[1]]))  # looks good\n",
    "lengths = sqrt((x[e_lst[0]]-x[e_lst[1]])**2 + (y[e_lst[0]]-y[e_lst[1]])**2)\n",
    "\n",
    "E = 1/2 * (lengths-rest_lengths)**2\n",
    "\n",
    "# it is much much faster to create these structures once only. "
   ]
  },
  {
   "cell_type": "code",
   "execution_count": null,
   "id": "76c406d5",
   "metadata": {},
   "outputs": [],
   "source": [
    "#| export\n",
    "\n",
    "import autograd.numpy as anp  # Thinly-wrapped numpy\n",
    "from autograd import grad\n",
    "\n",
    "from scipy.sparse import csc_matrix"
   ]
  },
  {
   "cell_type": "code",
   "execution_count": null,
   "id": "8e419d65",
   "metadata": {},
   "outputs": [],
   "source": [
    "#| export\n",
    "\n",
    "@patch\n",
    "def vertices_to_initial_cond(self: HalfEdgeMesh):\n",
    "    \"\"\"Format vertices for use in energy minimization.\"\"\"\n",
    "    vertex_keys = sorted(self.vertices.keys())\n",
    "    vertex_vector = np.stack([self.vertices[key].coords for key in vertex_keys]).T\n",
    "    return np.hstack([vertex_vector[0], vertex_vector[1]])\n",
    "       \n",
    "@patch\n",
    "def initial_cond_to_vertices(self: HalfEdgeMesh, x0):\n",
    "    \"\"\"Reverse of format vertices for use in energy minimization.\"\"\"\n",
    "    vertex_keys = sorted(self.vertices.keys())\n",
    "    x, y = (x0[:int(len(x0)/2)], x0[int(len(x0)/2):])\n",
    "    vertex_vector = np.stack([x, y], axis=1)\n",
    "    return {key: val for key, val in zip(vertex_keys, vertex_vector)}\n",
    "\n",
    "\n",
    "@patch\n",
    "def get_energy_fct(self: HalfEdgeMesh):\n",
    "    \"\"\"Get energy function sum_edges (l_e -l_e,0)^2. remove translation mode by keeping COM fixed.\"\"\"\n",
    "    e_lst = []\n",
    "    rest_lengths = []\n",
    "\n",
    "    # we will need to look up which vertex key corresponds to list position\n",
    "    vertex_key_dict = {key: ix for ix, key in enumerate(sorted(self.vertices.keys()))}\n",
    "    #vertex_into_edge = np.zeros((int(len(self.hes)/2), len(self.vertices)))\n",
    "    #vertex_outo_edge = np.zeros((int(len(self.hes)/2), len(self.vertices)))\n",
    "    for e in self.hes.values():\n",
    "        if e.vertices[0] < e.vertices[1]: # avoid duplicates\n",
    "            e_lst.append([vertex_key_dict[v] for v in e.vertices])\n",
    "            rest_lengths.append((e.rest+self.hes[e.twin].rest)/2)\n",
    "            #vertex_into_edge[len(e_lst)-1, vertex_key_dict[e.vertices[0]]] = 1\n",
    "            #vertex_outo_edge[len(e_lst)-1, vertex_key_dict[e.vertices[1]]] = 1\n",
    "    \n",
    "    #vertex_is_neighbor = vertex_in_edge_mat @ vertex_in_edge_mat.T\n",
    "    #np.fill_diagonal(vertex_is_neighbor, 0)\n",
    "    #vertex_in_edge = csc_matrix(vertex_into_edge+vertex_outo_edge)\n",
    "    #vertex_into_edge = csc_matrix(vertex_into_edge)\n",
    "    #vertex_outo_edge = csc_matrix(vertex_outo_edge)\n",
    "\n",
    "    e_lst = anp.array(e_lst).T\n",
    "    rest_lengths = anp.array(rest_lengths)\n",
    "    center = anp.mean([val.coords for val in self.vertices.values()], axis=0)\n",
    "    n_vertices = len(self.vertices)\n",
    "    def get_E(x0):\n",
    "        x, y = (x0[:n_vertices], x0[n_vertices:])\n",
    "        lengths = anp.sqrt((x[e_lst[0]]\n",
    "                            #vertex_into_edge.dot(x)\n",
    "                            -x[e_lst[1]])**2\n",
    "                           + (y[e_lst[0]]-y[e_lst[1]])**2)\n",
    "        E = 1/2 * anp.sum((lengths-rest_lengths)**2)\n",
    "        # displacement from initial center\n",
    "        E = E + 1/2*((anp.mean(x)-center[0])**2+(anp.mean(y)-center[0]))**2\n",
    "        return E\n",
    "    \n",
    "    return get_E, grad(get_E)"
   ]
  },
  {
   "cell_type": "code",
   "execution_count": null,
   "id": "7db31abb",
   "metadata": {},
   "outputs": [],
   "source": [
    "x0 = test_hemesh_large.vertices_to_initial_cond()\n",
    "get_E, jac = test_hemesh_large.get_energy_fct()"
   ]
  },
  {
   "cell_type": "code",
   "execution_count": null,
   "id": "f104018e",
   "metadata": {},
   "outputs": [
    {
     "name": "stdout",
     "output_type": "stream",
     "text": [
      "69 µs ± 1.36 µs per loop (mean ± std. dev. of 7 runs, 10000 loops each)\n"
     ]
    }
   ],
   "source": [
    "%%timeit\n",
    "\n",
    "get_E(x0)\n",
    "# pretty fast."
   ]
  },
  {
   "cell_type": "code",
   "execution_count": null,
   "id": "9b47c130",
   "metadata": {},
   "outputs": [
    {
     "name": "stdout",
     "output_type": "stream",
     "text": [
      "3.02 ms ± 187 µs per loop (mean ± std. dev. of 7 runs, 100 loops each)\n"
     ]
    }
   ],
   "source": [
    "%%timeit\n",
    "\n",
    "jac(x0)\n",
    "# autograd: 3ms"
   ]
  },
  {
   "cell_type": "code",
   "execution_count": null,
   "id": "d7ce4299",
   "metadata": {},
   "outputs": [],
   "source": [
    "test_hemesh = HalfEdgeMesh(test_mesh)\n",
    "for he in test_hemesh.hes.values():\n",
    "    he.rest = 1.5 # for testing purposes"
   ]
  },
  {
   "cell_type": "code",
   "execution_count": null,
   "id": "81a79d80",
   "metadata": {},
   "outputs": [
    {
     "name": "stdout",
     "output_type": "stream",
     "text": [
      "{0: array([0., 0.]), 1: array([0. , 1.1]), 2: array([1., 0.]), 3: array([1., 1.])}\n",
      "{0: array([0., 0.]), 1: array([0. , 1.1]), 2: array([1., 0.]), 3: array([1., 1.])}\n"
     ]
    }
   ],
   "source": [
    "print(test_hemesh.initial_cond_to_vertices(test_hemesh.vertices_to_initial_cond()))\n",
    "print({key: val.coords for key, val in test_hemesh.vertices.items()})\n",
    "# looks good"
   ]
  },
  {
   "cell_type": "code",
   "execution_count": null,
   "id": "ec9335ff",
   "metadata": {},
   "outputs": [],
   "source": [
    "x0 = test_hemesh.vertices_to_initial_cond()\n",
    "get_E, jac = test_hemesh.get_energy_fct()"
   ]
  },
  {
   "cell_type": "markdown",
   "id": "5b95ea3b",
   "metadata": {},
   "source": [
    "## now let's try to minimize!"
   ]
  },
  {
   "cell_type": "code",
   "execution_count": null,
   "id": "74cdd7cd",
   "metadata": {},
   "outputs": [
    {
     "data": {
      "image/png": "[encoded data removed]",
      "text/plain": [
       "<Figure size 432x288 with 1 Axes>"
      ]
     },
     "metadata": {
      "needs_background": "light"
     },
     "output_type": "display_data"
    }
   ],
   "source": [
    "# create a test case\n",
    "\n",
    "mesh = HalfEdgeMesh(test_mesh)\n",
    "for he in mesh.hes.values():\n",
    "    he.rest = 1.5 # for testing purposes\n",
    "mesh.triplot()"
   ]
  },
  {
   "cell_type": "code",
   "execution_count": null,
   "id": "3b02eaf3",
   "metadata": {},
   "outputs": [
    {
     "name": "stdout",
     "output_type": "stream",
     "text": [
      "Optimization terminated successfully.\n",
      "CPU times: user 24.3 ms, sys: 0 ns, total: 24.3 ms\n",
      "Wall time: 27.5 ms\n"
     ]
    }
   ],
   "source": [
    "%%time\n",
    "x0 = mesh.vertices_to_initial_cond()\n",
    "get_E, grd = mesh.get_energy_fct()\n",
    "\n",
    "sol = optimize.minimize(get_E, x0, method=\"BFGS\", jac=grad(get_E))\n",
    "\n",
    "print(sol[\"message\"])\n",
    "new_coord_dict = mesh.initial_cond_to_vertices(sol[\"x\"])\n",
    "for key, val in mesh.vertices.items():\n",
    "    val.coords = new_coord_dict[key]"
   ]
  },
  {
   "cell_type": "code",
   "execution_count": null,
   "id": "d57c67b6",
   "metadata": {},
   "outputs": [
    {
     "data": {
      "image/png": "[encoded data removed]",
      "text/plain": [
       "<Figure size 432x288 with 1 Axes>"
      ]
     },
     "metadata": {
      "needs_background": "light"
     },
     "output_type": "display_data"
    }
   ],
   "source": [
    "mesh.triplot()"
   ]
  },
  {
   "cell_type": "markdown",
   "id": "8d283eac",
   "metadata": {},
   "source": [
    "### Try a larger mesh"
   ]
  },
  {
   "cell_type": "code",
   "execution_count": null,
   "id": "e4fe6fc3",
   "metadata": {},
   "outputs": [],
   "source": [
    "#| export\n",
    "def pre_optimize(mesh, fact=.3, n_iter=1):\n",
    "    \"\"\"Greedy pre-optimization\"\"\"\n",
    "    for i in range(n_iter):\n",
    "        for he in mesh.hes.values():\n",
    "            if he._heid < he.twin:\n",
    "                rest = (he.rest+mesh.hes[he.twin].rest)/2\n",
    "                vec = mesh.vertices[he.vertices[1]].coords-mesh.vertices[he.vertices[0]].coords\n",
    "                length = norm(vec)\n",
    "                delta = fact* vec/length * (length-rest)\n",
    "                mesh.vertices[he.vertices[0]].coords += delta/2\n",
    "                mesh.vertices[he.vertices[1]].coords -= delta/2\n",
    "                \n",
    "# for reasons which are fucking beyong me, as a patched class method this is very slow??"
   ]
  },
  {
   "cell_type": "code",
   "execution_count": null,
   "id": "a7bbb85c",
   "metadata": {},
   "outputs": [],
   "source": [
    "# try a more difficult task - larger mesh\n",
    "\n",
    "mesh = HalfEdgeMesh(test_mesh_large)\n",
    "edge_lengths = mesh.get_edge_lens()\n",
    "for e, val in edge_lengths.items():\n",
    "    mesh.hes[e].rest = val + np.random.normal(scale=1e-3)\n",
    "    #mesh.hes[e].rest = 1.01*val"
   ]
  },
  {
   "cell_type": "code",
   "execution_count": null,
   "id": "d2cb5391",
   "metadata": {},
   "outputs": [
    {
     "name": "stdout",
     "output_type": "stream",
     "text": [
      "0.0009038368156846614\n",
      "0.00042231682811344674\n"
     ]
    }
   ],
   "source": [
    "get_E, grd = mesh.get_energy_fct()\n",
    "x0 = mesh.vertices_to_initial_cond()\n",
    "print(get_E(x0))\n",
    "\n",
    "pre_optimize(mesh, fact=.3, n_iter=2)\n",
    "\n",
    "x0 = mesh.vertices_to_initial_cond()\n",
    "print(get_E(x0))"
   ]
  },
  {
   "cell_type": "code",
   "execution_count": null,
   "id": "72757301",
   "metadata": {},
   "outputs": [
    {
     "name": "stdout",
     "output_type": "stream",
     "text": [
      "Optimization terminated successfully.\n",
      "Optimization terminated successfully.\n",
      "Optimization terminated successfully.\n",
      "Optimization terminated successfully.\n",
      "Optimization terminated successfully.\n",
      "Optimization terminated successfully.\n",
      "Optimization terminated successfully.\n",
      "Optimization terminated successfully.\n",
      "1.51 s ± 237 ms per loop (mean ± std. dev. of 7 runs, 1 loop each)\n"
     ]
    }
   ],
   "source": [
    "%%timeit\n",
    "\n",
    "mesh = HalfEdgeMesh(test_mesh_large)\n",
    "edge_lengths = mesh.get_edge_lens()\n",
    "for e, val in edge_lengths.items():\n",
    "    mesh.hes[e].rest = val + np.random.normal(scale=1e-3)\n",
    "    #mesh.hes[e].rest = 1.01*val\n",
    "    \n",
    "pre_optimize(mesh, fact=.3, n_iter=2)\n",
    "\n",
    "get_E, grd = mesh.get_energy_fct()\n",
    "x0 = mesh.vertices_to_initial_cond()\n",
    "\n",
    "sol = optimize.minimize(get_E, x0, method=\"BFGS\", jac=grd, tol=1e-3)\n",
    "print(sol[\"message\"])\n",
    "\n",
    "new_coord_dict = mesh.initial_cond_to_vertices(sol[\"x\"])\n",
    "for key, val in mesh.vertices.items():\n",
    "    val.coords = new_coord_dict[key]\n",
    "\n",
    "#get_E(sol[\"x\"])\n"
   ]
  },
  {
   "cell_type": "code",
   "execution_count": null,
   "id": "08dca307",
   "metadata": {},
   "outputs": [
    {
     "name": "stdout",
     "output_type": "stream",
     "text": [
      "Optimization terminated successfully.\n",
      "Optimization terminated successfully.\n",
      "Optimization terminated successfully.\n",
      "Optimization terminated successfully.\n",
      "Optimization terminated successfully.\n",
      "Optimization terminated successfully.\n",
      "Optimization terminated successfully.\n",
      "Optimization terminated successfully.\n",
      "3.74 s ± 1.91 s per loop (mean ± std. dev. of 7 runs, 1 loop each)\n"
     ]
    }
   ],
   "source": [
    "%%timeit\n",
    "\n",
    "mesh = HalfEdgeMesh(test_mesh_large)\n",
    "edge_lengths = mesh.get_edge_lens()\n",
    "for e, val in edge_lengths.items():\n",
    "    mesh.hes[e].rest = val + np.random.normal(scale=1e-3)\n",
    "    #mesh.hes[e].rest = 1.01*val\n",
    "    \n",
    "#pre_optimize(mesh, fact=.3, n_iter=2)\n",
    "\n",
    "get_E, grd = mesh.get_energy_fct()\n",
    "x0 = mesh.vertices_to_initial_cond()\n",
    "\n",
    "sol = optimize.minimize(get_E, x0, method=\"BFGS\", jac=grd, tol=1e-3)\n",
    "print(sol[\"message\"])\n",
    "\n",
    "new_coord_dict = mesh.initial_cond_to_vertices(sol[\"x\"])\n",
    "for key, val in mesh.vertices.items():\n",
    "    val.coords = new_coord_dict[key]\n"
   ]
  },
  {
   "cell_type": "markdown",
   "id": "fa3c79f4",
   "metadata": {},
   "source": [
    "## Export code"
   ]
  },
  {
   "cell_type": "code",
   "execution_count": null,
   "id": "16829f84",
   "metadata": {},
   "outputs": [],
   "source": [
    "#| hide\n",
    "nbdev.nbdev_export()"
   ]
  },
  {
   "cell_type": "code",
   "execution_count": null,
   "id": "393c0d1b",
   "metadata": {},
   "outputs": [],
   "source": []
  },
  {
   "cell_type": "code",
   "execution_count": null,
   "id": "8def2c09",
   "metadata": {},
   "outputs": [],
   "source": []
  },
  {
   "cell_type": "markdown",
   "id": "f68899e9",
   "metadata": {},
   "source": [
    "## Old code"
   ]
  },
  {
   "cell_type": "code",
   "execution_count": null,
   "id": "34513b34",
   "metadata": {},
   "outputs": [],
   "source": []
  },
  {
   "cell_type": "raw",
   "id": "7e7b27a3",
   "metadata": {},
   "source": [
    "def jac(x0):\n",
    "    \"\"\"gradient of get_E\"\"\"\n",
    "    x, y = (x0[:int(x0.shape[0]/2)], x0[int(x0.shape[0]/2):])\n",
    "    lengths = np.sqrt((x[e_lst[0]]-x[e_lst[1]])**2 + (y[e_lst[0]]-y[e_lst[1]])**2)\n",
    "    dl_dx = ((lengths-rest_lengths)/lengths)\n",
    "    dE_dx = vertex_in_edge_mat.dot(dl_dx) * x\n",
    "    dE_dx -= vertex_is_neighbor.dot(dE_dx)\n",
    "    #dE_dx += (np.mean(x)-center[0]) * x/x.shape[0]\n",
    "    dE_dy = vertex_in_edge_mat.dot(dl_dx) * y\n",
    "    dE_dy -= vertex_is_neighbor.dot(dE_dy)\n",
    "    #dE_dy += (np.mean(y)-center[0]) * y/y.shape[0]\n",
    "    return np.hstack([dE_dx, dE_dy])\n",
    "# can't get it to work efficiently -... "
   ]
  }
 ],
 "metadata": {
  "kernelspec": {
   "display_name": "Python 3",
   "language": "python",
   "name": "python3"
  }
 },
 "nbformat": 4,
 "nbformat_minor": 5
}
