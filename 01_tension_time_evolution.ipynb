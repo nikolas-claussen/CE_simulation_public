{
 "cells": [
  {
   "cell_type": "markdown",
   "id": "538d8bd6",
   "metadata": {},
   "source": [
    "# tension_time_evolution\n",
    "\n",
    "> Evolve tension in time\n",
    "\n",
    "Simulate time evolution of tension triangulation, so far without reference to real space. Ensure flatness at every step using fake energy minimization.\n",
    "\n",
    "See lattice model simulation notebooks."
   ]
  },
  {
   "cell_type": "code",
   "execution_count": null,
   "id": "0b6b67d1",
   "metadata": {},
   "outputs": [],
   "source": [
    "#| default_exp tension"
   ]
  },
  {
   "cell_type": "code",
   "execution_count": null,
   "id": "53e1269a",
   "metadata": {},
   "outputs": [],
   "source": [
    "#| hide\n",
    "from nbdev.showdoc import *\n",
    "import nbdev"
   ]
  },
  {
   "cell_type": "code",
   "execution_count": null,
   "id": "167990e0",
   "metadata": {},
   "outputs": [],
   "source": [
    "#| hide\n",
    "import os\n",
    "import numpy as np\n",
    "import matplotlib.pyplot as plt\n",
    "import matplotlib as mpl\n",
    "\n",
    "from numpy import sin, cos, tan, pi, sqrt, arccos, arctan, arctan2\n",
    "from numpy.linalg import norm\n",
    "\n",
    "from scipy.integrate import solve_ivp\n",
    "from scipy import ndimage\n",
    "from scipy import spatial\n",
    "\n",
    "from tqdm.notebook import tqdm"
   ]
  },
  {
   "cell_type": "code",
   "execution_count": null,
   "id": "a353eddc",
   "metadata": {},
   "outputs": [],
   "source": [
    "#| hide\n",
    "\n",
    "from dataclasses import dataclass\n",
    "from typing import Union, Dict, List, Tuple, Iterable\n",
    "from nptyping import NDArray, Int, Float, Shape\n",
    "\n",
    "from fastcore.foundation import patch"
   ]
  },
  {
   "cell_type": "markdown",
   "id": "5bbcb527",
   "metadata": {},
   "source": [
    "## Time evolution in a single triangle"
   ]
  },
  {
   "cell_type": "code",
   "execution_count": null,
   "id": "541c9dc7",
   "metadata": {},
   "outputs": [],
   "source": [
    "#| export\n",
    "\n",
    "# basic formulas for triangles\n",
    "\n",
    "def vectors_angle(a,b):\n",
    "    \"\"\"Angle between two vectors\"\"\"\n",
    "    inner = (a@b)/sqrt((a@a)*(b@b))\n",
    "    return arccos(inner)\n",
    "\n",
    "def sides_area(Ts):\n",
    "    \"\"\"Triangle area from side lengths\"\"\"\n",
    "    Ts = np.sort(Ts, axis=0)[::-1]\n",
    "    #A = sqrt((Ts[0]+Ts[1]+Ts[2])*(-Ts[0]+Ts[1]+Ts[2])*(Ts[0]-Ts[1]+Ts[2])*(Ts[0]+Ts[1]-Ts[2]))/4\n",
    "    A = (Ts[0]+(Ts[1]+Ts[2]))*(Ts[2]-(Ts[0]-Ts[1]))*(Ts[2]+(Ts[0]-Ts[1]))*(Ts[0]+(Ts[1]-Ts[2]))/16\n",
    "    return sqrt(np.clip(A, 0, np.inf))\n",
    "\n",
    "def sides_circum(Ts):\n",
    "    \"\"\"Triangle circumcircle from side lengths\"\"\"\n",
    "    R = np.prod(Ts, axis=0)/(4*sides_area(Ts))\n",
    "    return R\n",
    "\n",
    "def sides_angles(Ts):\n",
    "    \"\"\"Triangle angles from side lengths. Sorted so that angle [i] is opposite to Ts[i]\"\"\"\n",
    "    R = sides_circum(Ts)\n",
    "    inds = np.argmax(Ts, axis=0)\n",
    "    # need to take the smaller two angles so as to avoid error in arcsin for angles >90\n",
    "    phis = np.arcsin(Ts/(2*R))\n",
    "    if isinstance(inds, np.ndarray):\n",
    "        phis[inds, np.arange(len(inds))] = pi-(phis.sum(axis=0)-phis[inds, np.arange(len(inds))])\n",
    "    else:\n",
    "        phis[inds] =  pi-(phis.sum(axis=0)-phis[inds])\n",
    "    return phis\n",
    "\n",
    "def angles_shape(phis):\n",
    "    \"\"\"Shape order parameter from angles\"\"\"\n",
    "    alpha, beta, gamma = phis\n",
    "    x = sqrt(3)*sin(alpha)*sin(alpha+2*beta)\n",
    "    y = (cos(alpha)*cos(alpha+2*beta) - cos(2*alpha))\n",
    "    psi = np.arctan2(x, y) + pi\n",
    "\n",
    "    Psi = 6+2*(cos(4*triangle)-cos(2*triangle) - cos(2*(triangle-np.roll(triangle, 1, axis=0)))).sum(axis=0)\n",
    "    Psi /= (3-cos(2*triangle).sum(axis=0))**2\n",
    "    Psi = np.sqrt(Psi)\n",
    "    \n",
    "    psi_tilde = pi - np.abs((3*psi) % (2*pi) - pi)\n",
    "    \n",
    "    return np.array([psi_tilde, Psi])"
   ]
  },
  {
   "cell_type": "code",
   "execution_count": null,
   "id": "79aaa795",
   "metadata": {},
   "outputs": [
    {
     "data": {
      "text/plain": [
       "True"
      ]
     },
     "execution_count": null,
     "metadata": {},
     "output_type": "execute_result"
    }
   ],
   "source": [
    "round(sides_area([1, 1, sqrt(2)]), ndigits=3) == 1/2"
   ]
  },
  {
   "cell_type": "code",
   "execution_count": null,
   "id": "953c1bde",
   "metadata": {},
   "outputs": [
    {
     "data": {
      "text/plain": [
       "True"
      ]
     },
     "execution_count": null,
     "metadata": {},
     "output_type": "execute_result"
    }
   ],
   "source": [
    "round(sides_circum([sqrt(3), sqrt(3), sqrt(3)]), ndigits=3) == 1"
   ]
  },
  {
   "cell_type": "code",
   "execution_count": null,
   "id": "d1fceb15",
   "metadata": {},
   "outputs": [
    {
     "data": {
      "text/plain": [
       "array([ True,  True,  True])"
      ]
     },
     "execution_count": null,
     "metadata": {},
     "output_type": "execute_result"
    }
   ],
   "source": [
    "np.round(sides_angles(np.array([1, 1, 1]))*180/pi) == 60"
   ]
  },
  {
   "cell_type": "code",
   "execution_count": null,
   "id": "24bc8f34",
   "metadata": {},
   "outputs": [],
   "source": [
    "#| export\n",
    "def sides_area_jac(Ts):\n",
    "    \"\"\"get jacobian of area change in edge length\"\"\"\n",
    "    dA = np.array([0., 0., 0.])\n",
    "    #inds = np.argsort(-Ts, axis=0)\n",
    "    #Ts = np.take_along_axis(Ts, inds, axis=0)\n",
    "    dA += np.array([1, 1, 1])   * (Ts[2]-(Ts[0]-Ts[1])) * (Ts[2]+(Ts[0]-Ts[1])) * (Ts[0]+(Ts[1]-Ts[2]))\n",
    "    dA += (Ts[0]+(Ts[1]+Ts[2])) * np.array([-1, 1, 1])  * (Ts[2]+(Ts[0]-Ts[1])) * (Ts[0]+(Ts[1]-Ts[2]))\n",
    "    dA += (Ts[0]+(Ts[1]+Ts[2])) * (Ts[2]-(Ts[0]-Ts[1])) * np.array([1, -1, 1])  * (Ts[0]+(Ts[1]-Ts[2]))\n",
    "    dA += (Ts[0]+(Ts[1]+Ts[2])) * (Ts[2]-(Ts[0]-Ts[1])) * (Ts[2]+(Ts[0]-Ts[1])) * np.array([1, 1, -1])\n",
    "\n",
    "    dA /= 48*(sides_area(Ts)+1e-5)\n",
    "    #dA = np.take_along_axis(dA, inds, axis=0)\n",
    "    return dA"
   ]
  },
  {
   "cell_type": "code",
   "execution_count": null,
   "id": "4b45c016",
   "metadata": {},
   "outputs": [
    {
     "name": "stdout",
     "output_type": "stream",
     "text": [
      "[0.45, 0.49, 0.49]\n"
     ]
    }
   ],
   "source": [
    "Ts = np.array([.7, 1.3, sqrt(2)])\n",
    "dTs = np.array([.2, -.2, -.05])\n",
    "\n",
    "areas = [round(x, ndigits=2)\n",
    "         for x in [sides_area(Ts), sides_area(Ts+dTs), sides_area(Ts)+sides_area_jac(Ts).dot(dTs)]]\n",
    "\n",
    "print(areas)\n",
    "assert areas[1] == areas[2]  # to reasonable precision"
   ]
  },
  {
   "cell_type": "code",
   "execution_count": null,
   "id": "f8ee877e",
   "metadata": {},
   "outputs": [],
   "source": [
    "#| export\n",
    "\n",
    "# tension time evolution in triangle with constrained area\n",
    "def excitable_dt(Ts, m=2):\n",
    "    \"\"\"Time derivative of tensions under excitable tension model with constrained area\"\"\"\n",
    "    dT_dt = Ts**m\n",
    "    area_jac = sides_area_jac(Ts)\n",
    "    area_jac /= norm(area_jac)\n",
    "    dT_dt -= area_jac * (area_jac@dT_dt)\n",
    "    return dT_dt"
   ]
  },
  {
   "cell_type": "code",
   "execution_count": null,
   "id": "cdc8d4ba",
   "metadata": {},
   "outputs": [
    {
     "name": "stdout",
     "output_type": "stream",
     "text": [
      "[0.45, 0.45]\n"
     ]
    }
   ],
   "source": [
    "Ts = np.array([.7, 1.3, sqrt(2)])\n",
    "dt = .02\n",
    "dTs = excitable_dt(Ts) * dt\n",
    "\n",
    "areas = [round(x, ndigits=2) for x in [sides_area(Ts), sides_area(Ts+dTs)]]\n",
    "print(areas)\n",
    "assert areas[0] == areas[1]  # to reasonable precision, areas don't change"
   ]
  },
  {
   "cell_type": "code",
   "execution_count": null,
   "id": "73ef4588",
   "metadata": {},
   "outputs": [],
   "source": [
    "def excitable_dt_angles(phi_is, m=2):\n",
    "    \"\"\"Time derivative of angles under excitable tension model with constrained circumcircle\"\"\"\n",
    "    # convert to angles\n",
    "    Ti_rate = sin(phi_is)**(m-1)\n",
    "    second_term = (Ti_rate * tan(phi_is)).sum() / tan(phi_is).sum()\n",
    "    phi_is_dot = tan(phi_is) * (Ti_rate  - second_term)\n",
    "    return phi_is_dot"
   ]
  },
  {
   "cell_type": "markdown",
   "id": "91ef5a41",
   "metadata": {},
   "source": [
    "## To Do:\n",
    "\n",
    "- add `rest` (length) and `flipped` attributes to the `HalfEdge` class, \n",
    "- remove Edge class? Not really required if we simulate based on half edges\n",
    "- add method to compute lengths, angles of `HalfEdges` in `HalfEdgeMesh`"
   ]
  },
  {
   "cell_type": "markdown",
   "id": "b20230b6",
   "metadata": {},
   "source": [
    "## ODE integrator\n",
    "\n",
    "Need to make my own little ODE solver because between ODE steps, we will need to find the real space tessellation. \n",
    "\n",
    "Se Numerical Recipes Chpt. 17. "
   ]
  },
  {
   "cell_type": "code",
   "execution_count": null,
   "id": "06f272ea",
   "metadata": {},
   "outputs": [
    {
     "name": "stdout",
     "output_type": "stream",
     "text": [
      "The solver successfully reached the end of the integration interval.\n"
     ]
    }
   ],
   "source": [
    "## scipy ODE solver for some triangle\n",
    "\n",
    "y0 = np.array([sqrt(2), 1.2, 1])\n",
    "A0 = sides_area(y0)\n",
    "\n",
    "rhs = lambda t, y: excitable_dt(y, m=2)\n",
    "\n",
    "t = np.linspace(0, .7, 100)\n",
    "\n",
    "sol = solve_ivp(rhs, (t[0], t[-1]), y0,  t_eval=t, method=\"RK45\", rtol=1e-4,)\n",
    "print(sol[\"message\"])\n",
    "sol = sol[\"y\"]\n",
    "As = sides_area(sol)\n",
    "angles = sides_angles(sol) * (180/pi)"
   ]
  },
  {
   "cell_type": "code",
   "execution_count": null,
   "id": "08470a6f",
   "metadata": {},
   "outputs": [
    {
     "data": {
      "text/plain": [
       "(0.0, 2.0)"
      ]
     },
     "execution_count": null,
     "metadata": {},
     "output_type": "execute_result"
    },
    {
     "data": {
      "image/png": "[encoded data removed]",
      "text/plain": [
       "<Figure size 432x288 with 1 Axes>"
      ]
     },
     "metadata": {
      "needs_background": "light"
     },
     "output_type": "display_data"
    }
   ],
   "source": [
    "plt.plot(t, As/A0)\n",
    "plt.ylim([0, 2])"
   ]
  },
  {
   "cell_type": "code",
   "execution_count": null,
   "id": "296eee54",
   "metadata": {},
   "outputs": [
    {
     "data": {
      "text/plain": [
       "[<matplotlib.lines.Line2D>]"
      ]
     },
     "execution_count": null,
     "metadata": {},
     "output_type": "execute_result"
    },
    {
     "data": {
      "image/png": "[encoded data removed]",
      "text/plain": [
       "<Figure size 432x288 with 1 Axes>"
      ]
     },
     "metadata": {
      "needs_background": "light"
     },
     "output_type": "display_data"
    }
   ],
   "source": [
    "plt.plot(t, angles[0])\n",
    "plt.plot(t, angles[1])\n",
    "plt.plot(t, angles[2])"
   ]
  },
  {
   "cell_type": "code",
   "execution_count": null,
   "id": "3df8b7da",
   "metadata": {},
   "outputs": [
    {
     "data": {
      "text/plain": [
       "[<matplotlib.lines.Line2D>]"
      ]
     },
     "execution_count": null,
     "metadata": {},
     "output_type": "execute_result"
    },
    {
     "data": {
      "image/png": "[encoded data removed]",
      "text/plain": [
       "<Figure size 432x288 with 1 Axes>"
      ]
     },
     "metadata": {
      "needs_background": "light"
     },
     "output_type": "display_data"
    }
   ],
   "source": [
    "plt.plot(t, sol[0])\n",
    "plt.plot(t, sol[1])\n",
    "plt.plot(t, sol[2])"
   ]
  },
  {
   "cell_type": "code",
   "execution_count": null,
   "id": "477a0634",
   "metadata": {},
   "outputs": [],
   "source": [
    "## naive Euler stepping - looks ok!\n",
    "\n",
    "Ts = [y0,]\n",
    "ts = [0,]\n",
    "\n",
    "dt = .01\n",
    "\n",
    "for i in range(70):\n",
    "    ts.append(ts[-1]+dt)\n",
    "    T_new = Ts[-1]+dt*excitable_dt(Ts[-1], m=2)\n",
    "    Ts.append(T_new)\n",
    "Ts = np.stack(Ts, axis=-1)\n",
    "ts = np.array(ts)"
   ]
  },
  {
   "cell_type": "code",
   "execution_count": null,
   "id": "65e3cdb7",
   "metadata": {},
   "outputs": [
    {
     "data": {
      "text/plain": [
       "[<matplotlib.lines.Line2D>]"
      ]
     },
     "execution_count": null,
     "metadata": {},
     "output_type": "execute_result"
    },
    {
     "data": {
      "image/png": "[encoded data removed]",
      "text/plain": [
       "<Figure size 432x288 with 1 Axes>"
      ]
     },
     "metadata": {
      "needs_background": "light"
     },
     "output_type": "display_data"
    }
   ],
   "source": [
    "plt.plot(ts, Ts[0])\n",
    "plt.plot(ts, Ts[1])\n",
    "plt.plot(ts, Ts[2])"
   ]
  },
  {
   "cell_type": "markdown",
   "id": "dd8e7029",
   "metadata": {},
   "source": [
    "## Create a test Half edge mesh and add a method to calculate internal angles"
   ]
  },
  {
   "cell_type": "code",
   "execution_count": null,
   "id": "56474fa7",
   "metadata": {},
   "outputs": [],
   "source": []
  },
  {
   "cell_type": "code",
   "execution_count": null,
   "id": "02deaac6",
   "metadata": {},
   "outputs": [],
   "source": []
  },
  {
   "cell_type": "code",
   "execution_count": null,
   "id": "edbfeef8",
   "metadata": {},
   "outputs": [],
   "source": []
  },
  {
   "cell_type": "code",
   "execution_count": null,
   "id": "02d991a0",
   "metadata": {},
   "outputs": [],
   "source": []
  },
  {
   "cell_type": "markdown",
   "id": "8830ee76",
   "metadata": {},
   "source": [
    "## Export code"
   ]
  },
  {
   "cell_type": "code",
   "execution_count": null,
   "id": "eb3a6c41",
   "metadata": {},
   "outputs": [],
   "source": [
    "#| hide\n",
    "nbdev.nbdev_export()"
   ]
  }
 ],
 "metadata": {
  "kernelspec": {
   "display_name": "Python 3",
   "language": "python",
   "name": "python3"
  }
 },
 "nbformat": 4,
 "nbformat_minor": 5
}
