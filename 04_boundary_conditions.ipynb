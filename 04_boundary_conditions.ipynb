{
 "cells": [
  {
   "cell_type": "markdown",
   "id": "aa7ebd76",
   "metadata": {},
   "source": [
    "# boundary_conditions\n",
    "\n",
    "> Create slip-wall boundary conditions, create initial conditions for \"primitive streak\" (disk), and \"germ band\" (rectangle), and run simulations with patterned feedback parameter\n"
   ]
  },
  {
   "cell_type": "code",
   "execution_count": null,
   "id": "06b854b0",
   "metadata": {},
   "outputs": [],
   "source": [
    "#| default_exp boundary"
   ]
  },
  {
   "cell_type": "code",
   "execution_count": null,
   "id": "7c870262",
   "metadata": {},
   "outputs": [],
   "source": [
    "#| hide\n",
    "from nbdev.showdoc import *\n",
    "import nbdev"
   ]
  },
  {
   "cell_type": "code",
   "execution_count": null,
   "id": "ebb3b8d2",
   "metadata": {},
   "outputs": [],
   "source": [
    "#| export\n",
    "from CE_simulation.triangle import *\n",
    "from CE_simulation.tension import *\n",
    "from CE_simulation.delaunay import *\n",
    "from CE_simulation.isogonal import *"
   ]
  },
  {
   "cell_type": "code",
   "execution_count": null,
   "id": "83cb5143",
   "metadata": {},
   "outputs": [],
   "source": [
    "#| export\n",
    "import os\n",
    "import sys\n",
    "import importlib\n",
    "\n",
    "import numpy as np\n",
    "import matplotlib.pyplot as plt\n",
    "import matplotlib as mpl\n",
    "\n",
    "from numpy import sin, cos, tan, pi, sqrt, arccos, arctan, arctan2\n",
    "from numpy.linalg import norm\n",
    "\n",
    "from scipy.integrate import solve_ivp\n",
    "from scipy import ndimage\n",
    "from scipy import spatial\n",
    "from scipy import optimize\n",
    "\n",
    "from tqdm.notebook import tqdm\n",
    "\n",
    "from copy import deepcopy\n",
    "\n",
    "from collections import Counter"
   ]
  },
  {
   "cell_type": "code",
   "execution_count": null,
   "id": "7f917c9e",
   "metadata": {},
   "outputs": [],
   "source": [
    "#| export\n",
    "\n",
    "from dataclasses import dataclass\n",
    "from typing import Union, Dict, List, Tuple, Iterable, Callable\n",
    "from nptyping import NDArray, Int, Float, Shape\n",
    "\n",
    "from fastcore.foundation import patch"
   ]
  },
  {
   "cell_type": "code",
   "execution_count": null,
   "id": "a62788ac",
   "metadata": {},
   "outputs": [],
   "source": [
    "#| export\n",
    "\n",
    "import ipywidgets as widgets\n",
    "from matplotlib import animation, rc"
   ]
  },
  {
   "cell_type": "code",
   "execution_count": null,
   "id": "0507fcf8",
   "metadata": {},
   "outputs": [],
   "source": [
    "#| export\n",
    "\n",
    "import autograd.numpy as anp  # Thinly-wrapped numpy\n",
    "from autograd import grad as agrad"
   ]
  },
  {
   "cell_type": "markdown",
   "id": "32f17df1",
   "metadata": {},
   "source": [
    "## Slip walls\n",
    "\n",
    "Two possibilities:\n",
    "1. For walls || to the $x,y$-axis, we can fix the positions of the vertices and leave out the corresponding\n",
    "coordinate from the optimization routine\n",
    "2. For all other, it is probably best to implement a suitable potential trap for the boundary vertices. Else one will have to use constrained constrained minimization algorithms, which is annoying could degrade performance."
   ]
  },
  {
   "cell_type": "code",
   "execution_count": null,
   "id": "51a05b73",
   "metadata": {},
   "outputs": [],
   "source": []
  }
 ],
 "metadata": {
  "kernelspec": {
   "display_name": "Python 3",
   "language": "python",
   "name": "python3"
  }
 },
 "nbformat": 4,
 "nbformat_minor": 5
}
